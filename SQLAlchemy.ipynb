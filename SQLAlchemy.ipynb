{
  "nbformat": 4,
  "nbformat_minor": 0,
  "metadata": {
    "colab": {
      "provenance": [],
      "collapsed_sections": [
        "qMSjyzkyPEZF"
      ],
      "include_colab_link": true
    },
    "kernelspec": {
      "display_name": "Python 3",
      "language": "python",
      "name": "python3"
    },
    "language_info": {
      "codemirror_mode": {
        "name": "ipython",
        "version": 3
      },
      "file_extension": ".py",
      "mimetype": "text/x-python",
      "name": "python",
      "nbconvert_exporter": "python",
      "pygments_lexer": "ipython3",
      "version": "3.6.5"
    }
  },
  "cells": [
    {
      "cell_type": "markdown",
      "metadata": {
        "id": "view-in-github",
        "colab_type": "text"
      },
      "source": [
        "<a href=\"https://colab.research.google.com/github/alin2025/My_Code_Example/blob/main/SQLAlchemy.ipynb\" target=\"_parent\"><img src=\"https://colab.research.google.com/assets/colab-badge.svg\" alt=\"Open In Colab\"/></a>"
      ]
    },
    {
      "cell_type": "code",
      "metadata": {
        "id": "zblNDDBlGQzV"
      },
      "source": [
        "import pandas as pd\n",
        "from sqlalchemy import create_engine, Table, MetaData, Column, Integer, String, Float,inspect\n",
        "from sqlalchemy import select, desc\n",
        "from sqlalchemy.sql import func,text\n",
        "import sqlalchemy"
      ],
      "execution_count": 122,
      "outputs": []
    },
    {
      "cell_type": "markdown",
      "metadata": {
        "id": "-GK7eCNV_cJK"
      },
      "source": [
        "> **Reference:** [Excellent SQLAlchemy tutorial with examples by Vinay Kudari](https://towardsdatascience.com/sqlalchemy-python-tutorial-79a577141a91)"
      ]
    },
    {
      "cell_type": "markdown",
      "metadata": {
        "id": "gORWqKlwGQzf"
      },
      "source": [
        "# SQLAlchemy basic concepts"
      ]
    },
    {
      "cell_type": "markdown",
      "metadata": {
        "id": "gI3s4DZ-GQzj"
      },
      "source": [
        "[**SQLAlchemy**](http://docs.sqlalchemy.org/en/latest/core/engines.html) provides a nice “Pythonic” way of interacting with databases. So rather than dealing with the differences between specific dialects of traditional SQL such as MySQL or PostgreSQL or Oracle, you can leverage the Pythonic framework of SQLAlchemy to streamline your workflow and more efficiently query your data."
      ]
    },
    {
      "cell_type": "markdown",
      "metadata": {
        "id": "j_bzChTj3dKy"
      },
      "source": [
        "In this example we will interact with an [**SQLite**](http://www.sqlitetutorial.net/) database, which is a C library that provides a lightweight disk-based database. We will work in front of an existing DB called [`chinook`](http://www.sqlitetutorial.net/sqlite-sample-database)."
      ]
    },
    {
      "cell_type": "markdown",
      "metadata": {
        "id": "yJSiHUhIGQzl"
      },
      "source": [
        "## Engine"
      ]
    },
    {
      "cell_type": "markdown",
      "metadata": {
        "id": "wahXytpDGQzo"
      },
      "source": [
        "[Engine](http://docs.sqlalchemy.org/en/latest/core/connections.html#sqlalchemy.engine.Engine) is the most fundamental object of SQLAlchemy, and it defines the database we work with."
      ]
    },
    {
      "cell_type": "code",
      "metadata": {
        "id": "iGBnMCAYGQzq"
      },
      "source": [
        "engine = sqlalchemy.create_engine('sqlite:///chinook.db', echo=False)"
      ],
      "execution_count": 123,
      "outputs": []
    },
    {
      "cell_type": "code",
      "metadata": {
        "colab": {
          "base_uri": "https://localhost:8080/"
        },
        "id": "WBkmdR4BnBh0",
        "outputId": "6e7927aa-7051-49ab-b6bd-c444828bc608"
      },
      "source": [
        "Inspector=inspect(engine)\n",
        "Inspector.get_table_names()"
      ],
      "execution_count": 124,
      "outputs": [
        {
          "output_type": "execute_result",
          "data": {
            "text/plain": [
              "['albums',\n",
              " 'artists',\n",
              " 'customers',\n",
              " 'employees',\n",
              " 'genres',\n",
              " 'invoice_items',\n",
              " 'invoices',\n",
              " 'media_types',\n",
              " 'playlist_track',\n",
              " 'playlists',\n",
              " 'tracks']"
            ]
          },
          "metadata": {},
          "execution_count": 124
        }
      ]
    },
    {
      "cell_type": "markdown",
      "metadata": {
        "id": "1X8pONBr7iov"
      },
      "source": [
        "## MetaData"
      ]
    },
    {
      "cell_type": "markdown",
      "metadata": {
        "id": "6076p7xu3n9h"
      },
      "source": [
        "Database tables in SQLAlchemy belong (are linked to) a [metadata](https://docs.sqlalchemy.org/en/13/core/connections.html#connectionless-execution-implicit-execution) object."
      ]
    },
    {
      "cell_type": "code",
      "metadata": {
        "id": "uX9u6yTWGQzt"
      },
      "source": [
        "metadata = sqlalchemy.MetaData()"
      ],
      "execution_count": 62,
      "outputs": []
    },
    {
      "cell_type": "code",
      "source": [
        "metadata.tables.keys()"
      ],
      "metadata": {
        "colab": {
          "base_uri": "https://localhost:8080/"
        },
        "id": "IlHqm7UFuTO_",
        "outputId": "cede4d92-ca1a-468a-d94e-20b44fa4410a"
      },
      "execution_count": 65,
      "outputs": [
        {
          "output_type": "execute_result",
          "data": {
            "text/plain": [
              "dict_keys(['albums', 'artists'])"
            ]
          },
          "metadata": {},
          "execution_count": 65
        }
      ]
    },
    {
      "cell_type": "markdown",
      "metadata": {
        "id": "fPueEXwWxoAg"
      },
      "source": [
        "## [`Table`](https://docs.sqlalchemy.org/en/13/core/metadata.html#sqlalchemy.schema.Table)"
      ]
    },
    {
      "cell_type": "code",
      "metadata": {
        "id": "sPQ8V_x-E9xP"
      },
      "source": [
        "albums = Table('albums', metadata, autoload_with=engine)"
      ],
      "execution_count": 64,
      "outputs": []
    },
    {
      "cell_type": "code",
      "metadata": {
        "colab": {
          "base_uri": "https://localhost:8080/"
        },
        "id": "w326JPEqeTLL",
        "outputId": "0b4609ef-ff5e-4a80-a267-75f4e2f03c36"
      },
      "source": [
        "type(albums)"
      ],
      "execution_count": 66,
      "outputs": [
        {
          "output_type": "execute_result",
          "data": {
            "text/plain": [
              "sqlalchemy.sql.schema.Table"
            ]
          },
          "metadata": {},
          "execution_count": 66
        }
      ]
    },
    {
      "cell_type": "code",
      "metadata": {
        "colab": {
          "base_uri": "https://localhost:8080/"
        },
        "id": "xjyJJCYAFDZy",
        "outputId": "52114f21-25c3-43db-a634-46bc72071ba8"
      },
      "source": [
        "albums.c.keys()"
      ],
      "execution_count": 67,
      "outputs": [
        {
          "output_type": "execute_result",
          "data": {
            "text/plain": [
              "['AlbumId', 'Title', 'ArtistId']"
            ]
          },
          "metadata": {},
          "execution_count": 67
        }
      ]
    },
    {
      "cell_type": "code",
      "source": [
        "metadata.tables"
      ],
      "metadata": {
        "colab": {
          "base_uri": "https://localhost:8080/"
        },
        "id": "yZ8QqbD05Cm2",
        "outputId": "bd1b85ce-9a6f-4817-b465-298bac4368cf"
      },
      "execution_count": 68,
      "outputs": [
        {
          "output_type": "execute_result",
          "data": {
            "text/plain": [
              "FacadeDict({'albums': Table('albums', MetaData(), Column('AlbumId', INTEGER(), table=<albums>, primary_key=True, nullable=False), Column('Title', NVARCHAR(length=160), table=<albums>, nullable=False), Column('ArtistId', INTEGER(), ForeignKey('artists.ArtistId'), table=<albums>, nullable=False), schema=None), 'artists': Table('artists', MetaData(), Column('ArtistId', INTEGER(), table=<artists>, primary_key=True, nullable=False), Column('Name', NVARCHAR(length=120), table=<artists>), schema=None)})"
            ]
          },
          "metadata": {},
          "execution_count": 68
        }
      ]
    },
    {
      "cell_type": "markdown",
      "metadata": {
        "id": "MNitxtdHeN-9"
      },
      "source": [
        "> **Discussion:** What is the difference between Python's Table and SQL's Table? Mention the concept of DB API."
      ]
    },
    {
      "cell_type": "markdown",
      "metadata": {
        "id": "j_S0I2lyfH29"
      },
      "source": [
        "## Connection"
      ]
    },
    {
      "cell_type": "markdown",
      "metadata": {
        "id": "hRRNjenlGQz2"
      },
      "source": [
        "The `connect()` method returns a [*Connection*][con] object, through which we can send commands to the database.\n",
        "\n",
        "[con]: http://docs.sqlalchemy.org/en/latest/core/connections.html#sqlalchemy.engine.Connection \"Connection docs\""
      ]
    },
    {
      "cell_type": "code",
      "metadata": {
        "id": "dymsSIRpfJM7"
      },
      "source": [
        "conn = engine.connect()"
      ],
      "execution_count": 93,
      "outputs": []
    },
    {
      "cell_type": "markdown",
      "metadata": {
        "id": "GeGxFoJ3_xeb"
      },
      "source": [
        "# Executing DB operations"
      ]
    },
    {
      "cell_type": "markdown",
      "metadata": {
        "id": "4KGf0HpHArLE"
      },
      "source": [
        "Using SQLAlchemy, the `Connection`'s [`execute(object_)`](https://docs.sqlalchemy.org/en/13/core/connections.html#sqlalchemy.engine.Connection.execute) method executes SQL commands in 2 optional ways, either by sending explicit SQL commands, or by wrapping them with Pythonic objects."
      ]
    },
    {
      "cell_type": "markdown",
      "metadata": {
        "id": "uF1rJxxaD4JI"
      },
      "source": [
        "## SQL statements"
      ]
    },
    {
      "cell_type": "markdown",
      "metadata": {
        "id": "Y9RTi6O6EJ9M"
      },
      "source": [
        "A straight-forward approach would be to use our connection and \"send\" SQL commands."
      ]
    },
    {
      "cell_type": "code",
      "metadata": {
        "id": "RSFQqsNAcw-D"
      },
      "source": [
        "query = text('''\n",
        "SELECT * FROM albums\n",
        "WHERE Title LIKE '%the best of%'\n",
        "''')"
      ],
      "execution_count": 70,
      "outputs": []
    },
    {
      "cell_type": "code",
      "metadata": {
        "id": "l38tMIf5I7RE"
      },
      "source": [
        "result = conn.execute(query)"
      ],
      "execution_count": 71,
      "outputs": []
    },
    {
      "cell_type": "code",
      "metadata": {
        "colab": {
          "base_uri": "https://localhost:8080/"
        },
        "id": "s8qekcoBwl6A",
        "outputId": "37bb78d5-277b-434d-ea54-3e4877ffeb58"
      },
      "source": [
        "type(result)"
      ],
      "execution_count": 72,
      "outputs": [
        {
          "output_type": "execute_result",
          "data": {
            "text/plain": [
              "sqlalchemy.engine.cursor.CursorResult"
            ]
          },
          "metadata": {},
          "execution_count": 72
        }
      ]
    },
    {
      "cell_type": "markdown",
      "metadata": {
        "id": "a5K9-b14FT93"
      },
      "source": [
        "> **Note:** This is the one place Python is case insensitive..."
      ]
    },
    {
      "cell_type": "markdown",
      "metadata": {
        "id": "j0w4_MhdE907"
      },
      "source": [
        "The result is a [`ResultProxy`](https://docs.sqlalchemy.org/en/13/core/connections.html#sqlalchemy.engine.ResultProxy). which is an iterator."
      ]
    },
    {
      "cell_type": "code",
      "metadata": {
        "colab": {
          "base_uri": "https://localhost:8080/"
        },
        "id": "KuV-VFf_FHZz",
        "outputId": "298764ae-6fc9-42c4-c39d-12d28d0a356a"
      },
      "source": [
        "result.fetchmany(5)"
      ],
      "execution_count": 73,
      "outputs": [
        {
          "output_type": "execute_result",
          "data": {
            "text/plain": [
              "[(13, 'The Best Of Billy Cobham', 10),\n",
              " (20, 'The Best Of Buddy Guy - The Millenium Collection', 15),\n",
              " (47, 'The Best of Ed Motta', 37),\n",
              " (61, \"Knocking at Your Back Door: The Best Of Deep Purple in the 80's\", 58),\n",
              " (83, 'My Way: The Best Of Frank Sinatra [Disc 1]', 85)]"
            ]
          },
          "metadata": {},
          "execution_count": 73
        }
      ]
    },
    {
      "cell_type": "markdown",
      "metadata": {
        "id": "h9x5ljSSFvxK"
      },
      "source": [
        "> **Note:** `ResultProxy` is an iterator. What will happen if we run `fetchmany()` again?"
      ]
    },
    {
      "cell_type": "markdown",
      "metadata": {
        "id": "QtduMSXzF8P3"
      },
      "source": [
        "> **Discussion:** To execute queries this way you have to be proficient in SQL. Pros and cons..."
      ]
    },
    {
      "cell_type": "markdown",
      "metadata": {
        "id": "Rp02zAS6haJ_"
      },
      "source": [
        "## [`ClauseElement`](https://docs.sqlalchemy.org/en/latest/core/sqlelement.html#sqlalchemy.sql.expression.ClauseElement)"
      ]
    },
    {
      "cell_type": "markdown",
      "metadata": {
        "id": "JOSViv9gGakn"
      },
      "source": [
        "**The power of an API lies in its objects**, and SQLAlchemy provides \"Pythonic\" objects to represent SQL functionalities. More specifically, we will be interested in  [`FromClause`](https://docs.sqlalchemy.org/en/13/core/selectable.html#sqlalchemy.sql.expression.FromClause) elements."
      ]
    },
    {
      "cell_type": "markdown",
      "metadata": {
        "id": "IW42Dpa1eZZb"
      },
      "source": [
        "> **Reference:** More information about the available expressions (virtually most of SQL functionality) can be found in this [SQL expression language tutorial by SQLAlchemy](https://docs.sqlalchemy.org/en/13/core/tutorial.html#sql-expression-language-tutorial)."
      ]
    },
    {
      "cell_type": "markdown",
      "metadata": {
        "id": "6YqzU3OLcFCI"
      },
      "source": [
        "### Example 1 - select"
      ]
    },
    {
      "cell_type": "markdown",
      "metadata": {
        "id": "cIYyKzxFE5_E"
      },
      "source": [
        "**Task - Show the names of the employees and their job title.**"
      ]
    },
    {
      "cell_type": "markdown",
      "metadata": {
        "id": "he5F5YkmdFDR"
      },
      "source": [
        "We will demonstrate the API with the [`select()`](https://docs.sqlalchemy.org/en/13/core/selectable.html#sqlalchemy.sql.expression.select) method, which returns a [`Select`](https://docs.sqlalchemy.org/en/13/core/selectable.html?highlight=select#sqlalchemy.sql.expression.Select) object."
      ]
    },
    {
      "cell_type": "markdown",
      "metadata": {
        "id": "zgzoj3bq_NlA"
      },
      "source": [
        "Let's demonstrate with the *employees* table."
      ]
    },
    {
      "cell_type": "code",
      "metadata": {
        "id": "RnCzbJF3-4F5"
      },
      "source": [
        "employees = Table('employees', metadata, autoload_with=engine)"
      ],
      "execution_count": 74,
      "outputs": []
    },
    {
      "cell_type": "code",
      "source": [
        "metadata.tables.keys()"
      ],
      "metadata": {
        "id": "VdacvmicClEW",
        "outputId": "a48af559-80b3-4fdf-c517-4d859bc14071",
        "colab": {
          "base_uri": "https://localhost:8080/"
        }
      },
      "execution_count": 88,
      "outputs": [
        {
          "output_type": "execute_result",
          "data": {
            "text/plain": [
              "dict_keys(['albums', 'artists', 'employees'])"
            ]
          },
          "metadata": {},
          "execution_count": 88
        }
      ]
    },
    {
      "cell_type": "code",
      "source": [
        "type(employees)"
      ],
      "metadata": {
        "colab": {
          "base_uri": "https://localhost:8080/"
        },
        "id": "hN4W1emaFDgX",
        "outputId": "8f7e6d16-d525-45e9-8a60-c5251596c7b5"
      },
      "execution_count": null,
      "outputs": [
        {
          "output_type": "execute_result",
          "data": {
            "text/plain": [
              "sqlalchemy.sql.schema.Table"
            ]
          },
          "metadata": {},
          "execution_count": 51
        }
      ]
    },
    {
      "cell_type": "markdown",
      "metadata": {
        "id": "y5U2GeDL_aSw"
      },
      "source": [
        "When we create a `select()` construct, SQLAlchemy looks around at the tables we’ve mentioned and then places them in the FROM clause of the statement. We can select the entire table or specific columns."
      ]
    },
    {
      "cell_type": "code",
      "metadata": {
        "id": "REx_K1PFJE1Q"
      },
      "source": [
        "query = sqlalchemy.select(employees)\n",
        "\n",
        "\n",
        "#query = select([employees.c.EmployeeId, employees.c.FirstName, employees.c.LastName, employees.c.Title])\n",
        "\n",
        "# query = select(\n",
        "#     employees.c.EmployeeId,\n",
        "#     employees.c.FirstName,\n",
        "#     employees.c.LastName,\n",
        "#     employees.c.Title\n",
        "# )"
      ],
      "execution_count": 76,
      "outputs": []
    },
    {
      "cell_type": "code",
      "metadata": {
        "colab": {
          "base_uri": "https://localhost:8080/"
        },
        "id": "FKnYSJCexkb6",
        "outputId": "f0e945d9-2152-4de2-d658-0e055c311ee7"
      },
      "source": [
        "type(query)"
      ],
      "execution_count": null,
      "outputs": [
        {
          "output_type": "execute_result",
          "data": {
            "text/plain": [
              "sqlalchemy.sql.selectable.Select"
            ]
          },
          "metadata": {},
          "execution_count": 53
        }
      ]
    },
    {
      "cell_type": "markdown",
      "metadata": {
        "id": "VD5ziwFKButj"
      },
      "source": [
        "> **Discussion:** Discuss the [`Select`](https://docs.sqlalchemy.org/en/13/core/selectable.html?highlight=select#sqlalchemy.sql.expression.Select) object and its available properties."
      ]
    },
    {
      "cell_type": "code",
      "metadata": {
        "colab": {
          "base_uri": "https://localhost:8080/"
        },
        "id": "94atcBdaVFje",
        "outputId": "746f7c3c-05f0-4206-e0b4-1ac66adfeaaa"
      },
      "source": [
        "print(str(query))"
      ],
      "execution_count": 77,
      "outputs": [
        {
          "output_type": "stream",
          "name": "stdout",
          "text": [
            "SELECT employees.\"EmployeeId\", employees.\"LastName\", employees.\"FirstName\", employees.\"Title\", employees.\"ReportsTo\", employees.\"BirthDate\", employees.\"HireDate\", employees.\"Address\", employees.\"City\", employees.\"State\", employees.\"Country\", employees.\"PostalCode\", employees.\"Phone\", employees.\"Fax\", employees.\"Email\" \n",
            "FROM employees\n"
          ]
        }
      ]
    },
    {
      "cell_type": "code",
      "metadata": {
        "id": "hoNMsf1iJzYN"
      },
      "source": [
        "result = conn.execute(query)"
      ],
      "execution_count": 78,
      "outputs": []
    },
    {
      "cell_type": "code",
      "source": [
        "type(result)"
      ],
      "metadata": {
        "colab": {
          "base_uri": "https://localhost:8080/"
        },
        "id": "paQi7adiFiHI",
        "outputId": "b46f6804-6d59-4117-9901-3276fc423519"
      },
      "execution_count": null,
      "outputs": [
        {
          "output_type": "execute_result",
          "data": {
            "text/plain": [
              "sqlalchemy.engine.cursor.CursorResult"
            ]
          },
          "metadata": {},
          "execution_count": 56
        }
      ]
    },
    {
      "cell_type": "code",
      "metadata": {
        "id": "1WXPIKf6J5aW",
        "outputId": "e2072ada-cf37-4812-b49e-45ea66385d77",
        "colab": {
          "base_uri": "https://localhost:8080/"
        }
      },
      "source": [
        "result.fetchall()"
      ],
      "execution_count": 79,
      "outputs": [
        {
          "output_type": "execute_result",
          "data": {
            "text/plain": [
              "[(1, 'Adams', 'Andrew', 'General Manager', None, datetime.datetime(1962, 2, 18, 0, 0), datetime.datetime(2002, 8, 14, 0, 0), '11120 Jasper Ave NW', 'Edmonton', 'AB', 'Canada', 'T5K 2N1', '+1 (780) 428-9482', '+1 (780) 428-3457', 'andrew@chinookcorp.com'),\n",
              " (2, 'Edwards', 'Nancy', 'Sales Manager', 1, datetime.datetime(1958, 12, 8, 0, 0), datetime.datetime(2002, 5, 1, 0, 0), '825 8 Ave SW', 'Calgary', 'AB', 'Canada', 'T2P 2T3', '+1 (403) 262-3443', '+1 (403) 262-3322', 'nancy@chinookcorp.com'),\n",
              " (3, 'Peacock', 'Jane', 'Sales Support Agent', 2, datetime.datetime(1973, 8, 29, 0, 0), datetime.datetime(2002, 4, 1, 0, 0), '1111 6 Ave SW', 'Calgary', 'AB', 'Canada', 'T2P 5M5', '+1 (403) 262-3443', '+1 (403) 262-6712', 'jane@chinookcorp.com'),\n",
              " (4, 'Park', 'Margaret', 'Sales Support Agent', 2, datetime.datetime(1947, 9, 19, 0, 0), datetime.datetime(2003, 5, 3, 0, 0), '683 10 Street SW', 'Calgary', 'AB', 'Canada', 'T2P 5G3', '+1 (403) 263-4423', '+1 (403) 263-4289', 'margaret@chinookcorp.com'),\n",
              " (5, 'Johnson', 'Steve', 'Sales Support Agent', 2, datetime.datetime(1965, 3, 3, 0, 0), datetime.datetime(2003, 10, 17, 0, 0), '7727B 41 Ave', 'Calgary', 'AB', 'Canada', 'T3B 1Y7', '1 (780) 836-9987', '1 (780) 836-9543', 'steve@chinookcorp.com'),\n",
              " (6, 'Mitchell', 'Michael', 'IT Manager', 1, datetime.datetime(1973, 7, 1, 0, 0), datetime.datetime(2003, 10, 17, 0, 0), '5827 Bowness Road NW', 'Calgary', 'AB', 'Canada', 'T3B 0C5', '+1 (403) 246-9887', '+1 (403) 246-9899', 'michael@chinookcorp.com'),\n",
              " (7, 'King', 'Robert', 'IT Staff', 6, datetime.datetime(1970, 5, 29, 0, 0), datetime.datetime(2004, 1, 2, 0, 0), '590 Columbia Boulevard West', 'Lethbridge', 'AB', 'Canada', 'T1K 5N8', '+1 (403) 456-9986', '+1 (403) 456-8485', 'robert@chinookcorp.com'),\n",
              " (8, 'Callahan', 'Laura', 'IT Staff', 6, datetime.datetime(1968, 1, 9, 0, 0), datetime.datetime(2004, 3, 4, 0, 0), '923 7 ST NW', 'Lethbridge', 'AB', 'Canada', 'T1H 1Y8', '+1 (403) 467-3351', '+1 (403) 467-8772', 'laura@chinookcorp.com')]"
            ]
          },
          "metadata": {},
          "execution_count": 79
        }
      ]
    },
    {
      "cell_type": "markdown",
      "metadata": {
        "id": "5cLiwn6PcIii"
      },
      "source": [
        "### Example 2 - select-where"
      ]
    },
    {
      "cell_type": "markdown",
      "metadata": {
        "id": "T0VOjZ4aFLSg"
      },
      "source": [
        "**Task - Show the names of the albums which contain the phrase \"The best of\"**."
      ]
    },
    {
      "cell_type": "markdown",
      "metadata": {
        "id": "KFim22148_ux"
      },
      "source": [
        "We can use the `whereclause` argument of `select()`"
      ]
    },
    {
      "cell_type": "code",
      "metadata": {
        "id": "0r8E7tcAGRNU"
      },
      "source": [
        "query = select(\n",
        "    albums.c.Title\n",
        ").where(\n",
        "    albums.c.Title.like('%the best of%')\n",
        ")"
      ],
      "execution_count": 80,
      "outputs": []
    },
    {
      "cell_type": "markdown",
      "metadata": {
        "id": "c_xUgXSr9HOr"
      },
      "source": [
        "Alternatively, we can use the `where()` method of the `Select` object."
      ]
    },
    {
      "cell_type": "code",
      "metadata": {
        "id": "JwHqv-u09Zou"
      },
      "source": [
        "query = select(albums).where(albums.columns.Title.like('%the best of%'))"
      ],
      "execution_count": null,
      "outputs": []
    },
    {
      "cell_type": "code",
      "metadata": {
        "id": "ZJL9tRuvGRPv"
      },
      "source": [
        "result = conn.execute(query)"
      ],
      "execution_count": 81,
      "outputs": []
    },
    {
      "cell_type": "code",
      "metadata": {
        "colab": {
          "base_uri": "https://localhost:8080/"
        },
        "id": "OXqsTIcEGRWU",
        "outputId": "d164b7e4-63da-4c15-c1e8-cabd8cc3b562"
      },
      "source": [
        "result.fetchmany(5)"
      ],
      "execution_count": 82,
      "outputs": [
        {
          "output_type": "execute_result",
          "data": {
            "text/plain": [
              "[('The Best Of Billy Cobham',),\n",
              " ('The Best Of Buddy Guy - The Millenium Collection',),\n",
              " ('The Best of Ed Motta',),\n",
              " (\"Knocking at Your Back Door: The Best Of Deep Purple in the 80's\",),\n",
              " ('My Way: The Best Of Frank Sinatra [Disc 1]',)]"
            ]
          },
          "metadata": {},
          "execution_count": 82
        }
      ]
    },
    {
      "cell_type": "markdown",
      "metadata": {
        "id": "yirqTJMiiLkk"
      },
      "source": [
        "### Example 3 - join"
      ]
    },
    {
      "cell_type": "markdown",
      "metadata": {
        "id": "dJAPCuE-FjnH"
      },
      "source": [
        "**Task - Show the names of all the albums and their artists.**"
      ]
    },
    {
      "cell_type": "code",
      "metadata": {
        "id": "aUZRoelwifYJ"
      },
      "source": [
        "artists = Table('artists', metadata, autoload_with=engine)\n",
        "albums = Table('albums', metadata, autoload_with=engine)"
      ],
      "execution_count": 87,
      "outputs": []
    },
    {
      "cell_type": "markdown",
      "metadata": {
        "id": "JhqhVnPKJlIq"
      },
      "source": [
        "We use the [`join()`](https://docs.sqlalchemy.org/en/13/core/metadata.html?highlight=join#sqlalchemy.schema.Table.join) method."
      ]
    },
    {
      "cell_type": "code",
      "metadata": {
        "id": "A7zNJQOriRWl"
      },
      "source": [
        "join_stmt = artists.join(albums, artists.c.ArtistId == albums.c.ArtistId)"
      ],
      "execution_count": 84,
      "outputs": []
    },
    {
      "cell_type": "code",
      "metadata": {
        "colab": {
          "base_uri": "https://localhost:8080/"
        },
        "id": "4262WDhBGeFF",
        "outputId": "a1d87d15-ed15-4a58-e250-1089202472ce"
      },
      "source": [
        "print(type(join_stmt))"
      ],
      "execution_count": 85,
      "outputs": [
        {
          "output_type": "stream",
          "name": "stdout",
          "text": [
            "<class 'sqlalchemy.sql.selectable.Join'>\n"
          ]
        }
      ]
    },
    {
      "cell_type": "markdown",
      "metadata": {
        "id": "GLp55BhXDJM4"
      },
      "source": [
        "> **Note:** Both `select()` and `join()` are special cases of the more general [`FromClause`](https://docs.sqlalchemy.org/en/13/core/selectable.html#sqlalchemy.sql.expression.FromClause) class, which basically means they can be used within the FROM clause of a SELECT statement. This can be illustrated by looking at\n",
        "\n",
        ">> `join_stmt.c.keys()`\n",
        "\n",
        ">> `conn.execute(select([join_stmt])).fetchmany(5)`"
      ]
    },
    {
      "cell_type": "markdown",
      "metadata": {
        "id": "_PCif0w_I5QG"
      },
      "source": [
        "Now we can select from this Join object."
      ]
    },
    {
      "cell_type": "code",
      "source": [
        "import sqlalchemy\n",
        "from sqlalchemy import select, join\n",
        "\n",
        "# Create the engine\n",
        "engine = sqlalchemy.create_engine('sqlite:///chinook.db', echo=False)\n",
        "\n",
        "# Define the metadata\n",
        "metadata = sqlalchemy.MetaData()\n",
        "\n",
        "# Reflect the tables\n",
        "metadata.reflect(bind=engine)\n",
        "\n",
        "# Get the 'albums' and 'artists' tables from metadata\n",
        "albums = metadata.tables['albums']\n",
        "artists = metadata.tables['artists']\n",
        "\n",
        "# Define the join condition\n",
        "join_stmt = join(albums, artists, albums.c.ArtistId == artists.c.ArtistId)\n",
        "\n",
        "# Establish a connection\n",
        "conn = engine.connect()\n",
        "\n",
        "# Define the query to select columns from both tables and join them\n",
        "query = select(\n",
        "    albums.c.Title,\n",
        "    artists.c.Name\n",
        ").select_from(\n",
        "    join_stmt\n",
        ")\n",
        "\n",
        "# Execute the query on the connection\n",
        "result = conn.execute(query)\n",
        "\n",
        "# Fetch the results\n",
        "for row in result:\n",
        "    print(row)\n",
        "\n",
        "# Close the connection\n",
        "conn.close()\n"
      ],
      "metadata": {
        "id": "buQk1tibFJ-_"
      },
      "execution_count": null,
      "outputs": []
    },
    {
      "cell_type": "markdown",
      "metadata": {
        "id": "sxb9xq2K4SW7"
      },
      "source": [
        "Alternatively, when we use JOINs we know what FROM clause we want, so here we make use of the [`select_from()`](https://docs.sqlalchemy.org/en/13/core/selectable.html?highlight=select_from#sqlalchemy.sql.expression.Select.select_from) method."
      ]
    },
    {
      "cell_type": "code",
      "metadata": {
        "id": "mCONYYK2GRa4"
      },
      "source": [
        "query = select(albums.c.Title, artists.c.Name).select_from(join_stmt)"
      ],
      "execution_count": 90,
      "outputs": []
    },
    {
      "cell_type": "code",
      "metadata": {
        "colab": {
          "base_uri": "https://localhost:8080/"
        },
        "id": "noIRdMKjVOGh",
        "outputId": "0a1811e1-4ff9-42b6-d7ad-e8397cb4b224"
      },
      "source": [
        "print(str(query))"
      ],
      "execution_count": 91,
      "outputs": [
        {
          "output_type": "stream",
          "name": "stdout",
          "text": [
            "SELECT albums.\"Title\", artists.\"Name\" \n",
            "FROM albums JOIN artists ON albums.\"ArtistId\" = artists.\"ArtistId\"\n"
          ]
        }
      ]
    },
    {
      "cell_type": "code",
      "metadata": {
        "id": "5vZnoYKFGRdO"
      },
      "source": [
        "result = conn.execute(query)"
      ],
      "execution_count": 94,
      "outputs": []
    },
    {
      "cell_type": "code",
      "metadata": {
        "colab": {
          "base_uri": "https://localhost:8080/"
        },
        "id": "PcKFi4VCjGst",
        "outputId": "755fe26e-da8b-4525-d6b1-56aed1755371"
      },
      "source": [
        "result.fetchmany(5)"
      ],
      "execution_count": null,
      "outputs": [
        {
          "output_type": "execute_result",
          "data": {
            "text/plain": [
              "[('For Those About To Rock We Salute You', 'AC/DC'),\n",
              " ('Balls to the Wall', 'Accept'),\n",
              " ('Restless and Wild', 'Accept'),\n",
              " ('Let There Be Rock', 'AC/DC'),\n",
              " ('Big Ones', 'Aerosmith')]"
            ]
          },
          "metadata": {},
          "execution_count": 84
        }
      ]
    },
    {
      "cell_type": "markdown",
      "metadata": {
        "id": "KEweNNnB6i_X"
      },
      "source": [
        "### Example 4 - Group By and SQL functions"
      ]
    },
    {
      "cell_type": "markdown",
      "metadata": {
        "id": "Ag2-zflyKZyM"
      },
      "source": [
        "**Task - Show for each customer (name) the number of invoinces they had.**"
      ]
    },
    {
      "cell_type": "markdown",
      "metadata": {
        "id": "KdwtP4jf6nau"
      },
      "source": [
        "> **Reference:** Very often we wish to apply a function on the data. Built-in SQL functions are available through the [`func` module](https://docs.sqlalchemy.org/en/13/core/tutorial.html#functions)."
      ]
    },
    {
      "cell_type": "markdown",
      "metadata": {
        "id": "BGW7sc_T16YC"
      },
      "source": [
        "See here details about the [`group_by()`](https://docs.sqlalchemy.org/en/13/core/tutorial.html#ordering-grouping-limiting-offset-ing) method."
      ]
    },
    {
      "cell_type": "code",
      "metadata": {
        "id": "1qmXJBBN92fx"
      },
      "source": [
        "invoices = Table('invoices', metadata, autoload_with=engine)\n",
        "customers = Table('customers', metadata, autoload_with=engine)"
      ],
      "execution_count": 96,
      "outputs": []
    },
    {
      "cell_type": "code",
      "source": [
        "metadata.tables.keys()"
      ],
      "metadata": {
        "id": "Z20ASEJUTf63",
        "outputId": "3a287eac-9e0e-4db5-e8c3-11c614f07a71",
        "colab": {
          "base_uri": "https://localhost:8080/"
        }
      },
      "execution_count": 97,
      "outputs": [
        {
          "output_type": "execute_result",
          "data": {
            "text/plain": [
              "dict_keys(['albums', 'artists', 'customers', 'employees', 'genres', 'invoice_items', 'tracks', 'media_types', 'invoices', 'playlist_track', 'playlists'])"
            ]
          },
          "metadata": {},
          "execution_count": 97
        }
      ]
    },
    {
      "cell_type": "markdown",
      "metadata": {
        "id": "_-gVjHWxK0Kg"
      },
      "source": [
        "Let's try first without the names of the customers."
      ]
    },
    {
      "cell_type": "code",
      "metadata": {
        "id": "TT_gRSlYC-k8"
      },
      "source": [
        "query = select(invoices.c.CustomerId, func.count(invoices.c.InvoiceId))\\\n",
        "            .select_from(invoices)\\\n",
        "            .group_by(invoices.c.CustomerId)"
      ],
      "execution_count": 99,
      "outputs": []
    },
    {
      "cell_type": "code",
      "metadata": {
        "colab": {
          "base_uri": "https://localhost:8080/"
        },
        "id": "gfbx8fYU0LXM",
        "outputId": "1ce66565-aca6-4eb3-d72e-90d306da093b"
      },
      "source": [
        "print(str(query))"
      ],
      "execution_count": 100,
      "outputs": [
        {
          "output_type": "stream",
          "name": "stdout",
          "text": [
            "SELECT invoices.\"CustomerId\", count(invoices.\"InvoiceId\") AS count_1 \n",
            "FROM invoices GROUP BY invoices.\"CustomerId\"\n"
          ]
        }
      ]
    },
    {
      "cell_type": "code",
      "metadata": {
        "colab": {
          "base_uri": "https://localhost:8080/"
        },
        "id": "l3k2A_0UEf6Q",
        "outputId": "5e85e57a-0deb-48fb-f80a-326e422923c7"
      },
      "source": [
        "conn.execute(query).fetchmany(5)"
      ],
      "execution_count": 102,
      "outputs": [
        {
          "output_type": "execute_result",
          "data": {
            "text/plain": [
              "[(1, 7), (2, 7), (3, 7), (4, 7), (5, 7)]"
            ]
          },
          "metadata": {},
          "execution_count": 102
        }
      ]
    },
    {
      "cell_type": "markdown",
      "metadata": {
        "id": "Wj3zlPXaK8ps"
      },
      "source": [
        "And now with the names."
      ]
    },
    {
      "cell_type": "code",
      "metadata": {
        "id": "yqECaDWmD3s7"
      },
      "source": [
        "query = select(customers.c.FirstName + \" \" + customers.c.LastName, func.count(invoices.c.InvoiceId))\\\n",
        "            .select_from(invoices.join(customers, invoices.c.CustomerId == customers.c.CustomerId))\\\n",
        "            .group_by(invoices.c.CustomerId)"
      ],
      "execution_count": 103,
      "outputs": []
    },
    {
      "cell_type": "code",
      "metadata": {
        "colab": {
          "base_uri": "https://localhost:8080/"
        },
        "id": "_ynxBHA19-8I",
        "outputId": "58698024-c4aa-4990-e4cc-f6e5c0122935"
      },
      "source": [
        "conn.execute(query).fetchmany(5)"
      ],
      "execution_count": 104,
      "outputs": [
        {
          "output_type": "execute_result",
          "data": {
            "text/plain": [
              "[('Luís Gonçalves', 7),\n",
              " ('Leonie Köhler', 7),\n",
              " ('François Tremblay', 7),\n",
              " ('Bjørn Hansen', 7),\n",
              " ('František Wichterlová', 7)]"
            ]
          },
          "metadata": {},
          "execution_count": 104
        }
      ]
    },
    {
      "cell_type": "markdown",
      "metadata": {
        "id": "wKqYtO0z5NIT"
      },
      "source": [
        "## Relation to pandas"
      ]
    },
    {
      "cell_type": "markdown",
      "metadata": {
        "id": "dhSrLNVv7Q6e"
      },
      "source": [
        "### Tables (SQLAlchemy) vs. DataFrames (pandas)"
      ]
    },
    {
      "cell_type": "markdown",
      "metadata": {
        "id": "DSCiW7Ls7cAn"
      },
      "source": [
        "Very often we would like to save our query result as a data-frame. Luckily, the `ResultProxy.fetchall()` method returns a list of results that can be constructed as a data-frame using the standard `pd.DataFrame()` constructor."
      ]
    },
    {
      "cell_type": "code",
      "metadata": {
        "id": "LC1Zy160922f"
      },
      "source": [
        "query = select(albums)\n",
        "result = conn.execute(query)"
      ],
      "execution_count": 127,
      "outputs": []
    },
    {
      "cell_type": "code",
      "metadata": {
        "colab": {
          "base_uri": "https://localhost:8080/",
          "height": 206
        },
        "id": "IWWH7zfi6mT0",
        "outputId": "7918c988-ba06-4081-bdb9-1e5117a86f97"
      },
      "source": [
        "df_albums = pd.DataFrame(result.fetchall(), columns=result.keys())\n",
        "df_albums.head()"
      ],
      "execution_count": 128,
      "outputs": [
        {
          "output_type": "execute_result",
          "data": {
            "text/plain": [
              "   AlbumId                                  Title  ArtistId\n",
              "0        1  For Those About To Rock We Salute You         1\n",
              "1        2                      Balls to the Wall         2\n",
              "2        3                      Restless and Wild         2\n",
              "3        4                      Let There Be Rock         1\n",
              "4        5                               Big Ones         3"
            ],
            "text/html": [
              "\n",
              "  <div id=\"df-ed39dda5-8c67-4472-83bc-a0153cfcc534\" class=\"colab-df-container\">\n",
              "    <div>\n",
              "<style scoped>\n",
              "    .dataframe tbody tr th:only-of-type {\n",
              "        vertical-align: middle;\n",
              "    }\n",
              "\n",
              "    .dataframe tbody tr th {\n",
              "        vertical-align: top;\n",
              "    }\n",
              "\n",
              "    .dataframe thead th {\n",
              "        text-align: right;\n",
              "    }\n",
              "</style>\n",
              "<table border=\"1\" class=\"dataframe\">\n",
              "  <thead>\n",
              "    <tr style=\"text-align: right;\">\n",
              "      <th></th>\n",
              "      <th>AlbumId</th>\n",
              "      <th>Title</th>\n",
              "      <th>ArtistId</th>\n",
              "    </tr>\n",
              "  </thead>\n",
              "  <tbody>\n",
              "    <tr>\n",
              "      <th>0</th>\n",
              "      <td>1</td>\n",
              "      <td>For Those About To Rock We Salute You</td>\n",
              "      <td>1</td>\n",
              "    </tr>\n",
              "    <tr>\n",
              "      <th>1</th>\n",
              "      <td>2</td>\n",
              "      <td>Balls to the Wall</td>\n",
              "      <td>2</td>\n",
              "    </tr>\n",
              "    <tr>\n",
              "      <th>2</th>\n",
              "      <td>3</td>\n",
              "      <td>Restless and Wild</td>\n",
              "      <td>2</td>\n",
              "    </tr>\n",
              "    <tr>\n",
              "      <th>3</th>\n",
              "      <td>4</td>\n",
              "      <td>Let There Be Rock</td>\n",
              "      <td>1</td>\n",
              "    </tr>\n",
              "    <tr>\n",
              "      <th>4</th>\n",
              "      <td>5</td>\n",
              "      <td>Big Ones</td>\n",
              "      <td>3</td>\n",
              "    </tr>\n",
              "  </tbody>\n",
              "</table>\n",
              "</div>\n",
              "    <div class=\"colab-df-buttons\">\n",
              "\n",
              "  <div class=\"colab-df-container\">\n",
              "    <button class=\"colab-df-convert\" onclick=\"convertToInteractive('df-ed39dda5-8c67-4472-83bc-a0153cfcc534')\"\n",
              "            title=\"Convert this dataframe to an interactive table.\"\n",
              "            style=\"display:none;\">\n",
              "\n",
              "  <svg xmlns=\"http://www.w3.org/2000/svg\" height=\"24px\" viewBox=\"0 -960 960 960\">\n",
              "    <path d=\"M120-120v-720h720v720H120Zm60-500h600v-160H180v160Zm220 220h160v-160H400v160Zm0 220h160v-160H400v160ZM180-400h160v-160H180v160Zm440 0h160v-160H620v160ZM180-180h160v-160H180v160Zm440 0h160v-160H620v160Z\"/>\n",
              "  </svg>\n",
              "    </button>\n",
              "\n",
              "  <style>\n",
              "    .colab-df-container {\n",
              "      display:flex;\n",
              "      gap: 12px;\n",
              "    }\n",
              "\n",
              "    .colab-df-convert {\n",
              "      background-color: #E8F0FE;\n",
              "      border: none;\n",
              "      border-radius: 50%;\n",
              "      cursor: pointer;\n",
              "      display: none;\n",
              "      fill: #1967D2;\n",
              "      height: 32px;\n",
              "      padding: 0 0 0 0;\n",
              "      width: 32px;\n",
              "    }\n",
              "\n",
              "    .colab-df-convert:hover {\n",
              "      background-color: #E2EBFA;\n",
              "      box-shadow: 0px 1px 2px rgba(60, 64, 67, 0.3), 0px 1px 3px 1px rgba(60, 64, 67, 0.15);\n",
              "      fill: #174EA6;\n",
              "    }\n",
              "\n",
              "    .colab-df-buttons div {\n",
              "      margin-bottom: 4px;\n",
              "    }\n",
              "\n",
              "    [theme=dark] .colab-df-convert {\n",
              "      background-color: #3B4455;\n",
              "      fill: #D2E3FC;\n",
              "    }\n",
              "\n",
              "    [theme=dark] .colab-df-convert:hover {\n",
              "      background-color: #434B5C;\n",
              "      box-shadow: 0px 1px 3px 1px rgba(0, 0, 0, 0.15);\n",
              "      filter: drop-shadow(0px 1px 2px rgba(0, 0, 0, 0.3));\n",
              "      fill: #FFFFFF;\n",
              "    }\n",
              "  </style>\n",
              "\n",
              "    <script>\n",
              "      const buttonEl =\n",
              "        document.querySelector('#df-ed39dda5-8c67-4472-83bc-a0153cfcc534 button.colab-df-convert');\n",
              "      buttonEl.style.display =\n",
              "        google.colab.kernel.accessAllowed ? 'block' : 'none';\n",
              "\n",
              "      async function convertToInteractive(key) {\n",
              "        const element = document.querySelector('#df-ed39dda5-8c67-4472-83bc-a0153cfcc534');\n",
              "        const dataTable =\n",
              "          await google.colab.kernel.invokeFunction('convertToInteractive',\n",
              "                                                    [key], {});\n",
              "        if (!dataTable) return;\n",
              "\n",
              "        const docLinkHtml = 'Like what you see? Visit the ' +\n",
              "          '<a target=\"_blank\" href=https://colab.research.google.com/notebooks/data_table.ipynb>data table notebook</a>'\n",
              "          + ' to learn more about interactive tables.';\n",
              "        element.innerHTML = '';\n",
              "        dataTable['output_type'] = 'display_data';\n",
              "        await google.colab.output.renderOutput(dataTable, element);\n",
              "        const docLink = document.createElement('div');\n",
              "        docLink.innerHTML = docLinkHtml;\n",
              "        element.appendChild(docLink);\n",
              "      }\n",
              "    </script>\n",
              "  </div>\n",
              "\n",
              "\n",
              "<div id=\"df-f3e45aa3-3aa6-41f2-b896-08380766403e\">\n",
              "  <button class=\"colab-df-quickchart\" onclick=\"quickchart('df-f3e45aa3-3aa6-41f2-b896-08380766403e')\"\n",
              "            title=\"Suggest charts\"\n",
              "            style=\"display:none;\">\n",
              "\n",
              "<svg xmlns=\"http://www.w3.org/2000/svg\" height=\"24px\"viewBox=\"0 0 24 24\"\n",
              "     width=\"24px\">\n",
              "    <g>\n",
              "        <path d=\"M19 3H5c-1.1 0-2 .9-2 2v14c0 1.1.9 2 2 2h14c1.1 0 2-.9 2-2V5c0-1.1-.9-2-2-2zM9 17H7v-7h2v7zm4 0h-2V7h2v10zm4 0h-2v-4h2v4z\"/>\n",
              "    </g>\n",
              "</svg>\n",
              "  </button>\n",
              "\n",
              "<style>\n",
              "  .colab-df-quickchart {\n",
              "      --bg-color: #E8F0FE;\n",
              "      --fill-color: #1967D2;\n",
              "      --hover-bg-color: #E2EBFA;\n",
              "      --hover-fill-color: #174EA6;\n",
              "      --disabled-fill-color: #AAA;\n",
              "      --disabled-bg-color: #DDD;\n",
              "  }\n",
              "\n",
              "  [theme=dark] .colab-df-quickchart {\n",
              "      --bg-color: #3B4455;\n",
              "      --fill-color: #D2E3FC;\n",
              "      --hover-bg-color: #434B5C;\n",
              "      --hover-fill-color: #FFFFFF;\n",
              "      --disabled-bg-color: #3B4455;\n",
              "      --disabled-fill-color: #666;\n",
              "  }\n",
              "\n",
              "  .colab-df-quickchart {\n",
              "    background-color: var(--bg-color);\n",
              "    border: none;\n",
              "    border-radius: 50%;\n",
              "    cursor: pointer;\n",
              "    display: none;\n",
              "    fill: var(--fill-color);\n",
              "    height: 32px;\n",
              "    padding: 0;\n",
              "    width: 32px;\n",
              "  }\n",
              "\n",
              "  .colab-df-quickchart:hover {\n",
              "    background-color: var(--hover-bg-color);\n",
              "    box-shadow: 0 1px 2px rgba(60, 64, 67, 0.3), 0 1px 3px 1px rgba(60, 64, 67, 0.15);\n",
              "    fill: var(--button-hover-fill-color);\n",
              "  }\n",
              "\n",
              "  .colab-df-quickchart-complete:disabled,\n",
              "  .colab-df-quickchart-complete:disabled:hover {\n",
              "    background-color: var(--disabled-bg-color);\n",
              "    fill: var(--disabled-fill-color);\n",
              "    box-shadow: none;\n",
              "  }\n",
              "\n",
              "  .colab-df-spinner {\n",
              "    border: 2px solid var(--fill-color);\n",
              "    border-color: transparent;\n",
              "    border-bottom-color: var(--fill-color);\n",
              "    animation:\n",
              "      spin 1s steps(1) infinite;\n",
              "  }\n",
              "\n",
              "  @keyframes spin {\n",
              "    0% {\n",
              "      border-color: transparent;\n",
              "      border-bottom-color: var(--fill-color);\n",
              "      border-left-color: var(--fill-color);\n",
              "    }\n",
              "    20% {\n",
              "      border-color: transparent;\n",
              "      border-left-color: var(--fill-color);\n",
              "      border-top-color: var(--fill-color);\n",
              "    }\n",
              "    30% {\n",
              "      border-color: transparent;\n",
              "      border-left-color: var(--fill-color);\n",
              "      border-top-color: var(--fill-color);\n",
              "      border-right-color: var(--fill-color);\n",
              "    }\n",
              "    40% {\n",
              "      border-color: transparent;\n",
              "      border-right-color: var(--fill-color);\n",
              "      border-top-color: var(--fill-color);\n",
              "    }\n",
              "    60% {\n",
              "      border-color: transparent;\n",
              "      border-right-color: var(--fill-color);\n",
              "    }\n",
              "    80% {\n",
              "      border-color: transparent;\n",
              "      border-right-color: var(--fill-color);\n",
              "      border-bottom-color: var(--fill-color);\n",
              "    }\n",
              "    90% {\n",
              "      border-color: transparent;\n",
              "      border-bottom-color: var(--fill-color);\n",
              "    }\n",
              "  }\n",
              "</style>\n",
              "\n",
              "  <script>\n",
              "    async function quickchart(key) {\n",
              "      const quickchartButtonEl =\n",
              "        document.querySelector('#' + key + ' button');\n",
              "      quickchartButtonEl.disabled = true;  // To prevent multiple clicks.\n",
              "      quickchartButtonEl.classList.add('colab-df-spinner');\n",
              "      try {\n",
              "        const charts = await google.colab.kernel.invokeFunction(\n",
              "            'suggestCharts', [key], {});\n",
              "      } catch (error) {\n",
              "        console.error('Error during call to suggestCharts:', error);\n",
              "      }\n",
              "      quickchartButtonEl.classList.remove('colab-df-spinner');\n",
              "      quickchartButtonEl.classList.add('colab-df-quickchart-complete');\n",
              "    }\n",
              "    (() => {\n",
              "      let quickchartButtonEl =\n",
              "        document.querySelector('#df-f3e45aa3-3aa6-41f2-b896-08380766403e button');\n",
              "      quickchartButtonEl.style.display =\n",
              "        google.colab.kernel.accessAllowed ? 'block' : 'none';\n",
              "    })();\n",
              "  </script>\n",
              "</div>\n",
              "\n",
              "    </div>\n",
              "  </div>\n"
            ]
          },
          "metadata": {},
          "execution_count": 128
        }
      ]
    },
    {
      "cell_type": "markdown",
      "metadata": {
        "id": "j5mNXBMn7cgX"
      },
      "source": [
        "### Direct querying"
      ]
    },
    {
      "cell_type": "markdown",
      "metadata": {
        "id": "nRqzQpip-qYE"
      },
      "source": [
        "Moreover, *pandas* offers [`pd.read_sql_query(sql, con)`](https://pandas.pydata.org/pandas-docs/stable/reference/api/pandas.read_sql_query.html) to directly send SQL commands through a given DB connection. SQLAlchemy engine is one of the options for `con`."
      ]
    },
    {
      "cell_type": "code",
      "source": [
        "import pandas as pd\n",
        "import sqlalchemy\n",
        "\n",
        "# Create the engine\n",
        "engine = sqlalchemy.create_engine('sqlite:///chinook.db', echo=False)\n",
        "\n",
        "# Establish a connection\n",
        "conn = engine.connect()\n",
        "\n",
        "# Define the SQL query\n",
        "sql = text('''SELECT * FROM employees ORDER BY BirthDate''')\n",
        "\n",
        "# Use pd.read_sql_query() with the connection object\n",
        "df_tracks = pd.read_sql_query(sql, con=conn)\n",
        "\n",
        "# Close the connection\n",
        "conn.close()\n",
        "\n",
        "# Display the first few rows of the DataFrame\n",
        "print(df_tracks.head())\n"
      ],
      "metadata": {
        "id": "FbVw-bVOXPNY"
      },
      "execution_count": null,
      "outputs": []
    },
    {
      "cell_type": "code",
      "source": [
        "import pandas as pd\n",
        "import sqlalchemy\n",
        "\n",
        "# Create the engine\n",
        "engine = sqlalchemy.create_engine('sqlite:///chinook.db', echo=False)\n",
        "\n",
        "# Establish a connection\n",
        "conn = engine.connect()\n",
        "\n",
        "# Define the SQL query\n",
        "sql = text('''SELECT * FROM albums''')\n",
        "\n",
        "# Use pd.read_sql_query() with the connection object\n",
        "albums = pd.read_sql_query(sql, con=conn)\n",
        "\n",
        "# Close the connection\n",
        "conn.close()\n",
        "\n",
        "# Display the first few rows of the DataFrame\n",
        "print(df_tracks.head())\n"
      ],
      "metadata": {
        "id": "MiPdR_oRX74g"
      },
      "execution_count": null,
      "outputs": []
    },
    {
      "cell_type": "code",
      "source": [
        "import pandas as pd\n",
        "import sqlalchemy\n",
        "\n",
        "# Create the engine\n",
        "engine = sqlalchemy.create_engine('sqlite:///chinook.db', echo=False)\n",
        "\n",
        "# Establish a connection\n",
        "conn = engine.connect()\n",
        "\n",
        "# Define the SQL table\n",
        "table = \"albums\"\n",
        "# Use pd.read_sql_query() with the connection object\n",
        "albums1 = pd.read_sql_table(table, con=conn)\n",
        "\n",
        "# Close the connection\n",
        "conn.close()\n",
        "\n",
        "# Display the first few rows of the DataFrame\n",
        "print(df_tracks.head())\n"
      ],
      "metadata": {
        "id": "3B5enKiFYOjL"
      },
      "execution_count": null,
      "outputs": []
    },
    {
      "cell_type": "code",
      "source": [
        "import pandas as pd\n",
        "import sqlalchemy\n",
        "\n",
        "# Create the engine\n",
        "engine = sqlalchemy.create_engine('sqlite:///chinook.db', echo=False)\n",
        "\n",
        "# Establish a connection\n",
        "conn = engine.connect()\n",
        "\n",
        "# Define the SQL table\n",
        "table = \"albums\"\n",
        "# Use pd.read_sql_query() with the connection object\n",
        "albums1 = pd.read_sql_table(table, con=conn)\n",
        "# Close the connection\n",
        "#conn.close()\n",
        "\n",
        "# Display the first few rows of the DataFrame\n",
        "print(df_tracks.head())\n"
      ],
      "metadata": {
        "id": "Sc9kd6XqZwnl",
        "outputId": "87ff53d1-afb7-4f63-9491-5201b0efabb7",
        "colab": {
          "base_uri": "https://localhost:8080/"
        }
      },
      "execution_count": 141,
      "outputs": [
        {
          "output_type": "stream",
          "name": "stdout",
          "text": [
            "   AlbumId                                  Title  ArtistId\n",
            "0        1  For Those About To Rock We Salute You         1\n",
            "1        2                      Balls to the Wall         2\n",
            "2        3                      Restless and Wild         2\n",
            "3        4                      Let There Be Rock         1\n",
            "4        5                               Big Ones         3\n"
          ]
        }
      ]
    },
    {
      "cell_type": "code",
      "source": [
        "albums1.drop('Title', axis=1).to_sql('albums_new', con=engine,if_exists='replace')"
      ],
      "metadata": {
        "colab": {
          "base_uri": "https://localhost:8080/"
        },
        "id": "EeKsuwmaWUR6",
        "outputId": "739ba903-715b-4d50-ee1b-028d77f480d6"
      },
      "execution_count": 142,
      "outputs": [
        {
          "output_type": "execute_result",
          "data": {
            "text/plain": [
              "347"
            ]
          },
          "metadata": {},
          "execution_count": 142
        }
      ]
    },
    {
      "cell_type": "code",
      "source": [
        "import pandas as pd\n",
        "import sqlalchemy\n",
        "\n",
        "# Create the engine\n",
        "engine = sqlalchemy.create_engine('sqlite:///chinook.db', echo=False)\n",
        "\n",
        "# Establish a connection\n",
        "conn = engine.connect()\n",
        "\n",
        "# Define the SQL table\n",
        "query=text(\"select * from albums_new\")\n",
        "# Use pd.read_sql_query() with the connection object\n",
        "albums1 = pd.read_sql_query(query, con=conn)\n",
        "# Close the connection\n",
        "conn.close()\n",
        "\n",
        "# Display the first few rows of the DataFrame\n",
        "print(albums1.head())"
      ],
      "metadata": {
        "id": "ClTGJdbZacaT",
        "outputId": "dadbc001-93b7-4655-8feb-5376e0cb989d",
        "colab": {
          "base_uri": "https://localhost:8080/"
        }
      },
      "execution_count": 166,
      "outputs": [
        {
          "output_type": "stream",
          "name": "stdout",
          "text": [
            "   index  AlbumId  ArtistId\n",
            "0      0        1         1\n",
            "1      1        2         2\n",
            "2      2        3         2\n",
            "3      3        4         1\n",
            "4      4        5         3\n"
          ]
        }
      ]
    },
    {
      "cell_type": "code",
      "source": [
        "albums.to_sql('new_albums', con=engine, if_exists='append')"
      ],
      "metadata": {
        "id": "t2_s2snLeasN",
        "outputId": "781da820-d2d1-4b28-95d3-e5157956ad33",
        "colab": {
          "base_uri": "https://localhost:8080/",
          "height": 179
        }
      },
      "execution_count": 167,
      "outputs": [
        {
          "output_type": "error",
          "ename": "AttributeError",
          "evalue": "'Table' object has no attribute 'to_sql'",
          "traceback": [
            "\u001b[0;31m---------------------------------------------------------------------------\u001b[0m",
            "\u001b[0;31mAttributeError\u001b[0m                            Traceback (most recent call last)",
            "\u001b[0;32m<ipython-input-167-888229e092f9>\u001b[0m in \u001b[0;36m<cell line: 1>\u001b[0;34m()\u001b[0m\n\u001b[0;32m----> 1\u001b[0;31m \u001b[0malbums\u001b[0m\u001b[0;34m.\u001b[0m\u001b[0mto_sql\u001b[0m\u001b[0;34m(\u001b[0m\u001b[0;34m'new_albums'\u001b[0m\u001b[0;34m,\u001b[0m \u001b[0mcon\u001b[0m\u001b[0;34m=\u001b[0m\u001b[0mengine\u001b[0m\u001b[0;34m,\u001b[0m \u001b[0mif_exists\u001b[0m\u001b[0;34m=\u001b[0m\u001b[0;34m'append'\u001b[0m\u001b[0;34m)\u001b[0m\u001b[0;34m\u001b[0m\u001b[0;34m\u001b[0m\u001b[0m\n\u001b[0m",
            "\u001b[0;31mAttributeError\u001b[0m: 'Table' object has no attribute 'to_sql'"
          ]
        }
      ]
    },
    {
      "cell_type": "code",
      "source": [
        "import pandas as pd\n",
        "import sqlalchemy\n",
        "\n",
        "# Create the engine\n",
        "engine = sqlalchemy.create_engine('sqlite:///chinook.db', echo=False)\n",
        "\n",
        "# Establish a connection\n",
        "conn = engine.connect()\n",
        "\n",
        "# Read the data from the 'albums' table into a Pandas DataFrame\n",
        "df_albums = pd.read_sql_table('albums', con=conn)\n",
        "\n",
        "# Write the contents of the DataFrame to the 'new_albums' table\n",
        "df_albums.to_sql('new_albums', con=conn, if_exists='append', index=False)\n",
        "\n",
        "# Close the connection\n",
        "#conn.close()\n"
      ],
      "metadata": {
        "id": "l352_RRSerPt"
      },
      "execution_count": null,
      "outputs": []
    },
    {
      "cell_type": "code",
      "source": [
        "import sqlalchemy\n",
        "\n",
        "# Create the engine\n",
        "engine = sqlalchemy.create_engine('sqlite:///chinook.db', echo=False)\n",
        "\n",
        "# Establish a connection\n",
        "conn = engine.connect()\n",
        "\n",
        "# Define the table name you want to count\n",
        "table_name = 'albums'\n",
        "\n",
        "# Define the SQL query to count the rows in the table\n",
        "sql_query = text(f\"SELECT COUNT(*) FROM {table_name}\")\n",
        "\n",
        "# Execute the SQL query\n",
        "result = conn.execute(sql_query)\n",
        "\n",
        "# Fetch the count value\n",
        "count = result.scalar()\n",
        "\n",
        "# Print the count\n",
        "print(f\"The number of rows in the '{table_name}' table is: {count}\")\n",
        "\n",
        "# Close the connection\n",
        "#conn.close()\n"
      ],
      "metadata": {
        "id": "qUj7fbWbfKkq",
        "outputId": "560c8a01-60de-4770-9c9a-a53e7c23820a",
        "colab": {
          "base_uri": "https://localhost:8080/"
        }
      },
      "execution_count": 177,
      "outputs": [
        {
          "output_type": "stream",
          "name": "stdout",
          "text": [
            "The number of rows in the 'albums' table is: 347\n"
          ]
        }
      ]
    },
    {
      "cell_type": "code",
      "source": [
        "new_df['AlbumId'].count()"
      ],
      "metadata": {
        "colab": {
          "base_uri": "https://localhost:8080/"
        },
        "id": "zq81G2FsTEmx",
        "outputId": "b05db7ff-3dcd-491e-ba75-5777385dc57b"
      },
      "execution_count": null,
      "outputs": [
        {
          "output_type": "execute_result",
          "data": {
            "text/plain": [
              "1041"
            ]
          },
          "metadata": {},
          "execution_count": 111
        }
      ]
    },
    {
      "cell_type": "code",
      "source": [
        "new_df['AlbumId']"
      ],
      "metadata": {
        "colab": {
          "base_uri": "https://localhost:8080/"
        },
        "id": "wAyJJEf2TL6y",
        "outputId": "1e6ffbb5-a33f-495f-c180-656226c1e0b6"
      },
      "execution_count": null,
      "outputs": [
        {
          "output_type": "execute_result",
          "data": {
            "text/plain": [
              "0         1\n",
              "1         2\n",
              "2         3\n",
              "3         4\n",
              "4         5\n",
              "       ... \n",
              "1036    343\n",
              "1037    344\n",
              "1038    345\n",
              "1039    346\n",
              "1040    347\n",
              "Name: AlbumId, Length: 1041, dtype: int64"
            ]
          },
          "metadata": {},
          "execution_count": 114
        }
      ]
    },
    {
      "cell_type": "code",
      "source": [
        "new_df['AlbumId'].duplicated().sum()"
      ],
      "metadata": {
        "colab": {
          "base_uri": "https://localhost:8080/"
        },
        "id": "7ql-tz0ACVCF",
        "outputId": "71142d25-00ab-48e8-da27-e92e4ec3af7b"
      },
      "execution_count": null,
      "outputs": [
        {
          "output_type": "execute_result",
          "data": {
            "text/plain": [
              "694"
            ]
          },
          "metadata": {},
          "execution_count": 115
        }
      ]
    },
    {
      "cell_type": "markdown",
      "metadata": {
        "id": "SZuiqWwN5FsJ"
      },
      "source": [
        "> **Your turn:**\n",
        "* Part 1 - create the tables `tracks`, `albums` and `artists` both as SQLAlchemy Tables and as pandas DataFrames.\n",
        "* Part 2 - Answer the following questions in two ways - using SQLAlchemy and using pandas.\n",
        ">> 1. What is the size of the table `tracks`?\n",
        ">> 2. Which artist has the highest number of tracks?\n",
        "\n",
        "> Don't hesitate to look for the answers online..."
      ]
    },
    {
      "cell_type": "markdown",
      "metadata": {
        "id": "8HdoDK2eY3Xt"
      },
      "source": [
        "### Solution"
      ]
    },
    {
      "cell_type": "markdown",
      "metadata": {
        "id": "qMSjyzkyPEZF"
      },
      "source": [
        "#### Part 1"
      ]
    },
    {
      "cell_type": "code",
      "metadata": {
        "colab": {
          "base_uri": "https://localhost:8080/",
          "height": 706
        },
        "id": "RaH239RbGRj0",
        "outputId": "a4ac1785-e6a0-4709-c42d-5058fad3c0d5"
      },
      "source": [
        "tracks = Table('tracks', metadata, autoload_with=engine)\n",
        "query = select([tracks])\n",
        "results = conn.execute(query).fetchall()\n",
        "df_tracks = pd.DataFrame(results, columns=tracks.c.keys())\n",
        "df_tracks.head()"
      ],
      "execution_count": 179,
      "outputs": [
        {
          "output_type": "error",
          "ename": "ArgumentError",
          "evalue": "Column expression, FROM clause, or other columns clause element expected, got [Table('tracks', MetaData(), Column('TrackId', INTEGER(), table=<tracks>, primary_key=True, nullable=False), Column('Name', NVARCHAR(length=200), table=<tracks>, nullable=False), Column('AlbumId', INTEGER(), ForeignKey('albums.AlbumId'), table=<tracks>), Column('MediaTypeId', INTEGER(), ForeignKey('media_types.MediaTypeId'), table=<tracks>, nullable=False), Column('GenreId', INTEGER(), ForeignKey('genres.GenreId'), table=<tracks>), Column('Composer', NVARCHAR(length=220), table=<tracks>), Column('Milliseconds', INTEGER(), table=<tracks>, nullable=False), Column('Bytes', INTEGER(), table=<tracks>), Column('UnitPrice', NUMERIC(precision=10, scale=2), table=<tracks>, nullable=False), schema=None)]. Did you mean to say select(Table('tracks', MetaData(), Column('TrackId', INTEGER(), table=<tracks>, primary_key=True, nullable=False), Column('Name', NVARCHAR(length=200), table=<tracks>, nullable=False), Column('AlbumId', INTEGER(), ForeignKey('albums.AlbumId'), table=<tracks>), Column('MediaTypeId', INTEGER(), ForeignKey('media_types.MediaTypeId'), table=<tracks>, nullable=False), Column('GenreId', INTEGER(), ForeignKey('genres.GenreId'), table=<tracks>), Column('Composer', NVARCHAR(length=220), table=<tracks>), Column('Milliseconds', INTEGER(), table=<tracks>, nullable=False), Column('Bytes', INTEGER(), table=<tracks>), Column('UnitPrice', NUMERIC(precision=10, scale=2), table=<tracks>, nullable=False), schema=None))?",
          "traceback": [
            "\u001b[0;31m---------------------------------------------------------------------------\u001b[0m",
            "\u001b[0;31mArgumentError\u001b[0m                             Traceback (most recent call last)",
            "\u001b[0;32m<ipython-input-179-e50fe691bb3f>\u001b[0m in \u001b[0;36m<cell line: 2>\u001b[0;34m()\u001b[0m\n\u001b[1;32m      1\u001b[0m \u001b[0mtracks\u001b[0m \u001b[0;34m=\u001b[0m \u001b[0mTable\u001b[0m\u001b[0;34m(\u001b[0m\u001b[0;34m'tracks'\u001b[0m\u001b[0;34m,\u001b[0m \u001b[0mmetadata\u001b[0m\u001b[0;34m,\u001b[0m \u001b[0mautoload_with\u001b[0m\u001b[0;34m=\u001b[0m\u001b[0mengine\u001b[0m\u001b[0;34m)\u001b[0m\u001b[0;34m\u001b[0m\u001b[0;34m\u001b[0m\u001b[0m\n\u001b[0;32m----> 2\u001b[0;31m \u001b[0mquery\u001b[0m \u001b[0;34m=\u001b[0m \u001b[0mselect\u001b[0m\u001b[0;34m(\u001b[0m\u001b[0;34m[\u001b[0m\u001b[0mtracks\u001b[0m\u001b[0;34m]\u001b[0m\u001b[0;34m)\u001b[0m\u001b[0;34m\u001b[0m\u001b[0;34m\u001b[0m\u001b[0m\n\u001b[0m\u001b[1;32m      3\u001b[0m \u001b[0mresults\u001b[0m \u001b[0;34m=\u001b[0m \u001b[0mconn\u001b[0m\u001b[0;34m.\u001b[0m\u001b[0mexecute\u001b[0m\u001b[0;34m(\u001b[0m\u001b[0mquery\u001b[0m\u001b[0;34m)\u001b[0m\u001b[0;34m.\u001b[0m\u001b[0mfetchall\u001b[0m\u001b[0;34m(\u001b[0m\u001b[0;34m)\u001b[0m\u001b[0;34m\u001b[0m\u001b[0;34m\u001b[0m\u001b[0m\n\u001b[1;32m      4\u001b[0m \u001b[0mdf_tracks\u001b[0m \u001b[0;34m=\u001b[0m \u001b[0mpd\u001b[0m\u001b[0;34m.\u001b[0m\u001b[0mDataFrame\u001b[0m\u001b[0;34m(\u001b[0m\u001b[0mresults\u001b[0m\u001b[0;34m,\u001b[0m \u001b[0mcolumns\u001b[0m\u001b[0;34m=\u001b[0m\u001b[0mtracks\u001b[0m\u001b[0;34m.\u001b[0m\u001b[0mc\u001b[0m\u001b[0;34m.\u001b[0m\u001b[0mkeys\u001b[0m\u001b[0;34m(\u001b[0m\u001b[0;34m)\u001b[0m\u001b[0;34m)\u001b[0m\u001b[0;34m\u001b[0m\u001b[0;34m\u001b[0m\u001b[0m\n\u001b[1;32m      5\u001b[0m \u001b[0mdf_tracks\u001b[0m\u001b[0;34m.\u001b[0m\u001b[0mhead\u001b[0m\u001b[0;34m(\u001b[0m\u001b[0;34m)\u001b[0m\u001b[0;34m\u001b[0m\u001b[0;34m\u001b[0m\u001b[0m\n",
            "\u001b[0;32m/usr/local/lib/python3.10/dist-packages/sqlalchemy/sql/_selectable_constructors.py\u001b[0m in \u001b[0;36mselect\u001b[0;34m(*entities, **__kw)\u001b[0m\n\u001b[1;32m    487\u001b[0m     \u001b[0;32mif\u001b[0m \u001b[0m__kw\u001b[0m\u001b[0;34m:\u001b[0m\u001b[0;34m\u001b[0m\u001b[0;34m\u001b[0m\u001b[0m\n\u001b[1;32m    488\u001b[0m         \u001b[0;32mraise\u001b[0m \u001b[0m_no_kw\u001b[0m\u001b[0;34m(\u001b[0m\u001b[0;34m)\u001b[0m\u001b[0;34m\u001b[0m\u001b[0;34m\u001b[0m\u001b[0m\n\u001b[0;32m--> 489\u001b[0;31m     \u001b[0;32mreturn\u001b[0m \u001b[0mSelect\u001b[0m\u001b[0;34m(\u001b[0m\u001b[0;34m*\u001b[0m\u001b[0mentities\u001b[0m\u001b[0;34m)\u001b[0m\u001b[0;34m\u001b[0m\u001b[0;34m\u001b[0m\u001b[0m\n\u001b[0m\u001b[1;32m    490\u001b[0m \u001b[0;34m\u001b[0m\u001b[0m\n\u001b[1;32m    491\u001b[0m \u001b[0;34m\u001b[0m\u001b[0m\n",
            "\u001b[0;32m/usr/local/lib/python3.10/dist-packages/sqlalchemy/sql/selectable.py\u001b[0m in \u001b[0;36m__init__\u001b[0;34m(self, *entities)\u001b[0m\n\u001b[1;32m   5134\u001b[0m \u001b[0;34m\u001b[0m\u001b[0m\n\u001b[1;32m   5135\u001b[0m         \"\"\"\n\u001b[0;32m-> 5136\u001b[0;31m         self._raw_columns = [\n\u001b[0m\u001b[1;32m   5137\u001b[0m             coercions.expect(\n\u001b[1;32m   5138\u001b[0m                 \u001b[0mroles\u001b[0m\u001b[0;34m.\u001b[0m\u001b[0mColumnsClauseRole\u001b[0m\u001b[0;34m,\u001b[0m \u001b[0ment\u001b[0m\u001b[0;34m,\u001b[0m \u001b[0mapply_propagate_attrs\u001b[0m\u001b[0;34m=\u001b[0m\u001b[0mself\u001b[0m\u001b[0;34m\u001b[0m\u001b[0;34m\u001b[0m\u001b[0m\n",
            "\u001b[0;32m/usr/local/lib/python3.10/dist-packages/sqlalchemy/sql/selectable.py\u001b[0m in \u001b[0;36m<listcomp>\u001b[0;34m(.0)\u001b[0m\n\u001b[1;32m   5135\u001b[0m         \"\"\"\n\u001b[1;32m   5136\u001b[0m         self._raw_columns = [\n\u001b[0;32m-> 5137\u001b[0;31m             coercions.expect(\n\u001b[0m\u001b[1;32m   5138\u001b[0m                 \u001b[0mroles\u001b[0m\u001b[0;34m.\u001b[0m\u001b[0mColumnsClauseRole\u001b[0m\u001b[0;34m,\u001b[0m \u001b[0ment\u001b[0m\u001b[0;34m,\u001b[0m \u001b[0mapply_propagate_attrs\u001b[0m\u001b[0;34m=\u001b[0m\u001b[0mself\u001b[0m\u001b[0;34m\u001b[0m\u001b[0;34m\u001b[0m\u001b[0m\n\u001b[1;32m   5139\u001b[0m             )\n",
            "\u001b[0;32m/usr/local/lib/python3.10/dist-packages/sqlalchemy/sql/coercions.py\u001b[0m in \u001b[0;36mexpect\u001b[0;34m(role, element, apply_propagate_attrs, argname, post_inspect, disable_inspection, **kw)\u001b[0m\n\u001b[1;32m    411\u001b[0m \u001b[0;34m\u001b[0m\u001b[0m\n\u001b[1;32m    412\u001b[0m                 \u001b[0;32mif\u001b[0m \u001b[0mresolved\u001b[0m \u001b[0;32mis\u001b[0m \u001b[0;32mNone\u001b[0m\u001b[0;34m:\u001b[0m\u001b[0;34m\u001b[0m\u001b[0;34m\u001b[0m\u001b[0m\n\u001b[0;32m--> 413\u001b[0;31m                     resolved = impl._literal_coercion(\n\u001b[0m\u001b[1;32m    414\u001b[0m                         \u001b[0melement\u001b[0m\u001b[0;34m,\u001b[0m \u001b[0margname\u001b[0m\u001b[0;34m=\u001b[0m\u001b[0margname\u001b[0m\u001b[0;34m,\u001b[0m \u001b[0;34m**\u001b[0m\u001b[0mkw\u001b[0m\u001b[0;34m\u001b[0m\u001b[0;34m\u001b[0m\u001b[0m\n\u001b[1;32m    415\u001b[0m                     )\n",
            "\u001b[0;32m/usr/local/lib/python3.10/dist-packages/sqlalchemy/sql/coercions.py\u001b[0m in \u001b[0;36m_literal_coercion\u001b[0;34m(self, element, argname, **kw)\u001b[0m\n\u001b[1;32m    649\u001b[0m             \u001b[0;32mreturn\u001b[0m \u001b[0melements\u001b[0m\u001b[0;34m.\u001b[0m\u001b[0mColumnClause\u001b[0m\u001b[0;34m(\u001b[0m\u001b[0mstr\u001b[0m\u001b[0;34m(\u001b[0m\u001b[0melement\u001b[0m\u001b[0;34m)\u001b[0m\u001b[0;34m,\u001b[0m \u001b[0mis_literal\u001b[0m\u001b[0;34m=\u001b[0m\u001b[0;32mTrue\u001b[0m\u001b[0;34m)\u001b[0m\u001b[0;34m\u001b[0m\u001b[0;34m\u001b[0m\u001b[0m\n\u001b[1;32m    650\u001b[0m \u001b[0;34m\u001b[0m\u001b[0m\n\u001b[0;32m--> 651\u001b[0;31m         \u001b[0mself\u001b[0m\u001b[0;34m.\u001b[0m\u001b[0m_raise_for_expected\u001b[0m\u001b[0;34m(\u001b[0m\u001b[0melement\u001b[0m\u001b[0;34m,\u001b[0m \u001b[0margname\u001b[0m\u001b[0;34m)\u001b[0m\u001b[0;34m\u001b[0m\u001b[0;34m\u001b[0m\u001b[0m\n\u001b[0m\u001b[1;32m    652\u001b[0m \u001b[0;34m\u001b[0m\u001b[0m\n\u001b[1;32m    653\u001b[0m \u001b[0;34m\u001b[0m\u001b[0m\n",
            "\u001b[0;32m/usr/local/lib/python3.10/dist-packages/sqlalchemy/sql/coercions.py\u001b[0m in \u001b[0;36m_raise_for_expected\u001b[0;34m(self, element, argname, resolved, advice, **kw)\u001b[0m\n\u001b[1;32m   1135\u001b[0m             )\n\u001b[1;32m   1136\u001b[0m \u001b[0;34m\u001b[0m\u001b[0m\n\u001b[0;32m-> 1137\u001b[0;31m         return super()._raise_for_expected(\n\u001b[0m\u001b[1;32m   1138\u001b[0m             \u001b[0melement\u001b[0m\u001b[0;34m,\u001b[0m \u001b[0margname\u001b[0m\u001b[0;34m=\u001b[0m\u001b[0margname\u001b[0m\u001b[0;34m,\u001b[0m \u001b[0mresolved\u001b[0m\u001b[0;34m=\u001b[0m\u001b[0mresolved\u001b[0m\u001b[0;34m,\u001b[0m \u001b[0madvice\u001b[0m\u001b[0;34m=\u001b[0m\u001b[0madvice\u001b[0m\u001b[0;34m,\u001b[0m \u001b[0;34m**\u001b[0m\u001b[0mkw\u001b[0m\u001b[0;34m\u001b[0m\u001b[0;34m\u001b[0m\u001b[0m\n\u001b[1;32m   1139\u001b[0m         )\n",
            "\u001b[0;32m/usr/local/lib/python3.10/dist-packages/sqlalchemy/sql/coercions.py\u001b[0m in \u001b[0;36m_raise_for_expected\u001b[0;34m(self, element, argname, resolved, advice, code, err, **kw)\u001b[0m\n\u001b[1;32m    708\u001b[0m             \u001b[0mcode\u001b[0m \u001b[0;34m=\u001b[0m \u001b[0;32mNone\u001b[0m\u001b[0;34m\u001b[0m\u001b[0;34m\u001b[0m\u001b[0m\n\u001b[1;32m    709\u001b[0m \u001b[0;34m\u001b[0m\u001b[0m\n\u001b[0;32m--> 710\u001b[0;31m         super()._raise_for_expected(\n\u001b[0m\u001b[1;32m    711\u001b[0m             \u001b[0melement\u001b[0m\u001b[0;34m,\u001b[0m\u001b[0;34m\u001b[0m\u001b[0;34m\u001b[0m\u001b[0m\n\u001b[1;32m    712\u001b[0m             \u001b[0margname\u001b[0m\u001b[0;34m=\u001b[0m\u001b[0margname\u001b[0m\u001b[0;34m,\u001b[0m\u001b[0;34m\u001b[0m\u001b[0;34m\u001b[0m\u001b[0m\n",
            "\u001b[0;32m/usr/local/lib/python3.10/dist-packages/sqlalchemy/sql/coercions.py\u001b[0m in \u001b[0;36m_raise_for_expected\u001b[0;34m(self, element, argname, resolved, advice, code, err, **kw)\u001b[0m\n\u001b[1;32m    533\u001b[0m             \u001b[0mmsg\u001b[0m \u001b[0;34m+=\u001b[0m \u001b[0;34m\" \"\u001b[0m \u001b[0;34m+\u001b[0m \u001b[0madvice\u001b[0m\u001b[0;34m\u001b[0m\u001b[0;34m\u001b[0m\u001b[0m\n\u001b[1;32m    534\u001b[0m \u001b[0;34m\u001b[0m\u001b[0m\n\u001b[0;32m--> 535\u001b[0;31m         \u001b[0;32mraise\u001b[0m \u001b[0mexc\u001b[0m\u001b[0;34m.\u001b[0m\u001b[0mArgumentError\u001b[0m\u001b[0;34m(\u001b[0m\u001b[0mmsg\u001b[0m\u001b[0;34m,\u001b[0m \u001b[0mcode\u001b[0m\u001b[0;34m=\u001b[0m\u001b[0mcode\u001b[0m\u001b[0;34m)\u001b[0m \u001b[0;32mfrom\u001b[0m \u001b[0merr\u001b[0m\u001b[0;34m\u001b[0m\u001b[0;34m\u001b[0m\u001b[0m\n\u001b[0m\u001b[1;32m    536\u001b[0m \u001b[0;34m\u001b[0m\u001b[0m\n\u001b[1;32m    537\u001b[0m \u001b[0;34m\u001b[0m\u001b[0m\n",
            "\u001b[0;31mArgumentError\u001b[0m: Column expression, FROM clause, or other columns clause element expected, got [Table('tracks', MetaData(), Column('TrackId', INTEGER(), table=<tracks>, primary_key=True, nullable=False), Column('Name', NVARCHAR(length=200), table=<tracks>, nullable=False), Column('AlbumId', INTEGER(), ForeignKey('albums.AlbumId'), table=<tracks>), Column('MediaTypeId', INTEGER(), ForeignKey('media_types.MediaTypeId'), table=<tracks>, nullable=False), Column('GenreId', INTEGER(), ForeignKey('genres.GenreId'), table=<tracks>), Column('Composer', NVARCHAR(length=220), table=<tracks>), Column('Milliseconds', INTEGER(), table=<tracks>, nullable=False), Column('Bytes', INTEGER(), table=<tracks>), Column('UnitPrice', NUMERIC(precision=10, scale=2), table=<tracks>, nullable=False), schema=None)]. Did you mean to say select(Table('tracks', MetaData(), Column('TrackId', INTEGER(), table=<tracks>, primary_key=True, nullable=False), Column('Name', NVARCHAR(length=200), table=<tracks>, nullable=False), Column('AlbumId', INTEGER(), ForeignKey('albums.AlbumId'), table=<tracks>), Column('MediaTypeId', INTEGER(), ForeignKey('media_types.MediaTypeId'), table=<tracks>, nullable=False), Column('GenreId', INTEGER(), ForeignKey('genres.GenreId'), table=<tracks>), Column('Composer', NVARCHAR(length=220), table=<tracks>), Column('Milliseconds', INTEGER(), table=<tracks>, nullable=False), Column('Bytes', INTEGER(), table=<tracks>), Column('UnitPrice', NUMERIC(precision=10, scale=2), table..."
          ]
        }
      ]
    },
    {
      "cell_type": "code",
      "metadata": {
        "colab": {
          "base_uri": "https://localhost:8080/",
          "height": 206
        },
        "id": "A9Z_qY6MN6wP",
        "outputId": "ceec8813-60ed-4f81-ac45-c811347669e0"
      },
      "source": [
        "albums = Table('albums', metadata, autoload_with=engine)\n",
        "query = select([albums])\n",
        "results = conn.execute(query).fetchall()\n",
        "df_albums = pd.DataFrame(results, columns=albums.c.keys())\n",
        "df_albums.head()"
      ],
      "execution_count": null,
      "outputs": [
        {
          "output_type": "execute_result",
          "data": {
            "text/plain": [
              "   AlbumId                                  Title  ArtistId\n",
              "0        1  For Those About To Rock We Salute You         1\n",
              "1        2                      Balls to the Wall         2\n",
              "2        3                      Restless and Wild         2\n",
              "3        4                      Let There Be Rock         1\n",
              "4        5                               Big Ones         3"
            ],
            "text/html": [
              "\n",
              "  <div id=\"df-c8520b92-c2e8-4f96-b72d-e216421c6b02\">\n",
              "    <div class=\"colab-df-container\">\n",
              "      <div>\n",
              "<style scoped>\n",
              "    .dataframe tbody tr th:only-of-type {\n",
              "        vertical-align: middle;\n",
              "    }\n",
              "\n",
              "    .dataframe tbody tr th {\n",
              "        vertical-align: top;\n",
              "    }\n",
              "\n",
              "    .dataframe thead th {\n",
              "        text-align: right;\n",
              "    }\n",
              "</style>\n",
              "<table border=\"1\" class=\"dataframe\">\n",
              "  <thead>\n",
              "    <tr style=\"text-align: right;\">\n",
              "      <th></th>\n",
              "      <th>AlbumId</th>\n",
              "      <th>Title</th>\n",
              "      <th>ArtistId</th>\n",
              "    </tr>\n",
              "  </thead>\n",
              "  <tbody>\n",
              "    <tr>\n",
              "      <th>0</th>\n",
              "      <td>1</td>\n",
              "      <td>For Those About To Rock We Salute You</td>\n",
              "      <td>1</td>\n",
              "    </tr>\n",
              "    <tr>\n",
              "      <th>1</th>\n",
              "      <td>2</td>\n",
              "      <td>Balls to the Wall</td>\n",
              "      <td>2</td>\n",
              "    </tr>\n",
              "    <tr>\n",
              "      <th>2</th>\n",
              "      <td>3</td>\n",
              "      <td>Restless and Wild</td>\n",
              "      <td>2</td>\n",
              "    </tr>\n",
              "    <tr>\n",
              "      <th>3</th>\n",
              "      <td>4</td>\n",
              "      <td>Let There Be Rock</td>\n",
              "      <td>1</td>\n",
              "    </tr>\n",
              "    <tr>\n",
              "      <th>4</th>\n",
              "      <td>5</td>\n",
              "      <td>Big Ones</td>\n",
              "      <td>3</td>\n",
              "    </tr>\n",
              "  </tbody>\n",
              "</table>\n",
              "</div>\n",
              "      <button class=\"colab-df-convert\" onclick=\"convertToInteractive('df-c8520b92-c2e8-4f96-b72d-e216421c6b02')\"\n",
              "              title=\"Convert this dataframe to an interactive table.\"\n",
              "              style=\"display:none;\">\n",
              "        \n",
              "  <svg xmlns=\"http://www.w3.org/2000/svg\" height=\"24px\"viewBox=\"0 0 24 24\"\n",
              "       width=\"24px\">\n",
              "    <path d=\"M0 0h24v24H0V0z\" fill=\"none\"/>\n",
              "    <path d=\"M18.56 5.44l.94 2.06.94-2.06 2.06-.94-2.06-.94-.94-2.06-.94 2.06-2.06.94zm-11 1L8.5 8.5l.94-2.06 2.06-.94-2.06-.94L8.5 2.5l-.94 2.06-2.06.94zm10 10l.94 2.06.94-2.06 2.06-.94-2.06-.94-.94-2.06-.94 2.06-2.06.94z\"/><path d=\"M17.41 7.96l-1.37-1.37c-.4-.4-.92-.59-1.43-.59-.52 0-1.04.2-1.43.59L10.3 9.45l-7.72 7.72c-.78.78-.78 2.05 0 2.83L4 21.41c.39.39.9.59 1.41.59.51 0 1.02-.2 1.41-.59l7.78-7.78 2.81-2.81c.8-.78.8-2.07 0-2.86zM5.41 20L4 18.59l7.72-7.72 1.47 1.35L5.41 20z\"/>\n",
              "  </svg>\n",
              "      </button>\n",
              "      \n",
              "  <style>\n",
              "    .colab-df-container {\n",
              "      display:flex;\n",
              "      flex-wrap:wrap;\n",
              "      gap: 12px;\n",
              "    }\n",
              "\n",
              "    .colab-df-convert {\n",
              "      background-color: #E8F0FE;\n",
              "      border: none;\n",
              "      border-radius: 50%;\n",
              "      cursor: pointer;\n",
              "      display: none;\n",
              "      fill: #1967D2;\n",
              "      height: 32px;\n",
              "      padding: 0 0 0 0;\n",
              "      width: 32px;\n",
              "    }\n",
              "\n",
              "    .colab-df-convert:hover {\n",
              "      background-color: #E2EBFA;\n",
              "      box-shadow: 0px 1px 2px rgba(60, 64, 67, 0.3), 0px 1px 3px 1px rgba(60, 64, 67, 0.15);\n",
              "      fill: #174EA6;\n",
              "    }\n",
              "\n",
              "    [theme=dark] .colab-df-convert {\n",
              "      background-color: #3B4455;\n",
              "      fill: #D2E3FC;\n",
              "    }\n",
              "\n",
              "    [theme=dark] .colab-df-convert:hover {\n",
              "      background-color: #434B5C;\n",
              "      box-shadow: 0px 1px 3px 1px rgba(0, 0, 0, 0.15);\n",
              "      filter: drop-shadow(0px 1px 2px rgba(0, 0, 0, 0.3));\n",
              "      fill: #FFFFFF;\n",
              "    }\n",
              "  </style>\n",
              "\n",
              "      <script>\n",
              "        const buttonEl =\n",
              "          document.querySelector('#df-c8520b92-c2e8-4f96-b72d-e216421c6b02 button.colab-df-convert');\n",
              "        buttonEl.style.display =\n",
              "          google.colab.kernel.accessAllowed ? 'block' : 'none';\n",
              "\n",
              "        async function convertToInteractive(key) {\n",
              "          const element = document.querySelector('#df-c8520b92-c2e8-4f96-b72d-e216421c6b02');\n",
              "          const dataTable =\n",
              "            await google.colab.kernel.invokeFunction('convertToInteractive',\n",
              "                                                     [key], {});\n",
              "          if (!dataTable) return;\n",
              "\n",
              "          const docLinkHtml = 'Like what you see? Visit the ' +\n",
              "            '<a target=\"_blank\" href=https://colab.research.google.com/notebooks/data_table.ipynb>data table notebook</a>'\n",
              "            + ' to learn more about interactive tables.';\n",
              "          element.innerHTML = '';\n",
              "          dataTable['output_type'] = 'display_data';\n",
              "          await google.colab.output.renderOutput(dataTable, element);\n",
              "          const docLink = document.createElement('div');\n",
              "          docLink.innerHTML = docLinkHtml;\n",
              "          element.appendChild(docLink);\n",
              "        }\n",
              "      </script>\n",
              "    </div>\n",
              "  </div>\n",
              "  "
            ]
          },
          "metadata": {},
          "execution_count": 57
        }
      ]
    },
    {
      "cell_type": "code",
      "metadata": {
        "colab": {
          "base_uri": "https://localhost:8080/",
          "height": 206
        },
        "id": "uIKA9xvKNkGM",
        "outputId": "011cf4f9-f8b6-495b-91b7-c4c85457551e"
      },
      "source": [
        "artists = Table('artists', metadata, autoload_with=engine)\n",
        "query = select([artists])\n",
        "results = conn.execute(query).fetchall()\n",
        "df_artists = pd.DataFrame(results, columns=artists.c.keys())\n",
        "df_artists.head()"
      ],
      "execution_count": null,
      "outputs": [
        {
          "output_type": "execute_result",
          "data": {
            "text/plain": [
              "   ArtistId               Name\n",
              "0         1              AC/DC\n",
              "1         2             Accept\n",
              "2         3          Aerosmith\n",
              "3         4  Alanis Morissette\n",
              "4         5    Alice In Chains"
            ],
            "text/html": [
              "\n",
              "  <div id=\"df-dda6f0f6-ea24-4a2e-8ee7-99a8347a75b8\">\n",
              "    <div class=\"colab-df-container\">\n",
              "      <div>\n",
              "<style scoped>\n",
              "    .dataframe tbody tr th:only-of-type {\n",
              "        vertical-align: middle;\n",
              "    }\n",
              "\n",
              "    .dataframe tbody tr th {\n",
              "        vertical-align: top;\n",
              "    }\n",
              "\n",
              "    .dataframe thead th {\n",
              "        text-align: right;\n",
              "    }\n",
              "</style>\n",
              "<table border=\"1\" class=\"dataframe\">\n",
              "  <thead>\n",
              "    <tr style=\"text-align: right;\">\n",
              "      <th></th>\n",
              "      <th>ArtistId</th>\n",
              "      <th>Name</th>\n",
              "    </tr>\n",
              "  </thead>\n",
              "  <tbody>\n",
              "    <tr>\n",
              "      <th>0</th>\n",
              "      <td>1</td>\n",
              "      <td>AC/DC</td>\n",
              "    </tr>\n",
              "    <tr>\n",
              "      <th>1</th>\n",
              "      <td>2</td>\n",
              "      <td>Accept</td>\n",
              "    </tr>\n",
              "    <tr>\n",
              "      <th>2</th>\n",
              "      <td>3</td>\n",
              "      <td>Aerosmith</td>\n",
              "    </tr>\n",
              "    <tr>\n",
              "      <th>3</th>\n",
              "      <td>4</td>\n",
              "      <td>Alanis Morissette</td>\n",
              "    </tr>\n",
              "    <tr>\n",
              "      <th>4</th>\n",
              "      <td>5</td>\n",
              "      <td>Alice In Chains</td>\n",
              "    </tr>\n",
              "  </tbody>\n",
              "</table>\n",
              "</div>\n",
              "      <button class=\"colab-df-convert\" onclick=\"convertToInteractive('df-dda6f0f6-ea24-4a2e-8ee7-99a8347a75b8')\"\n",
              "              title=\"Convert this dataframe to an interactive table.\"\n",
              "              style=\"display:none;\">\n",
              "        \n",
              "  <svg xmlns=\"http://www.w3.org/2000/svg\" height=\"24px\"viewBox=\"0 0 24 24\"\n",
              "       width=\"24px\">\n",
              "    <path d=\"M0 0h24v24H0V0z\" fill=\"none\"/>\n",
              "    <path d=\"M18.56 5.44l.94 2.06.94-2.06 2.06-.94-2.06-.94-.94-2.06-.94 2.06-2.06.94zm-11 1L8.5 8.5l.94-2.06 2.06-.94-2.06-.94L8.5 2.5l-.94 2.06-2.06.94zm10 10l.94 2.06.94-2.06 2.06-.94-2.06-.94-.94-2.06-.94 2.06-2.06.94z\"/><path d=\"M17.41 7.96l-1.37-1.37c-.4-.4-.92-.59-1.43-.59-.52 0-1.04.2-1.43.59L10.3 9.45l-7.72 7.72c-.78.78-.78 2.05 0 2.83L4 21.41c.39.39.9.59 1.41.59.51 0 1.02-.2 1.41-.59l7.78-7.78 2.81-2.81c.8-.78.8-2.07 0-2.86zM5.41 20L4 18.59l7.72-7.72 1.47 1.35L5.41 20z\"/>\n",
              "  </svg>\n",
              "      </button>\n",
              "      \n",
              "  <style>\n",
              "    .colab-df-container {\n",
              "      display:flex;\n",
              "      flex-wrap:wrap;\n",
              "      gap: 12px;\n",
              "    }\n",
              "\n",
              "    .colab-df-convert {\n",
              "      background-color: #E8F0FE;\n",
              "      border: none;\n",
              "      border-radius: 50%;\n",
              "      cursor: pointer;\n",
              "      display: none;\n",
              "      fill: #1967D2;\n",
              "      height: 32px;\n",
              "      padding: 0 0 0 0;\n",
              "      width: 32px;\n",
              "    }\n",
              "\n",
              "    .colab-df-convert:hover {\n",
              "      background-color: #E2EBFA;\n",
              "      box-shadow: 0px 1px 2px rgba(60, 64, 67, 0.3), 0px 1px 3px 1px rgba(60, 64, 67, 0.15);\n",
              "      fill: #174EA6;\n",
              "    }\n",
              "\n",
              "    [theme=dark] .colab-df-convert {\n",
              "      background-color: #3B4455;\n",
              "      fill: #D2E3FC;\n",
              "    }\n",
              "\n",
              "    [theme=dark] .colab-df-convert:hover {\n",
              "      background-color: #434B5C;\n",
              "      box-shadow: 0px 1px 3px 1px rgba(0, 0, 0, 0.15);\n",
              "      filter: drop-shadow(0px 1px 2px rgba(0, 0, 0, 0.3));\n",
              "      fill: #FFFFFF;\n",
              "    }\n",
              "  </style>\n",
              "\n",
              "      <script>\n",
              "        const buttonEl =\n",
              "          document.querySelector('#df-dda6f0f6-ea24-4a2e-8ee7-99a8347a75b8 button.colab-df-convert');\n",
              "        buttonEl.style.display =\n",
              "          google.colab.kernel.accessAllowed ? 'block' : 'none';\n",
              "\n",
              "        async function convertToInteractive(key) {\n",
              "          const element = document.querySelector('#df-dda6f0f6-ea24-4a2e-8ee7-99a8347a75b8');\n",
              "          const dataTable =\n",
              "            await google.colab.kernel.invokeFunction('convertToInteractive',\n",
              "                                                     [key], {});\n",
              "          if (!dataTable) return;\n",
              "\n",
              "          const docLinkHtml = 'Like what you see? Visit the ' +\n",
              "            '<a target=\"_blank\" href=https://colab.research.google.com/notebooks/data_table.ipynb>data table notebook</a>'\n",
              "            + ' to learn more about interactive tables.';\n",
              "          element.innerHTML = '';\n",
              "          dataTable['output_type'] = 'display_data';\n",
              "          await google.colab.output.renderOutput(dataTable, element);\n",
              "          const docLink = document.createElement('div');\n",
              "          docLink.innerHTML = docLinkHtml;\n",
              "          element.appendChild(docLink);\n",
              "        }\n",
              "      </script>\n",
              "    </div>\n",
              "  </div>\n",
              "  "
            ]
          },
          "metadata": {},
          "execution_count": 58
        }
      ]
    },
    {
      "cell_type": "markdown",
      "metadata": {
        "id": "u1xXpz30PJCW"
      },
      "source": [
        "#### Part 2"
      ]
    },
    {
      "cell_type": "markdown",
      "metadata": {
        "id": "iSqJ72MgPSCa"
      },
      "source": [
        "##### Question 1"
      ]
    },
    {
      "cell_type": "markdown",
      "metadata": {
        "id": "t_rQftg2ZxrR"
      },
      "source": [
        "Based on [`count()` documentation](https://docs.sqlalchemy.org/en/13/core/functions.html#sqlalchemy.sql.functions.count)"
      ]
    },
    {
      "cell_type": "code",
      "metadata": {
        "colab": {
          "base_uri": "https://localhost:8080/"
        },
        "id": "Wc1VrB2SZuBz",
        "outputId": "1b37e229-97d5-4ddb-a9f9-52a5ce63a4e1"
      },
      "source": [
        "query = select([func.count()]).select_from(tracks)\n",
        "conn.execute(query).fetchall()"
      ],
      "execution_count": null,
      "outputs": [
        {
          "output_type": "execute_result",
          "data": {
            "text/plain": [
              "[(3503,)]"
            ]
          },
          "metadata": {},
          "execution_count": 59
        }
      ]
    },
    {
      "cell_type": "markdown",
      "metadata": {
        "id": "-UgcZFWHPQ46"
      },
      "source": [
        "Or..."
      ]
    },
    {
      "cell_type": "code",
      "metadata": {
        "colab": {
          "base_uri": "https://localhost:8080/"
        },
        "id": "F3P4wJzIPWAl",
        "outputId": "9145c923-37b0-48fd-89bc-08e32686c1ac"
      },
      "source": [
        "len(df_tracks)"
      ],
      "execution_count": null,
      "outputs": [
        {
          "output_type": "execute_result",
          "data": {
            "text/plain": [
              "3503"
            ]
          },
          "metadata": {},
          "execution_count": 60
        }
      ]
    },
    {
      "cell_type": "markdown",
      "metadata": {
        "id": "Kg09QTatPays"
      },
      "source": [
        "##### Question 2"
      ]
    },
    {
      "cell_type": "code",
      "metadata": {
        "id": "ZIvSwbYeGRmo"
      },
      "source": [
        "join_stmt = tracks.join(albums, tracks.c.AlbumId == albums.c.AlbumId)\\\n",
        "    .join(artists, albums.c.ArtistId == artists.c.ArtistId)"
      ],
      "execution_count": null,
      "outputs": []
    },
    {
      "cell_type": "markdown",
      "metadata": {
        "id": "mnNyYSDBTAgK"
      },
      "source": [
        "Based on [`order_by()`](https://docs.sqlalchemy.org/en/13/core/selectable.html?highlight=order_by#sqlalchemy.sql.expression.Select.order_by), [`desc()`](https://docs.sqlalchemy.org/en/13/core/sqlelement.html?highlight=desc#sqlalchemy.sql.expression.desc) and [`label()`](https://docs.sqlalchemy.org/en/13/core/sqlelement.html#sqlalchemy.sql.expression.label)  documentation."
      ]
    },
    {
      "cell_type": "code",
      "metadata": {
        "id": "HApKEj0dQYG6"
      },
      "source": [
        "query = select([artists.c.Name, func.count(tracks.c.TrackId).label('tracks_count')])\\\n",
        "    .select_from(join_stmt)\\\n",
        "    .group_by(artists.c.ArtistId)\\\n",
        "    .order_by(desc('tracks_count'))"
      ],
      "execution_count": null,
      "outputs": []
    },
    {
      "cell_type": "code",
      "metadata": {
        "colab": {
          "base_uri": "https://localhost:8080/"
        },
        "id": "cTZ6tXJjQFIy",
        "outputId": "c19df338-96ab-4054-b6c9-f159c866d0fc"
      },
      "source": [
        "conn.execute(query).fetchmany(5)"
      ],
      "execution_count": null,
      "outputs": [
        {
          "output_type": "execute_result",
          "data": {
            "text/plain": [
              "[('Iron Maiden', 213),\n",
              " ('U2', 135),\n",
              " ('Led Zeppelin', 114),\n",
              " ('Metallica', 112),\n",
              " ('Deep Purple', 92)]"
            ]
          },
          "metadata": {},
          "execution_count": 63
        }
      ]
    },
    {
      "cell_type": "markdown",
      "metadata": {
        "id": "RztDBwPpVByH"
      },
      "source": [
        "Or (with the help of the [`DataFrame.join()` documentation](https://pandas.pydata.org/pandas-docs/stable/reference/api/pandas.DataFrame.join.html))..."
      ]
    },
    {
      "cell_type": "code",
      "metadata": {
        "colab": {
          "base_uri": "https://localhost:8080/"
        },
        "id": "Q6MVvudiH4Ne",
        "outputId": "4e1bac4d-b144-448f-ebdd-f52325a6a031"
      },
      "source": [
        "df_all = df_tracks\\\n",
        "    .join(df_albums.set_index('AlbumId'), on='AlbumId')\\\n",
        "    .join(df_artists.set_index('ArtistId'), on='ArtistId',\n",
        "          lsuffix='_l', rsuffix='_r')\n",
        "df_all.Name_r.value_counts()[:5]"
      ],
      "execution_count": null,
      "outputs": [
        {
          "output_type": "execute_result",
          "data": {
            "text/plain": [
              "Iron Maiden     213\n",
              "U2              135\n",
              "Led Zeppelin    114\n",
              "Metallica       112\n",
              "Lost             92\n",
              "Name: Name_r, dtype: int64"
            ]
          },
          "metadata": {},
          "execution_count": 64
        }
      ]
    },
    {
      "cell_type": "markdown",
      "metadata": {
        "id": "W9B1ysgJHnU4"
      },
      "source": [
        "# Create your own DB"
      ]
    },
    {
      "cell_type": "markdown",
      "metadata": {
        "id": "X_FpE5IpVgqr"
      },
      "source": [
        "## Table creation"
      ]
    },
    {
      "cell_type": "markdown",
      "metadata": {
        "id": "xvBe6FFkXpJo"
      },
      "source": [
        "For this tutorial we will use an in-memory-only SQLite database. This is an easy way to test things without needing to have an actual database defined anywhere."
      ]
    },
    {
      "cell_type": "code",
      "metadata": {
        "id": "dm7Z_x6D_qDv"
      },
      "source": [
        "engine = create_engine('sqlite:///:memory:', echo=False)"
      ],
      "execution_count": 180,
      "outputs": []
    },
    {
      "cell_type": "markdown",
      "metadata": {
        "id": "G_H88OGkX4cV"
      },
      "source": [
        "We have to define a metadata object."
      ]
    },
    {
      "cell_type": "code",
      "metadata": {
        "id": "ZjZewlycUoRm"
      },
      "source": [
        "metadata = MetaData()"
      ],
      "execution_count": 181,
      "outputs": []
    },
    {
      "cell_type": "markdown",
      "metadata": {
        "id": "kI9wWs_BYGvG"
      },
      "source": [
        "Next we define the schemas of the tables."
      ]
    },
    {
      "cell_type": "markdown",
      "metadata": {
        "id": "3senhx-6Z8YK"
      },
      "source": []
    },
    {
      "cell_type": "code",
      "metadata": {
        "id": "P9sEIULZZ8w4"
      },
      "source": [
        "users = Table('users', metadata,\n",
        "    Column('id', Integer),\n",
        "    Column('name', String),\n",
        "    Column('fullname', String),\n",
        ")"
      ],
      "execution_count": 182,
      "outputs": []
    },
    {
      "cell_type": "code",
      "metadata": {
        "id": "9LSNQTosazr1"
      },
      "source": [
        "addresses = Table('addresses', metadata,\n",
        "    Column('id', Integer),\n",
        "    Column('user_id', Integer),\n",
        "    Column('email_address', String)\n",
        ")"
      ],
      "execution_count": 183,
      "outputs": []
    },
    {
      "cell_type": "markdown",
      "metadata": {
        "id": "Sod8jayga1do"
      },
      "source": [
        "> **Note:** The metadata object makes sure there are no ambiguities in the database. Try to create another table with the same name and read the exception."
      ]
    },
    {
      "cell_type": "markdown",
      "metadata": {
        "id": "FhrwLu63YKgb"
      },
      "source": [
        "Finally, we use the metadata object to create all the tables."
      ]
    },
    {
      "cell_type": "code",
      "metadata": {
        "id": "wLkgR4V2R_At"
      },
      "source": [
        "metadata.create_all(engine)"
      ],
      "execution_count": 184,
      "outputs": []
    },
    {
      "cell_type": "markdown",
      "metadata": {
        "id": "jGQwSbDYVpsO"
      },
      "source": [
        "## Insert data"
      ]
    },
    {
      "cell_type": "markdown",
      "metadata": {
        "id": "sRr4byF3YTtJ"
      },
      "source": [
        "All operations are sent to the database through the connection object."
      ]
    },
    {
      "cell_type": "code",
      "metadata": {
        "id": "c_hGJLRPC-SK"
      },
      "source": [
        "conn = engine.connect()"
      ],
      "execution_count": 185,
      "outputs": []
    },
    {
      "cell_type": "markdown",
      "metadata": {
        "id": "bj1mO6DyYafU"
      },
      "source": [
        "The [`insert()`](https://docs.sqlalchemy.org/en/13/core/dml.html#sqlalchemy.sql.expression.insert) method is a wrapper for SQL's INSERT command."
      ]
    },
    {
      "cell_type": "code",
      "metadata": {
        "id": "V8Iq8YrlAMTe"
      },
      "source": [
        "ins = users.insert().values(id=1234, name='jack', fullname='Jack Jones')"
      ],
      "execution_count": 186,
      "outputs": []
    },
    {
      "cell_type": "code",
      "metadata": {
        "colab": {
          "base_uri": "https://localhost:8080/",
          "height": 36
        },
        "id": "PvPvWc0cAM0x",
        "outputId": "6f7d876a-7fc5-47a9-d965-36cb19b7c9de"
      },
      "source": [
        "str(ins)"
      ],
      "execution_count": 187,
      "outputs": [
        {
          "output_type": "execute_result",
          "data": {
            "text/plain": [
              "'INSERT INTO users (id, name, fullname) VALUES (:id, :name, :fullname)'"
            ],
            "application/vnd.google.colaboratory.intrinsic+json": {
              "type": "string"
            }
          },
          "metadata": {},
          "execution_count": 187
        }
      ]
    },
    {
      "cell_type": "code",
      "metadata": {
        "id": "e0rdRePDC_vi"
      },
      "source": [
        "result = conn.execute(ins)"
      ],
      "execution_count": 188,
      "outputs": []
    },
    {
      "cell_type": "markdown",
      "metadata": {
        "id": "ASRZy6hzV7YA"
      },
      "source": [
        "> **Note:** This `ResultProxy` object does not contain any result."
      ]
    },
    {
      "cell_type": "markdown",
      "metadata": {
        "id": "kloOnq-RaNXc"
      },
      "source": [
        "### Testing"
      ]
    },
    {
      "cell_type": "code",
      "metadata": {
        "colab": {
          "base_uri": "https://localhost:8080/"
        },
        "id": "Hao13MQTaPat",
        "outputId": "f8b25d60-a224-4334-f0e0-145d72ee8c7c"
      },
      "source": [
        "conn.execute(select(users)).fetchall()"
      ],
      "execution_count": 190,
      "outputs": [
        {
          "output_type": "execute_result",
          "data": {
            "text/plain": [
              "[(1234, 'jack', 'Jack Jones')]"
            ]
          },
          "metadata": {},
          "execution_count": 190
        }
      ]
    },
    {
      "cell_type": "markdown",
      "metadata": {
        "id": "j7tYW0FSWX0_"
      },
      "source": [
        "# Example"
      ]
    },
    {
      "cell_type": "markdown",
      "metadata": {
        "id": "yQVUJVPPYEoM"
      },
      "source": [
        "In this example we do the following:\n",
        "1. We insert the data of the MovieLens files into two database tables.\n",
        "2. We use SQLAlchemy to find the best movie (having at least 30 viewers)."
      ]
    },
    {
      "cell_type": "markdown",
      "metadata": {
        "id": "XQZ-jkVOczWs"
      },
      "source": [
        "## Inspect the data"
      ]
    },
    {
      "cell_type": "code",
      "metadata": {
        "id": "BuGQgqXRWl4x"
      },
      "source": [
        "import sys\n",
        "if 'google.colab' in sys.modules:\n",
        "    from google.colab import files\n",
        "    uploaded = files.upload()"
      ],
      "execution_count": null,
      "outputs": []
    },
    {
      "cell_type": "code",
      "metadata": {
        "colab": {
          "base_uri": "https://localhost:8080/",
          "height": 206
        },
        "id": "QyOrq1J1Yfmh",
        "outputId": "295722f6-86b0-4f8c-cb54-fd3afb599c20"
      },
      "source": [
        "df_movies = pd.read_csv('movies.csv')\n",
        "df_movies.head()"
      ],
      "execution_count": 191,
      "outputs": [
        {
          "output_type": "execute_result",
          "data": {
            "text/plain": [
              "   movieID                               title  \\\n",
              "0        1                    Toy Story (1995)   \n",
              "1        2                      Jumanji (1995)   \n",
              "2        3             Grumpier Old Men (1995)   \n",
              "3        4            Waiting to Exhale (1995)   \n",
              "4        5  Father of the Bride Part II (1995)   \n",
              "\n",
              "                                        genres  \n",
              "0  Adventure|Animation|Children|Comedy|Fantasy  \n",
              "1                   Adventure|Children|Fantasy  \n",
              "2                               Comedy|Romance  \n",
              "3                         Comedy|Drama|Romance  \n",
              "4                                       Comedy  "
            ],
            "text/html": [
              "\n",
              "  <div id=\"df-bacce2e6-2027-40d4-873e-8b5a72190347\" class=\"colab-df-container\">\n",
              "    <div>\n",
              "<style scoped>\n",
              "    .dataframe tbody tr th:only-of-type {\n",
              "        vertical-align: middle;\n",
              "    }\n",
              "\n",
              "    .dataframe tbody tr th {\n",
              "        vertical-align: top;\n",
              "    }\n",
              "\n",
              "    .dataframe thead th {\n",
              "        text-align: right;\n",
              "    }\n",
              "</style>\n",
              "<table border=\"1\" class=\"dataframe\">\n",
              "  <thead>\n",
              "    <tr style=\"text-align: right;\">\n",
              "      <th></th>\n",
              "      <th>movieID</th>\n",
              "      <th>title</th>\n",
              "      <th>genres</th>\n",
              "    </tr>\n",
              "  </thead>\n",
              "  <tbody>\n",
              "    <tr>\n",
              "      <th>0</th>\n",
              "      <td>1</td>\n",
              "      <td>Toy Story (1995)</td>\n",
              "      <td>Adventure|Animation|Children|Comedy|Fantasy</td>\n",
              "    </tr>\n",
              "    <tr>\n",
              "      <th>1</th>\n",
              "      <td>2</td>\n",
              "      <td>Jumanji (1995)</td>\n",
              "      <td>Adventure|Children|Fantasy</td>\n",
              "    </tr>\n",
              "    <tr>\n",
              "      <th>2</th>\n",
              "      <td>3</td>\n",
              "      <td>Grumpier Old Men (1995)</td>\n",
              "      <td>Comedy|Romance</td>\n",
              "    </tr>\n",
              "    <tr>\n",
              "      <th>3</th>\n",
              "      <td>4</td>\n",
              "      <td>Waiting to Exhale (1995)</td>\n",
              "      <td>Comedy|Drama|Romance</td>\n",
              "    </tr>\n",
              "    <tr>\n",
              "      <th>4</th>\n",
              "      <td>5</td>\n",
              "      <td>Father of the Bride Part II (1995)</td>\n",
              "      <td>Comedy</td>\n",
              "    </tr>\n",
              "  </tbody>\n",
              "</table>\n",
              "</div>\n",
              "    <div class=\"colab-df-buttons\">\n",
              "\n",
              "  <div class=\"colab-df-container\">\n",
              "    <button class=\"colab-df-convert\" onclick=\"convertToInteractive('df-bacce2e6-2027-40d4-873e-8b5a72190347')\"\n",
              "            title=\"Convert this dataframe to an interactive table.\"\n",
              "            style=\"display:none;\">\n",
              "\n",
              "  <svg xmlns=\"http://www.w3.org/2000/svg\" height=\"24px\" viewBox=\"0 -960 960 960\">\n",
              "    <path d=\"M120-120v-720h720v720H120Zm60-500h600v-160H180v160Zm220 220h160v-160H400v160Zm0 220h160v-160H400v160ZM180-400h160v-160H180v160Zm440 0h160v-160H620v160ZM180-180h160v-160H180v160Zm440 0h160v-160H620v160Z\"/>\n",
              "  </svg>\n",
              "    </button>\n",
              "\n",
              "  <style>\n",
              "    .colab-df-container {\n",
              "      display:flex;\n",
              "      gap: 12px;\n",
              "    }\n",
              "\n",
              "    .colab-df-convert {\n",
              "      background-color: #E8F0FE;\n",
              "      border: none;\n",
              "      border-radius: 50%;\n",
              "      cursor: pointer;\n",
              "      display: none;\n",
              "      fill: #1967D2;\n",
              "      height: 32px;\n",
              "      padding: 0 0 0 0;\n",
              "      width: 32px;\n",
              "    }\n",
              "\n",
              "    .colab-df-convert:hover {\n",
              "      background-color: #E2EBFA;\n",
              "      box-shadow: 0px 1px 2px rgba(60, 64, 67, 0.3), 0px 1px 3px 1px rgba(60, 64, 67, 0.15);\n",
              "      fill: #174EA6;\n",
              "    }\n",
              "\n",
              "    .colab-df-buttons div {\n",
              "      margin-bottom: 4px;\n",
              "    }\n",
              "\n",
              "    [theme=dark] .colab-df-convert {\n",
              "      background-color: #3B4455;\n",
              "      fill: #D2E3FC;\n",
              "    }\n",
              "\n",
              "    [theme=dark] .colab-df-convert:hover {\n",
              "      background-color: #434B5C;\n",
              "      box-shadow: 0px 1px 3px 1px rgba(0, 0, 0, 0.15);\n",
              "      filter: drop-shadow(0px 1px 2px rgba(0, 0, 0, 0.3));\n",
              "      fill: #FFFFFF;\n",
              "    }\n",
              "  </style>\n",
              "\n",
              "    <script>\n",
              "      const buttonEl =\n",
              "        document.querySelector('#df-bacce2e6-2027-40d4-873e-8b5a72190347 button.colab-df-convert');\n",
              "      buttonEl.style.display =\n",
              "        google.colab.kernel.accessAllowed ? 'block' : 'none';\n",
              "\n",
              "      async function convertToInteractive(key) {\n",
              "        const element = document.querySelector('#df-bacce2e6-2027-40d4-873e-8b5a72190347');\n",
              "        const dataTable =\n",
              "          await google.colab.kernel.invokeFunction('convertToInteractive',\n",
              "                                                    [key], {});\n",
              "        if (!dataTable) return;\n",
              "\n",
              "        const docLinkHtml = 'Like what you see? Visit the ' +\n",
              "          '<a target=\"_blank\" href=https://colab.research.google.com/notebooks/data_table.ipynb>data table notebook</a>'\n",
              "          + ' to learn more about interactive tables.';\n",
              "        element.innerHTML = '';\n",
              "        dataTable['output_type'] = 'display_data';\n",
              "        await google.colab.output.renderOutput(dataTable, element);\n",
              "        const docLink = document.createElement('div');\n",
              "        docLink.innerHTML = docLinkHtml;\n",
              "        element.appendChild(docLink);\n",
              "      }\n",
              "    </script>\n",
              "  </div>\n",
              "\n",
              "\n",
              "<div id=\"df-1c76deec-f9c1-4b15-a12b-30b1e03ded9b\">\n",
              "  <button class=\"colab-df-quickchart\" onclick=\"quickchart('df-1c76deec-f9c1-4b15-a12b-30b1e03ded9b')\"\n",
              "            title=\"Suggest charts\"\n",
              "            style=\"display:none;\">\n",
              "\n",
              "<svg xmlns=\"http://www.w3.org/2000/svg\" height=\"24px\"viewBox=\"0 0 24 24\"\n",
              "     width=\"24px\">\n",
              "    <g>\n",
              "        <path d=\"M19 3H5c-1.1 0-2 .9-2 2v14c0 1.1.9 2 2 2h14c1.1 0 2-.9 2-2V5c0-1.1-.9-2-2-2zM9 17H7v-7h2v7zm4 0h-2V7h2v10zm4 0h-2v-4h2v4z\"/>\n",
              "    </g>\n",
              "</svg>\n",
              "  </button>\n",
              "\n",
              "<style>\n",
              "  .colab-df-quickchart {\n",
              "      --bg-color: #E8F0FE;\n",
              "      --fill-color: #1967D2;\n",
              "      --hover-bg-color: #E2EBFA;\n",
              "      --hover-fill-color: #174EA6;\n",
              "      --disabled-fill-color: #AAA;\n",
              "      --disabled-bg-color: #DDD;\n",
              "  }\n",
              "\n",
              "  [theme=dark] .colab-df-quickchart {\n",
              "      --bg-color: #3B4455;\n",
              "      --fill-color: #D2E3FC;\n",
              "      --hover-bg-color: #434B5C;\n",
              "      --hover-fill-color: #FFFFFF;\n",
              "      --disabled-bg-color: #3B4455;\n",
              "      --disabled-fill-color: #666;\n",
              "  }\n",
              "\n",
              "  .colab-df-quickchart {\n",
              "    background-color: var(--bg-color);\n",
              "    border: none;\n",
              "    border-radius: 50%;\n",
              "    cursor: pointer;\n",
              "    display: none;\n",
              "    fill: var(--fill-color);\n",
              "    height: 32px;\n",
              "    padding: 0;\n",
              "    width: 32px;\n",
              "  }\n",
              "\n",
              "  .colab-df-quickchart:hover {\n",
              "    background-color: var(--hover-bg-color);\n",
              "    box-shadow: 0 1px 2px rgba(60, 64, 67, 0.3), 0 1px 3px 1px rgba(60, 64, 67, 0.15);\n",
              "    fill: var(--button-hover-fill-color);\n",
              "  }\n",
              "\n",
              "  .colab-df-quickchart-complete:disabled,\n",
              "  .colab-df-quickchart-complete:disabled:hover {\n",
              "    background-color: var(--disabled-bg-color);\n",
              "    fill: var(--disabled-fill-color);\n",
              "    box-shadow: none;\n",
              "  }\n",
              "\n",
              "  .colab-df-spinner {\n",
              "    border: 2px solid var(--fill-color);\n",
              "    border-color: transparent;\n",
              "    border-bottom-color: var(--fill-color);\n",
              "    animation:\n",
              "      spin 1s steps(1) infinite;\n",
              "  }\n",
              "\n",
              "  @keyframes spin {\n",
              "    0% {\n",
              "      border-color: transparent;\n",
              "      border-bottom-color: var(--fill-color);\n",
              "      border-left-color: var(--fill-color);\n",
              "    }\n",
              "    20% {\n",
              "      border-color: transparent;\n",
              "      border-left-color: var(--fill-color);\n",
              "      border-top-color: var(--fill-color);\n",
              "    }\n",
              "    30% {\n",
              "      border-color: transparent;\n",
              "      border-left-color: var(--fill-color);\n",
              "      border-top-color: var(--fill-color);\n",
              "      border-right-color: var(--fill-color);\n",
              "    }\n",
              "    40% {\n",
              "      border-color: transparent;\n",
              "      border-right-color: var(--fill-color);\n",
              "      border-top-color: var(--fill-color);\n",
              "    }\n",
              "    60% {\n",
              "      border-color: transparent;\n",
              "      border-right-color: var(--fill-color);\n",
              "    }\n",
              "    80% {\n",
              "      border-color: transparent;\n",
              "      border-right-color: var(--fill-color);\n",
              "      border-bottom-color: var(--fill-color);\n",
              "    }\n",
              "    90% {\n",
              "      border-color: transparent;\n",
              "      border-bottom-color: var(--fill-color);\n",
              "    }\n",
              "  }\n",
              "</style>\n",
              "\n",
              "  <script>\n",
              "    async function quickchart(key) {\n",
              "      const quickchartButtonEl =\n",
              "        document.querySelector('#' + key + ' button');\n",
              "      quickchartButtonEl.disabled = true;  // To prevent multiple clicks.\n",
              "      quickchartButtonEl.classList.add('colab-df-spinner');\n",
              "      try {\n",
              "        const charts = await google.colab.kernel.invokeFunction(\n",
              "            'suggestCharts', [key], {});\n",
              "      } catch (error) {\n",
              "        console.error('Error during call to suggestCharts:', error);\n",
              "      }\n",
              "      quickchartButtonEl.classList.remove('colab-df-spinner');\n",
              "      quickchartButtonEl.classList.add('colab-df-quickchart-complete');\n",
              "    }\n",
              "    (() => {\n",
              "      let quickchartButtonEl =\n",
              "        document.querySelector('#df-1c76deec-f9c1-4b15-a12b-30b1e03ded9b button');\n",
              "      quickchartButtonEl.style.display =\n",
              "        google.colab.kernel.accessAllowed ? 'block' : 'none';\n",
              "    })();\n",
              "  </script>\n",
              "</div>\n",
              "\n",
              "    </div>\n",
              "  </div>\n"
            ]
          },
          "metadata": {},
          "execution_count": 191
        }
      ]
    },
    {
      "cell_type": "code",
      "metadata": {
        "id": "QkedUBX4YuAD",
        "outputId": "1e38099f-b2cd-4ff0-d281-a1dcaac170be",
        "colab": {
          "base_uri": "https://localhost:8080/",
          "height": 206
        }
      },
      "source": [
        "df_ratings = pd.read_csv('ratings.csv')\n",
        "df_ratings.head()"
      ],
      "execution_count": 193,
      "outputs": [
        {
          "output_type": "execute_result",
          "data": {
            "text/plain": [
              "   userID  movieID  rating   timestamp\n",
              "0       1       31     2.5  1260759144\n",
              "1       1     1029     3.0  1260759179\n",
              "2       1     1061     3.0  1260759182\n",
              "3       1     1129     2.0  1260759185\n",
              "4       1     1172     4.0  1260759205"
            ],
            "text/html": [
              "\n",
              "  <div id=\"df-6c9356b5-ed90-4ba0-bcaf-1faff9932c89\" class=\"colab-df-container\">\n",
              "    <div>\n",
              "<style scoped>\n",
              "    .dataframe tbody tr th:only-of-type {\n",
              "        vertical-align: middle;\n",
              "    }\n",
              "\n",
              "    .dataframe tbody tr th {\n",
              "        vertical-align: top;\n",
              "    }\n",
              "\n",
              "    .dataframe thead th {\n",
              "        text-align: right;\n",
              "    }\n",
              "</style>\n",
              "<table border=\"1\" class=\"dataframe\">\n",
              "  <thead>\n",
              "    <tr style=\"text-align: right;\">\n",
              "      <th></th>\n",
              "      <th>userID</th>\n",
              "      <th>movieID</th>\n",
              "      <th>rating</th>\n",
              "      <th>timestamp</th>\n",
              "    </tr>\n",
              "  </thead>\n",
              "  <tbody>\n",
              "    <tr>\n",
              "      <th>0</th>\n",
              "      <td>1</td>\n",
              "      <td>31</td>\n",
              "      <td>2.5</td>\n",
              "      <td>1260759144</td>\n",
              "    </tr>\n",
              "    <tr>\n",
              "      <th>1</th>\n",
              "      <td>1</td>\n",
              "      <td>1029</td>\n",
              "      <td>3.0</td>\n",
              "      <td>1260759179</td>\n",
              "    </tr>\n",
              "    <tr>\n",
              "      <th>2</th>\n",
              "      <td>1</td>\n",
              "      <td>1061</td>\n",
              "      <td>3.0</td>\n",
              "      <td>1260759182</td>\n",
              "    </tr>\n",
              "    <tr>\n",
              "      <th>3</th>\n",
              "      <td>1</td>\n",
              "      <td>1129</td>\n",
              "      <td>2.0</td>\n",
              "      <td>1260759185</td>\n",
              "    </tr>\n",
              "    <tr>\n",
              "      <th>4</th>\n",
              "      <td>1</td>\n",
              "      <td>1172</td>\n",
              "      <td>4.0</td>\n",
              "      <td>1260759205</td>\n",
              "    </tr>\n",
              "  </tbody>\n",
              "</table>\n",
              "</div>\n",
              "    <div class=\"colab-df-buttons\">\n",
              "\n",
              "  <div class=\"colab-df-container\">\n",
              "    <button class=\"colab-df-convert\" onclick=\"convertToInteractive('df-6c9356b5-ed90-4ba0-bcaf-1faff9932c89')\"\n",
              "            title=\"Convert this dataframe to an interactive table.\"\n",
              "            style=\"display:none;\">\n",
              "\n",
              "  <svg xmlns=\"http://www.w3.org/2000/svg\" height=\"24px\" viewBox=\"0 -960 960 960\">\n",
              "    <path d=\"M120-120v-720h720v720H120Zm60-500h600v-160H180v160Zm220 220h160v-160H400v160Zm0 220h160v-160H400v160ZM180-400h160v-160H180v160Zm440 0h160v-160H620v160ZM180-180h160v-160H180v160Zm440 0h160v-160H620v160Z\"/>\n",
              "  </svg>\n",
              "    </button>\n",
              "\n",
              "  <style>\n",
              "    .colab-df-container {\n",
              "      display:flex;\n",
              "      gap: 12px;\n",
              "    }\n",
              "\n",
              "    .colab-df-convert {\n",
              "      background-color: #E8F0FE;\n",
              "      border: none;\n",
              "      border-radius: 50%;\n",
              "      cursor: pointer;\n",
              "      display: none;\n",
              "      fill: #1967D2;\n",
              "      height: 32px;\n",
              "      padding: 0 0 0 0;\n",
              "      width: 32px;\n",
              "    }\n",
              "\n",
              "    .colab-df-convert:hover {\n",
              "      background-color: #E2EBFA;\n",
              "      box-shadow: 0px 1px 2px rgba(60, 64, 67, 0.3), 0px 1px 3px 1px rgba(60, 64, 67, 0.15);\n",
              "      fill: #174EA6;\n",
              "    }\n",
              "\n",
              "    .colab-df-buttons div {\n",
              "      margin-bottom: 4px;\n",
              "    }\n",
              "\n",
              "    [theme=dark] .colab-df-convert {\n",
              "      background-color: #3B4455;\n",
              "      fill: #D2E3FC;\n",
              "    }\n",
              "\n",
              "    [theme=dark] .colab-df-convert:hover {\n",
              "      background-color: #434B5C;\n",
              "      box-shadow: 0px 1px 3px 1px rgba(0, 0, 0, 0.15);\n",
              "      filter: drop-shadow(0px 1px 2px rgba(0, 0, 0, 0.3));\n",
              "      fill: #FFFFFF;\n",
              "    }\n",
              "  </style>\n",
              "\n",
              "    <script>\n",
              "      const buttonEl =\n",
              "        document.querySelector('#df-6c9356b5-ed90-4ba0-bcaf-1faff9932c89 button.colab-df-convert');\n",
              "      buttonEl.style.display =\n",
              "        google.colab.kernel.accessAllowed ? 'block' : 'none';\n",
              "\n",
              "      async function convertToInteractive(key) {\n",
              "        const element = document.querySelector('#df-6c9356b5-ed90-4ba0-bcaf-1faff9932c89');\n",
              "        const dataTable =\n",
              "          await google.colab.kernel.invokeFunction('convertToInteractive',\n",
              "                                                    [key], {});\n",
              "        if (!dataTable) return;\n",
              "\n",
              "        const docLinkHtml = 'Like what you see? Visit the ' +\n",
              "          '<a target=\"_blank\" href=https://colab.research.google.com/notebooks/data_table.ipynb>data table notebook</a>'\n",
              "          + ' to learn more about interactive tables.';\n",
              "        element.innerHTML = '';\n",
              "        dataTable['output_type'] = 'display_data';\n",
              "        await google.colab.output.renderOutput(dataTable, element);\n",
              "        const docLink = document.createElement('div');\n",
              "        docLink.innerHTML = docLinkHtml;\n",
              "        element.appendChild(docLink);\n",
              "      }\n",
              "    </script>\n",
              "  </div>\n",
              "\n",
              "\n",
              "<div id=\"df-9368da12-dfea-4dbb-951f-64600800ac01\">\n",
              "  <button class=\"colab-df-quickchart\" onclick=\"quickchart('df-9368da12-dfea-4dbb-951f-64600800ac01')\"\n",
              "            title=\"Suggest charts\"\n",
              "            style=\"display:none;\">\n",
              "\n",
              "<svg xmlns=\"http://www.w3.org/2000/svg\" height=\"24px\"viewBox=\"0 0 24 24\"\n",
              "     width=\"24px\">\n",
              "    <g>\n",
              "        <path d=\"M19 3H5c-1.1 0-2 .9-2 2v14c0 1.1.9 2 2 2h14c1.1 0 2-.9 2-2V5c0-1.1-.9-2-2-2zM9 17H7v-7h2v7zm4 0h-2V7h2v10zm4 0h-2v-4h2v4z\"/>\n",
              "    </g>\n",
              "</svg>\n",
              "  </button>\n",
              "\n",
              "<style>\n",
              "  .colab-df-quickchart {\n",
              "      --bg-color: #E8F0FE;\n",
              "      --fill-color: #1967D2;\n",
              "      --hover-bg-color: #E2EBFA;\n",
              "      --hover-fill-color: #174EA6;\n",
              "      --disabled-fill-color: #AAA;\n",
              "      --disabled-bg-color: #DDD;\n",
              "  }\n",
              "\n",
              "  [theme=dark] .colab-df-quickchart {\n",
              "      --bg-color: #3B4455;\n",
              "      --fill-color: #D2E3FC;\n",
              "      --hover-bg-color: #434B5C;\n",
              "      --hover-fill-color: #FFFFFF;\n",
              "      --disabled-bg-color: #3B4455;\n",
              "      --disabled-fill-color: #666;\n",
              "  }\n",
              "\n",
              "  .colab-df-quickchart {\n",
              "    background-color: var(--bg-color);\n",
              "    border: none;\n",
              "    border-radius: 50%;\n",
              "    cursor: pointer;\n",
              "    display: none;\n",
              "    fill: var(--fill-color);\n",
              "    height: 32px;\n",
              "    padding: 0;\n",
              "    width: 32px;\n",
              "  }\n",
              "\n",
              "  .colab-df-quickchart:hover {\n",
              "    background-color: var(--hover-bg-color);\n",
              "    box-shadow: 0 1px 2px rgba(60, 64, 67, 0.3), 0 1px 3px 1px rgba(60, 64, 67, 0.15);\n",
              "    fill: var(--button-hover-fill-color);\n",
              "  }\n",
              "\n",
              "  .colab-df-quickchart-complete:disabled,\n",
              "  .colab-df-quickchart-complete:disabled:hover {\n",
              "    background-color: var(--disabled-bg-color);\n",
              "    fill: var(--disabled-fill-color);\n",
              "    box-shadow: none;\n",
              "  }\n",
              "\n",
              "  .colab-df-spinner {\n",
              "    border: 2px solid var(--fill-color);\n",
              "    border-color: transparent;\n",
              "    border-bottom-color: var(--fill-color);\n",
              "    animation:\n",
              "      spin 1s steps(1) infinite;\n",
              "  }\n",
              "\n",
              "  @keyframes spin {\n",
              "    0% {\n",
              "      border-color: transparent;\n",
              "      border-bottom-color: var(--fill-color);\n",
              "      border-left-color: var(--fill-color);\n",
              "    }\n",
              "    20% {\n",
              "      border-color: transparent;\n",
              "      border-left-color: var(--fill-color);\n",
              "      border-top-color: var(--fill-color);\n",
              "    }\n",
              "    30% {\n",
              "      border-color: transparent;\n",
              "      border-left-color: var(--fill-color);\n",
              "      border-top-color: var(--fill-color);\n",
              "      border-right-color: var(--fill-color);\n",
              "    }\n",
              "    40% {\n",
              "      border-color: transparent;\n",
              "      border-right-color: var(--fill-color);\n",
              "      border-top-color: var(--fill-color);\n",
              "    }\n",
              "    60% {\n",
              "      border-color: transparent;\n",
              "      border-right-color: var(--fill-color);\n",
              "    }\n",
              "    80% {\n",
              "      border-color: transparent;\n",
              "      border-right-color: var(--fill-color);\n",
              "      border-bottom-color: var(--fill-color);\n",
              "    }\n",
              "    90% {\n",
              "      border-color: transparent;\n",
              "      border-bottom-color: var(--fill-color);\n",
              "    }\n",
              "  }\n",
              "</style>\n",
              "\n",
              "  <script>\n",
              "    async function quickchart(key) {\n",
              "      const quickchartButtonEl =\n",
              "        document.querySelector('#' + key + ' button');\n",
              "      quickchartButtonEl.disabled = true;  // To prevent multiple clicks.\n",
              "      quickchartButtonEl.classList.add('colab-df-spinner');\n",
              "      try {\n",
              "        const charts = await google.colab.kernel.invokeFunction(\n",
              "            'suggestCharts', [key], {});\n",
              "      } catch (error) {\n",
              "        console.error('Error during call to suggestCharts:', error);\n",
              "      }\n",
              "      quickchartButtonEl.classList.remove('colab-df-spinner');\n",
              "      quickchartButtonEl.classList.add('colab-df-quickchart-complete');\n",
              "    }\n",
              "    (() => {\n",
              "      let quickchartButtonEl =\n",
              "        document.querySelector('#df-9368da12-dfea-4dbb-951f-64600800ac01 button');\n",
              "      quickchartButtonEl.style.display =\n",
              "        google.colab.kernel.accessAllowed ? 'block' : 'none';\n",
              "    })();\n",
              "  </script>\n",
              "</div>\n",
              "\n",
              "    </div>\n",
              "  </div>\n"
            ]
          },
          "metadata": {},
          "execution_count": 193
        }
      ]
    },
    {
      "cell_type": "markdown",
      "metadata": {
        "id": "wjc-SBPIc27D"
      },
      "source": [
        "## Creating the tables"
      ]
    },
    {
      "cell_type": "code",
      "metadata": {
        "id": "DTRz9UPtWbsq"
      },
      "source": [
        "engine = create_engine('sqlite:///:memory:', echo=False)\n",
        "metadata = MetaData()\n",
        "conn = engine.connect()"
      ],
      "execution_count": 194,
      "outputs": []
    },
    {
      "cell_type": "code",
      "metadata": {
        "id": "I-adCFXAWgEl"
      },
      "source": [
        "movies = Table('movies', metadata,\n",
        "    Column('movieID', Integer),\n",
        "    Column('title', String),\n",
        "    Column('genres', String),\n",
        ")"
      ],
      "execution_count": 195,
      "outputs": []
    },
    {
      "cell_type": "code",
      "metadata": {
        "id": "Lt7ZL4DHc6o8"
      },
      "source": [
        "ratings = Table('ratings', metadata,\n",
        "    Column('userID', Integer),\n",
        "    Column('movieID', Integer),\n",
        "    Column('rating', Float),\n",
        "    Column('timestamp', Integer)\n",
        ")"
      ],
      "execution_count": 196,
      "outputs": []
    },
    {
      "cell_type": "code",
      "metadata": {
        "id": "-i3GRMjkaqOd"
      },
      "source": [
        "metadata.create_all(engine)"
      ],
      "execution_count": 197,
      "outputs": []
    },
    {
      "cell_type": "markdown",
      "metadata": {
        "id": "iHv5iY8VdLbm"
      },
      "source": [
        "## Inserting the data"
      ]
    },
    {
      "cell_type": "code",
      "metadata": {
        "id": "nONZ-MS_XzOV"
      },
      "source": [
        "for ind, row in df_movies.iterrows():\n",
        "    ins = movies.insert().values(movieID=row.movieID, title=row.title, genres=row.genres)\n",
        "    conn.execute(ins)"
      ],
      "execution_count": 198,
      "outputs": []
    },
    {
      "cell_type": "code",
      "metadata": {
        "id": "2fukJwkPtEXk",
        "outputId": "a03dfe53-bf60-499d-c110-1dd9164cfbb2",
        "colab": {
          "base_uri": "https://localhost:8080/"
        }
      },
      "source": [
        "conn.execute(select(movies)).fetchmany(5)"
      ],
      "execution_count": 200,
      "outputs": [
        {
          "output_type": "execute_result",
          "data": {
            "text/plain": [
              "[(1, 'Toy Story (1995)', 'Adventure|Animation|Children|Comedy|Fantasy'),\n",
              " (2, 'Jumanji (1995)', 'Adventure|Children|Fantasy'),\n",
              " (3, 'Grumpier Old Men (1995)', 'Comedy|Romance'),\n",
              " (4, 'Waiting to Exhale (1995)', 'Comedy|Drama|Romance'),\n",
              " (5, 'Father of the Bride Part II (1995)', 'Comedy')]"
            ]
          },
          "metadata": {},
          "execution_count": 200
        }
      ]
    },
    {
      "cell_type": "code",
      "metadata": {
        "id": "xbhlkxSzaag4"
      },
      "source": [
        "for ind, row in df_ratings.iterrows():\n",
        "    ins = ratings.insert().values(userID=row.userID, movieID=row.movieID, rating=row.rating, timestamp=row.timestamp)\n",
        "    conn.execute(ins)"
      ],
      "execution_count": 201,
      "outputs": []
    },
    {
      "cell_type": "code",
      "metadata": {
        "id": "SKmdNWQrtQCm",
        "outputId": "3e7466bb-2446-42c5-855a-41e3d4ed1498",
        "colab": {
          "base_uri": "https://localhost:8080/"
        }
      },
      "source": [
        "conn.execute(select(ratings)).fetchmany(5)"
      ],
      "execution_count": 202,
      "outputs": [
        {
          "output_type": "execute_result",
          "data": {
            "text/plain": [
              "[(1, 31, 2.5, 1260759144),\n",
              " (1, 1029, 3.0, 1260759179),\n",
              " (1, 1061, 3.0, 1260759182),\n",
              " (1, 1129, 2.0, 1260759185),\n",
              " (1, 1172, 4.0, 1260759205)]"
            ]
          },
          "metadata": {},
          "execution_count": 202
        }
      ]
    },
    {
      "cell_type": "markdown",
      "metadata": {
        "id": "suf57jlcdO9K"
      },
      "source": [
        "## Executing the query"
      ]
    },
    {
      "cell_type": "code",
      "metadata": {
        "id": "ipVZHgV13dXP"
      },
      "source": [
        "join_stmt = movies.join(ratings, ratings.c.movieID == movies.c.movieID)"
      ],
      "execution_count": 203,
      "outputs": []
    },
    {
      "cell_type": "markdown",
      "metadata": {
        "id": "iBGC00budT6k"
      },
      "source": [
        "**To Be Continued**"
      ]
    },
    {
      "cell_type": "code",
      "metadata": {
        "id": "r4b-YtcM2tkP"
      },
      "source": [
        "engine = create_engine('mssql+pyodbc://{}:{}@'.format(server_user, server_password) \\\n",
        "                            + server_name + '/' + \\\n",
        "                            db_name + '?trusted_connection=no&driver=ODBC+Driver+17+for+SQL+server')"
      ],
      "execution_count": null,
      "outputs": []
    },
    {
      "cell_type": "code",
      "source": [],
      "metadata": {
        "id": "dpMhGVsW22ZY"
      },
      "execution_count": null,
      "outputs": []
    }
  ]
}