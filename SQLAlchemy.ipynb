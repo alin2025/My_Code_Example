{
  "nbformat": 4,
  "nbformat_minor": 0,
  "metadata": {
    "colab": {
      "provenance": [],
      "collapsed_sections": [
        "qMSjyzkyPEZF"
      ],
      "include_colab_link": true
    },
    "kernelspec": {
      "display_name": "Python 3",
      "language": "python",
      "name": "python3"
    },
    "language_info": {
      "codemirror_mode": {
        "name": "ipython",
        "version": 3
      },
      "file_extension": ".py",
      "mimetype": "text/x-python",
      "name": "python",
      "nbconvert_exporter": "python",
      "pygments_lexer": "ipython3",
      "version": "3.6.5"
    }
  },
  "cells": [
    {
      "cell_type": "markdown",
      "metadata": {
        "id": "view-in-github",
        "colab_type": "text"
      },
      "source": [
        "<a href=\"https://colab.research.google.com/github/alin2025/My_Code_Example/blob/main/SQLAlchemy.ipynb\" target=\"_parent\"><img src=\"https://colab.research.google.com/assets/colab-badge.svg\" alt=\"Open In Colab\"/></a>"
      ]
    },
    {
      "cell_type": "code",
      "metadata": {
        "id": "zblNDDBlGQzV"
      },
      "source": [
        "import pandas as pd\n",
        "from sqlalchemy import create_engine, Table, MetaData, Column, Integer, String, Float,inspect\n",
        "from sqlalchemy import select, desc\n",
        "from sqlalchemy.sql import func\n",
        "import sqlalchemy"
      ],
      "execution_count": 161,
      "outputs": []
    },
    {
      "cell_type": "markdown",
      "metadata": {
        "id": "-GK7eCNV_cJK"
      },
      "source": [
        "> **Reference:** [Excellent SQLAlchemy tutorial with examples by Vinay Kudari](https://towardsdatascience.com/sqlalchemy-python-tutorial-79a577141a91)"
      ]
    },
    {
      "cell_type": "markdown",
      "metadata": {
        "id": "gORWqKlwGQzf"
      },
      "source": [
        "# SQLAlchemy basic concepts"
      ]
    },
    {
      "cell_type": "markdown",
      "metadata": {
        "id": "gI3s4DZ-GQzj"
      },
      "source": [
        "[**SQLAlchemy**](http://docs.sqlalchemy.org/en/latest/core/engines.html) provides a nice “Pythonic” way of interacting with databases. So rather than dealing with the differences between specific dialects of traditional SQL such as MySQL or PostgreSQL or Oracle, you can leverage the Pythonic framework of SQLAlchemy to streamline your workflow and more efficiently query your data."
      ]
    },
    {
      "cell_type": "markdown",
      "metadata": {
        "id": "j_bzChTj3dKy"
      },
      "source": [
        "In this example we will interact with an [**SQLite**](http://www.sqlitetutorial.net/) database, which is a C library that provides a lightweight disk-based database. We will work in front of an existing DB called [`chinook`](http://www.sqlitetutorial.net/sqlite-sample-database)."
      ]
    },
    {
      "cell_type": "markdown",
      "metadata": {
        "id": "yJSiHUhIGQzl"
      },
      "source": [
        "## Engine"
      ]
    },
    {
      "cell_type": "markdown",
      "metadata": {
        "id": "wahXytpDGQzo"
      },
      "source": [
        "[Engine](http://docs.sqlalchemy.org/en/latest/core/connections.html#sqlalchemy.engine.Engine) is the most fundamental object of SQLAlchemy, and it defines the database we work with."
      ]
    },
    {
      "cell_type": "code",
      "metadata": {
        "id": "iGBnMCAYGQzq"
      },
      "source": [
        "engine = sqlalchemy.create_engine('sqlite:///chinook.db', echo=False)"
      ],
      "execution_count": 145,
      "outputs": []
    },
    {
      "cell_type": "code",
      "metadata": {
        "colab": {
          "base_uri": "https://localhost:8080/"
        },
        "id": "WBkmdR4BnBh0",
        "outputId": "1c619049-48f6-41c4-bc28-68fbb751941d"
      },
      "source": [
        "Inspector=inspect(engine)\n",
        "Inspector.get_table_names()"
      ],
      "execution_count": 162,
      "outputs": [
        {
          "output_type": "execute_result",
          "data": {
            "text/plain": [
              "['albums',\n",
              " 'artists',\n",
              " 'customers',\n",
              " 'employees',\n",
              " 'genres',\n",
              " 'invoice_items',\n",
              " 'invoices',\n",
              " 'media_types',\n",
              " 'playlist_track',\n",
              " 'playlists',\n",
              " 'tracks']"
            ]
          },
          "metadata": {},
          "execution_count": 162
        }
      ]
    },
    {
      "cell_type": "markdown",
      "metadata": {
        "id": "1X8pONBr7iov"
      },
      "source": [
        "## MetaData"
      ]
    },
    {
      "cell_type": "markdown",
      "metadata": {
        "id": "6076p7xu3n9h"
      },
      "source": [
        "Database tables in SQLAlchemy belong (are linked to) a [metadata](https://docs.sqlalchemy.org/en/13/core/connections.html#connectionless-execution-implicit-execution) object."
      ]
    },
    {
      "cell_type": "code",
      "metadata": {
        "id": "uX9u6yTWGQzt"
      },
      "source": [
        "metadata = sqlalchemy.MetaData()"
      ],
      "execution_count": 196,
      "outputs": []
    },
    {
      "cell_type": "code",
      "source": [
        "metadata.tables.keys()"
      ],
      "metadata": {
        "colab": {
          "base_uri": "https://localhost:8080/"
        },
        "id": "IlHqm7UFuTO_",
        "outputId": "968a6321-c080-4e80-d0c9-eb27094b5364"
      },
      "execution_count": 197,
      "outputs": [
        {
          "output_type": "execute_result",
          "data": {
            "text/plain": [
              "dict_keys([])"
            ]
          },
          "metadata": {},
          "execution_count": 197
        }
      ]
    },
    {
      "cell_type": "markdown",
      "metadata": {
        "id": "fPueEXwWxoAg"
      },
      "source": [
        "## [`Table`](https://docs.sqlalchemy.org/en/13/core/metadata.html#sqlalchemy.schema.Table)"
      ]
    },
    {
      "cell_type": "code",
      "metadata": {
        "id": "sPQ8V_x-E9xP"
      },
      "source": [
        "albums = Table('albums', metadata, autoload_with=engine)"
      ],
      "execution_count": 169,
      "outputs": []
    },
    {
      "cell_type": "code",
      "metadata": {
        "colab": {
          "base_uri": "https://localhost:8080/"
        },
        "id": "w326JPEqeTLL",
        "outputId": "a692e31f-a983-4511-bbc6-35e3e438dd4a"
      },
      "source": [
        "type(albums)"
      ],
      "execution_count": 179,
      "outputs": [
        {
          "output_type": "execute_result",
          "data": {
            "text/plain": [
              "sqlalchemy.sql.schema.Table"
            ]
          },
          "metadata": {},
          "execution_count": 179
        }
      ]
    },
    {
      "cell_type": "code",
      "metadata": {
        "colab": {
          "base_uri": "https://localhost:8080/"
        },
        "id": "xjyJJCYAFDZy",
        "outputId": "5498c436-9147-490a-a6e1-c5226b7b66c4"
      },
      "source": [
        "albums.c.keys()"
      ],
      "execution_count": 180,
      "outputs": [
        {
          "output_type": "execute_result",
          "data": {
            "text/plain": [
              "['AlbumId', 'Title', 'ArtistId']"
            ]
          },
          "metadata": {},
          "execution_count": 180
        }
      ]
    },
    {
      "cell_type": "code",
      "source": [
        "metadata.tables"
      ],
      "metadata": {
        "colab": {
          "base_uri": "https://localhost:8080/"
        },
        "id": "yZ8QqbD05Cm2",
        "outputId": "0d7ed8f2-c294-49dc-e6b7-52753ba31049"
      },
      "execution_count": 181,
      "outputs": [
        {
          "output_type": "execute_result",
          "data": {
            "text/plain": [
              "FacadeDict({'albums': Table('albums', MetaData(), Column('AlbumId', INTEGER(), table=<albums>, primary_key=True, nullable=False), Column('Title', NVARCHAR(length=160), table=<albums>, nullable=False), Column('ArtistId', INTEGER(), ForeignKey('artists.ArtistId'), table=<albums>, nullable=False), schema=None), 'artists': Table('artists', MetaData(), Column('ArtistId', INTEGER(), table=<artists>, primary_key=True, nullable=False), Column('Name', NVARCHAR(length=120), table=<artists>), schema=None)})"
            ]
          },
          "metadata": {},
          "execution_count": 181
        }
      ]
    },
    {
      "cell_type": "markdown",
      "metadata": {
        "id": "MNitxtdHeN-9"
      },
      "source": [
        "> **Discussion:** What is the difference between Python's Table and SQL's Table? Mention the concept of DB API."
      ]
    },
    {
      "cell_type": "markdown",
      "metadata": {
        "id": "j_S0I2lyfH29"
      },
      "source": [
        "## Connection"
      ]
    },
    {
      "cell_type": "markdown",
      "metadata": {
        "id": "hRRNjenlGQz2"
      },
      "source": [
        "The `connect()` method returns a [*Connection*][con] object, through which we can send commands to the database.\n",
        "\n",
        "[con]: http://docs.sqlalchemy.org/en/latest/core/connections.html#sqlalchemy.engine.Connection \"Connection docs\""
      ]
    },
    {
      "cell_type": "code",
      "metadata": {
        "id": "dymsSIRpfJM7"
      },
      "source": [
        "conn = engine.connect()"
      ],
      "execution_count": 182,
      "outputs": []
    },
    {
      "cell_type": "markdown",
      "metadata": {
        "id": "GeGxFoJ3_xeb"
      },
      "source": [
        "# Executing DB operations"
      ]
    },
    {
      "cell_type": "markdown",
      "metadata": {
        "id": "4KGf0HpHArLE"
      },
      "source": [
        "Using SQLAlchemy, the `Connection`'s [`execute(object_)`](https://docs.sqlalchemy.org/en/13/core/connections.html#sqlalchemy.engine.Connection.execute) method executes SQL commands in 2 optional ways, either by sending explicit SQL commands, or by wrapping them with Pythonic objects."
      ]
    },
    {
      "cell_type": "markdown",
      "metadata": {
        "id": "uF1rJxxaD4JI"
      },
      "source": [
        "## SQL statements"
      ]
    },
    {
      "cell_type": "markdown",
      "metadata": {
        "id": "Y9RTi6O6EJ9M"
      },
      "source": [
        "A straight-forward approach would be to use our connection and \"send\" SQL commands."
      ]
    },
    {
      "cell_type": "code",
      "metadata": {
        "id": "RSFQqsNAcw-D"
      },
      "source": [
        "query = text('''\n",
        "SELECT * FROM albums\n",
        "WHERE Title LIKE '%the best of%'\n",
        "''')"
      ],
      "execution_count": 183,
      "outputs": []
    },
    {
      "cell_type": "code",
      "metadata": {
        "id": "l38tMIf5I7RE"
      },
      "source": [
        "result = conn.execute(query)"
      ],
      "execution_count": 184,
      "outputs": []
    },
    {
      "cell_type": "code",
      "metadata": {
        "colab": {
          "base_uri": "https://localhost:8080/"
        },
        "id": "s8qekcoBwl6A",
        "outputId": "faca5029-0805-41db-c8bf-176f405e29d5"
      },
      "source": [
        "type(result)"
      ],
      "execution_count": 185,
      "outputs": [
        {
          "output_type": "execute_result",
          "data": {
            "text/plain": [
              "sqlalchemy.engine.cursor.CursorResult"
            ]
          },
          "metadata": {},
          "execution_count": 185
        }
      ]
    },
    {
      "cell_type": "markdown",
      "metadata": {
        "id": "a5K9-b14FT93"
      },
      "source": [
        "> **Note:** This is the one place Python is case insensitive..."
      ]
    },
    {
      "cell_type": "markdown",
      "metadata": {
        "id": "j0w4_MhdE907"
      },
      "source": [
        "The result is a [`ResultProxy`](https://docs.sqlalchemy.org/en/13/core/connections.html#sqlalchemy.engine.ResultProxy). which is an iterator."
      ]
    },
    {
      "cell_type": "code",
      "metadata": {
        "colab": {
          "base_uri": "https://localhost:8080/"
        },
        "id": "KuV-VFf_FHZz",
        "outputId": "23d63f4d-f70b-436e-8c59-02486ef1c9cc"
      },
      "source": [
        "result.fetchmany(5)"
      ],
      "execution_count": 186,
      "outputs": [
        {
          "output_type": "execute_result",
          "data": {
            "text/plain": [
              "[(13, 'The Best Of Billy Cobham', 10),\n",
              " (20, 'The Best Of Buddy Guy - The Millenium Collection', 15),\n",
              " (47, 'The Best of Ed Motta', 37),\n",
              " (61, \"Knocking at Your Back Door: The Best Of Deep Purple in the 80's\", 58),\n",
              " (83, 'My Way: The Best Of Frank Sinatra [Disc 1]', 85)]"
            ]
          },
          "metadata": {},
          "execution_count": 186
        }
      ]
    },
    {
      "cell_type": "markdown",
      "metadata": {
        "id": "h9x5ljSSFvxK"
      },
      "source": [
        "> **Note:** `ResultProxy` is an iterator. What will happen if we run `fetchmany()` again?"
      ]
    },
    {
      "cell_type": "markdown",
      "metadata": {
        "id": "QtduMSXzF8P3"
      },
      "source": [
        "> **Discussion:** To execute queries this way you have to be proficient in SQL. Pros and cons..."
      ]
    },
    {
      "cell_type": "markdown",
      "metadata": {
        "id": "Rp02zAS6haJ_"
      },
      "source": [
        "## [`ClauseElement`](https://docs.sqlalchemy.org/en/latest/core/sqlelement.html#sqlalchemy.sql.expression.ClauseElement)"
      ]
    },
    {
      "cell_type": "markdown",
      "metadata": {
        "id": "JOSViv9gGakn"
      },
      "source": [
        "**The power of an API lies in its objects**, and SQLAlchemy provides \"Pythonic\" objects to represent SQL functionalities. More specifically, we will be interested in  [`FromClause`](https://docs.sqlalchemy.org/en/13/core/selectable.html#sqlalchemy.sql.expression.FromClause) elements."
      ]
    },
    {
      "cell_type": "markdown",
      "metadata": {
        "id": "IW42Dpa1eZZb"
      },
      "source": [
        "> **Reference:** More information about the available expressions (virtually most of SQL functionality) can be found in this [SQL expression language tutorial by SQLAlchemy](https://docs.sqlalchemy.org/en/13/core/tutorial.html#sql-expression-language-tutorial)."
      ]
    },
    {
      "cell_type": "markdown",
      "metadata": {
        "id": "6YqzU3OLcFCI"
      },
      "source": [
        "### Example 1 - select"
      ]
    },
    {
      "cell_type": "markdown",
      "metadata": {
        "id": "cIYyKzxFE5_E"
      },
      "source": [
        "**Task - Show the names of the employees and their job title.**"
      ]
    },
    {
      "cell_type": "markdown",
      "metadata": {
        "id": "he5F5YkmdFDR"
      },
      "source": [
        "We will demonstrate the API with the [`select()`](https://docs.sqlalchemy.org/en/13/core/selectable.html#sqlalchemy.sql.expression.select) method, which returns a [`Select`](https://docs.sqlalchemy.org/en/13/core/selectable.html?highlight=select#sqlalchemy.sql.expression.Select) object."
      ]
    },
    {
      "cell_type": "markdown",
      "metadata": {
        "id": "zgzoj3bq_NlA"
      },
      "source": [
        "Let's demonstrate with the *employees* table."
      ]
    },
    {
      "cell_type": "code",
      "metadata": {
        "id": "RnCzbJF3-4F5"
      },
      "source": [
        "employees = Table('employees', metadata, autoload_with=engine)"
      ],
      "execution_count": 198,
      "outputs": []
    },
    {
      "cell_type": "code",
      "source": [
        "metadata.tables.keys()"
      ],
      "metadata": {
        "id": "VdacvmicClEW",
        "outputId": "d2910059-e16b-41d3-9a11-b456d20c22c1",
        "colab": {
          "base_uri": "https://localhost:8080/"
        }
      },
      "execution_count": 199,
      "outputs": [
        {
          "output_type": "execute_result",
          "data": {
            "text/plain": [
              "dict_keys(['employees'])"
            ]
          },
          "metadata": {},
          "execution_count": 199
        }
      ]
    },
    {
      "cell_type": "code",
      "source": [
        "type(employees)"
      ],
      "metadata": {
        "colab": {
          "base_uri": "https://localhost:8080/"
        },
        "id": "hN4W1emaFDgX",
        "outputId": "17350cff-d01d-4788-839b-639debbb3f57"
      },
      "execution_count": 188,
      "outputs": [
        {
          "output_type": "execute_result",
          "data": {
            "text/plain": [
              "sqlalchemy.sql.schema.Table"
            ]
          },
          "metadata": {},
          "execution_count": 188
        }
      ]
    },
    {
      "cell_type": "markdown",
      "metadata": {
        "id": "y5U2GeDL_aSw"
      },
      "source": [
        "When we create a `select()` construct, SQLAlchemy looks around at the tables we’ve mentioned and then places them in the FROM clause of the statement. We can select the entire table or specific columns."
      ]
    },
    {
      "cell_type": "code",
      "metadata": {
        "id": "REx_K1PFJE1Q"
      },
      "source": [
        "query = sqlalchemy.select(employees)\n",
        "\n",
        "\n",
        "#query = select([employees.c.EmployeeId, employees.c.FirstName, employees.c.LastName, employees.c.Title])\n",
        "\n",
        "# query = select(\n",
        "#     employees.c.EmployeeId,\n",
        "#     employees.c.FirstName,\n",
        "#     employees.c.LastName,\n",
        "#     employees.c.Title\n",
        "# )"
      ],
      "execution_count": 210,
      "outputs": []
    },
    {
      "cell_type": "code",
      "metadata": {
        "colab": {
          "base_uri": "https://localhost:8080/"
        },
        "id": "FKnYSJCexkb6",
        "outputId": "f4535f12-7233-4859-e995-e15334fbb087"
      },
      "source": [
        "type(query)"
      ],
      "execution_count": 211,
      "outputs": [
        {
          "output_type": "execute_result",
          "data": {
            "text/plain": [
              "sqlalchemy.sql.selectable.Select"
            ]
          },
          "metadata": {},
          "execution_count": 211
        }
      ]
    },
    {
      "cell_type": "markdown",
      "metadata": {
        "id": "VD5ziwFKButj"
      },
      "source": [
        "> **Discussion:** Discuss the [`Select`](https://docs.sqlalchemy.org/en/13/core/selectable.html?highlight=select#sqlalchemy.sql.expression.Select) object and its available properties."
      ]
    },
    {
      "cell_type": "code",
      "metadata": {
        "colab": {
          "base_uri": "https://localhost:8080/"
        },
        "id": "94atcBdaVFje",
        "outputId": "c6ba6c6b-2148-4ece-e640-0df7a83a1c36"
      },
      "source": [
        "print(str(query))"
      ],
      "execution_count": 212,
      "outputs": [
        {
          "output_type": "stream",
          "name": "stdout",
          "text": [
            "SELECT employees.\"EmployeeId\", employees.\"LastName\", employees.\"FirstName\", employees.\"Title\", employees.\"ReportsTo\", employees.\"BirthDate\", employees.\"HireDate\", employees.\"Address\", employees.\"City\", employees.\"State\", employees.\"Country\", employees.\"PostalCode\", employees.\"Phone\", employees.\"Fax\", employees.\"Email\" \n",
            "FROM employees\n"
          ]
        }
      ]
    },
    {
      "cell_type": "code",
      "metadata": {
        "id": "hoNMsf1iJzYN"
      },
      "source": [
        "result = conn.execute(query)"
      ],
      "execution_count": 213,
      "outputs": []
    },
    {
      "cell_type": "code",
      "source": [
        "type(result)"
      ],
      "metadata": {
        "colab": {
          "base_uri": "https://localhost:8080/"
        },
        "id": "paQi7adiFiHI",
        "outputId": "eefcb5f9-2082-40b2-a7b0-468177e876ad"
      },
      "execution_count": 214,
      "outputs": [
        {
          "output_type": "execute_result",
          "data": {
            "text/plain": [
              "sqlalchemy.engine.cursor.CursorResult"
            ]
          },
          "metadata": {},
          "execution_count": 214
        }
      ]
    },
    {
      "cell_type": "code",
      "metadata": {
        "id": "1WXPIKf6J5aW"
      },
      "source": [
        "result.fetchall()"
      ],
      "execution_count": null,
      "outputs": []
    },
    {
      "cell_type": "markdown",
      "metadata": {
        "id": "5cLiwn6PcIii"
      },
      "source": [
        "### Example 2 - select-where"
      ]
    },
    {
      "cell_type": "markdown",
      "metadata": {
        "id": "T0VOjZ4aFLSg"
      },
      "source": [
        "**Task - Show the names of the albums which contain the phrase \"The best of\"**."
      ]
    },
    {
      "cell_type": "markdown",
      "metadata": {
        "id": "KFim22148_ux"
      },
      "source": [
        "We can use the `whereclause` argument of `select()`"
      ]
    },
    {
      "cell_type": "code",
      "metadata": {
        "id": "0r8E7tcAGRNU"
      },
      "source": [
        "query = select(\n",
        "    albums.c.Title\n",
        ").where(\n",
        "    albums.c.Title.like('%the best of%')\n",
        ")"
      ],
      "execution_count": 220,
      "outputs": []
    },
    {
      "cell_type": "markdown",
      "metadata": {
        "id": "c_xUgXSr9HOr"
      },
      "source": [
        "Alternatively, we can use the `where()` method of the `Select` object."
      ]
    },
    {
      "cell_type": "code",
      "metadata": {
        "id": "JwHqv-u09Zou"
      },
      "source": [
        "query = select(albums).where(albums.columns.Title.like('%the best of%'))"
      ],
      "execution_count": 222,
      "outputs": []
    },
    {
      "cell_type": "code",
      "metadata": {
        "id": "ZJL9tRuvGRPv"
      },
      "source": [
        "result = conn.execute(query)"
      ],
      "execution_count": 223,
      "outputs": []
    },
    {
      "cell_type": "code",
      "metadata": {
        "colab": {
          "base_uri": "https://localhost:8080/"
        },
        "id": "OXqsTIcEGRWU",
        "outputId": "2f75d19a-80c4-40e4-a3b8-f9518ac66797"
      },
      "source": [
        "result.fetchmany(5)"
      ],
      "execution_count": 224,
      "outputs": [
        {
          "output_type": "execute_result",
          "data": {
            "text/plain": [
              "[(13, 'The Best Of Billy Cobham', 10),\n",
              " (20, 'The Best Of Buddy Guy - The Millenium Collection', 15),\n",
              " (47, 'The Best of Ed Motta', 37),\n",
              " (61, \"Knocking at Your Back Door: The Best Of Deep Purple in the 80's\", 58),\n",
              " (83, 'My Way: The Best Of Frank Sinatra [Disc 1]', 85)]"
            ]
          },
          "metadata": {},
          "execution_count": 224
        }
      ]
    },
    {
      "cell_type": "markdown",
      "metadata": {
        "id": "yirqTJMiiLkk"
      },
      "source": [
        "### Example 3 - join"
      ]
    },
    {
      "cell_type": "markdown",
      "metadata": {
        "id": "dJAPCuE-FjnH"
      },
      "source": [
        "**Task - Show the names of all the albums and their artists.**"
      ]
    },
    {
      "cell_type": "code",
      "metadata": {
        "id": "aUZRoelwifYJ"
      },
      "source": [
        "artists = Table('artists', metadata, autoload_with=engine)\n",
        "albums = Table('albums', metadata, autoload_with=engine)"
      ],
      "execution_count": 225,
      "outputs": []
    },
    {
      "cell_type": "markdown",
      "metadata": {
        "id": "JhqhVnPKJlIq"
      },
      "source": [
        "We use the [`join()`](https://docs.sqlalchemy.org/en/13/core/metadata.html?highlight=join#sqlalchemy.schema.Table.join) method."
      ]
    },
    {
      "cell_type": "code",
      "metadata": {
        "id": "A7zNJQOriRWl"
      },
      "source": [
        "join_stmt = artists.join(albums, artists.c.ArtistId == albums.c.ArtistId)"
      ],
      "execution_count": 226,
      "outputs": []
    },
    {
      "cell_type": "code",
      "metadata": {
        "colab": {
          "base_uri": "https://localhost:8080/"
        },
        "id": "4262WDhBGeFF",
        "outputId": "c2779b2f-a333-43ef-8d52-88fba5b4a567"
      },
      "source": [
        "print(type(join_stmt))"
      ],
      "execution_count": 227,
      "outputs": [
        {
          "output_type": "stream",
          "name": "stdout",
          "text": [
            "<class 'sqlalchemy.sql.selectable.Join'>\n"
          ]
        }
      ]
    },
    {
      "cell_type": "markdown",
      "metadata": {
        "id": "GLp55BhXDJM4"
      },
      "source": [
        "> **Note:** Both `select()` and `join()` are special cases of the more general [`FromClause`](https://docs.sqlalchemy.org/en/13/core/selectable.html#sqlalchemy.sql.expression.FromClause) class, which basically means they can be used within the FROM clause of a SELECT statement. This can be illustrated by looking at\n",
        "\n",
        ">> `join_stmt.c.keys()`\n",
        "\n",
        ">> `conn.execute(select([join_stmt])).fetchmany(5)`"
      ]
    },
    {
      "cell_type": "markdown",
      "metadata": {
        "id": "_PCif0w_I5QG"
      },
      "source": [
        "Now we can select from this Join object."
      ]
    },
    {
      "cell_type": "code",
      "metadata": {
        "id": "BoIOqvE58sVL",
        "outputId": "84302f0e-580a-4e37-99b0-871baf707dce",
        "colab": {
          "base_uri": "https://localhost:8080/",
          "height": 395
        }
      },
      "source": [
        "query = select(\n",
        "    albums.c.Title,\n",
        "    artists.c.Name,\n",
        "               from_obj=join_stmt)"
      ],
      "execution_count": 229,
      "outputs": [
        {
          "output_type": "error",
          "ename": "ArgumentError",
          "evalue": "Additional keyword arguments are not accepted by this function/method.  The presence of **kw is for pep-484 typing purposes",
          "traceback": [
            "\u001b[0;31m---------------------------------------------------------------------------\u001b[0m",
            "\u001b[0;31mArgumentError\u001b[0m                             Traceback (most recent call last)",
            "\u001b[0;32m<ipython-input-229-82f2fad4fdde>\u001b[0m in \u001b[0;36m<cell line: 1>\u001b[0;34m()\u001b[0m\n\u001b[0;32m----> 1\u001b[0;31m query = select(\n\u001b[0m\u001b[1;32m      2\u001b[0m     \u001b[0malbums\u001b[0m\u001b[0;34m.\u001b[0m\u001b[0mc\u001b[0m\u001b[0;34m.\u001b[0m\u001b[0mTitle\u001b[0m\u001b[0;34m,\u001b[0m\u001b[0;34m\u001b[0m\u001b[0;34m\u001b[0m\u001b[0m\n\u001b[1;32m      3\u001b[0m     \u001b[0martists\u001b[0m\u001b[0;34m.\u001b[0m\u001b[0mc\u001b[0m\u001b[0;34m.\u001b[0m\u001b[0mName\u001b[0m\u001b[0;34m,\u001b[0m\u001b[0;34m\u001b[0m\u001b[0;34m\u001b[0m\u001b[0m\n\u001b[1;32m      4\u001b[0m                from_obj=join_stmt)\n",
            "\u001b[0;32m/usr/local/lib/python3.10/dist-packages/sqlalchemy/sql/_selectable_constructors.py\u001b[0m in \u001b[0;36mselect\u001b[0;34m(*entities, **__kw)\u001b[0m\n\u001b[1;32m    486\u001b[0m     \u001b[0;31m# aren't always present.\u001b[0m\u001b[0;34m\u001b[0m\u001b[0;34m\u001b[0m\u001b[0m\n\u001b[1;32m    487\u001b[0m     \u001b[0;32mif\u001b[0m \u001b[0m__kw\u001b[0m\u001b[0;34m:\u001b[0m\u001b[0;34m\u001b[0m\u001b[0;34m\u001b[0m\u001b[0m\n\u001b[0;32m--> 488\u001b[0;31m         \u001b[0;32mraise\u001b[0m \u001b[0m_no_kw\u001b[0m\u001b[0;34m(\u001b[0m\u001b[0;34m)\u001b[0m\u001b[0;34m\u001b[0m\u001b[0;34m\u001b[0m\u001b[0m\n\u001b[0m\u001b[1;32m    489\u001b[0m     \u001b[0;32mreturn\u001b[0m \u001b[0mSelect\u001b[0m\u001b[0;34m(\u001b[0m\u001b[0;34m*\u001b[0m\u001b[0mentities\u001b[0m\u001b[0;34m)\u001b[0m\u001b[0;34m\u001b[0m\u001b[0;34m\u001b[0m\u001b[0m\n\u001b[1;32m    490\u001b[0m \u001b[0;34m\u001b[0m\u001b[0m\n",
            "\u001b[0;31mArgumentError\u001b[0m: Additional keyword arguments are not accepted by this function/method.  The presence of **kw is for pep-484 typing purposes"
          ]
        }
      ]
    },
    {
      "cell_type": "code",
      "source": [
        "import sqlalchemy\n",
        "from sqlalchemy import select, join\n",
        "\n",
        "# Create the engine\n",
        "engine = sqlalchemy.create_engine('sqlite:///chinook.db', echo=False)\n",
        "\n",
        "# Define the metadata\n",
        "metadata = sqlalchemy.MetaData()\n",
        "\n",
        "# Reflect the tables\n",
        "metadata.reflect(bind=engine)\n",
        "\n",
        "# Get the 'albums' and 'artists' tables from metadata\n",
        "albums = metadata.tables['albums']\n",
        "artists = metadata.tables['artists']\n",
        "\n",
        "# Define the join condition\n",
        "join_stmt = join(albums, artists, albums.c.ArtistId == artists.c.ArtistId)\n",
        "\n",
        "# Establish a connection\n",
        "conn = engine.connect()\n",
        "\n",
        "# Define the query to select columns from both tables and join them\n",
        "query = select(\n",
        "    albums.c.Title,\n",
        "    artists.c.Name\n",
        ").select_from(\n",
        "    join_stmt\n",
        ")\n",
        "\n",
        "# Execute the query on the connection\n",
        "result = conn.execute(query)\n",
        "\n",
        "# Fetch the results\n",
        "for row in result:\n",
        "    print(row)\n",
        "\n",
        "# Close the connection\n",
        "conn.close()\n"
      ],
      "metadata": {
        "id": "buQk1tibFJ-_",
        "outputId": "82573e8b-7d3c-400b-f2b1-4437cb571774",
        "colab": {
          "base_uri": "https://localhost:8080/"
        }
      },
      "execution_count": 230,
      "outputs": [
        {
          "output_type": "stream",
          "name": "stdout",
          "text": [
            "('For Those About To Rock We Salute You', 'AC/DC')\n",
            "('Balls to the Wall', 'Accept')\n",
            "('Restless and Wild', 'Accept')\n",
            "('Let There Be Rock', 'AC/DC')\n",
            "('Big Ones', 'Aerosmith')\n",
            "('Jagged Little Pill', 'Alanis Morissette')\n",
            "('Facelift', 'Alice In Chains')\n",
            "('Warner 25 Anos', 'Antônio Carlos Jobim')\n",
            "('Plays Metallica By Four Cellos', 'Apocalyptica')\n",
            "('Audioslave', 'Audioslave')\n",
            "('Out Of Exile', 'Audioslave')\n",
            "('BackBeat Soundtrack', 'BackBeat')\n",
            "('The Best Of Billy Cobham', 'Billy Cobham')\n",
            "('Alcohol Fueled Brewtality Live! [Disc 1]', 'Black Label Society')\n",
            "('Alcohol Fueled Brewtality Live! [Disc 2]', 'Black Label Society')\n",
            "('Black Sabbath', 'Black Sabbath')\n",
            "('Black Sabbath Vol. 4 (Remaster)', 'Black Sabbath')\n",
            "('Body Count', 'Body Count')\n",
            "('Chemical Wedding', 'Bruce Dickinson')\n",
            "('The Best Of Buddy Guy - The Millenium Collection', 'Buddy Guy')\n",
            "('Prenda Minha', 'Caetano Veloso')\n",
            "('Sozinho Remix Ao Vivo', 'Caetano Veloso')\n",
            "('Minha Historia', 'Chico Buarque')\n",
            "('Afrociberdelia', 'Chico Science & Nação Zumbi')\n",
            "('Da Lama Ao Caos', 'Chico Science & Nação Zumbi')\n",
            "('Acústico MTV [Live]', 'Cidade Negra')\n",
            "('Cidade Negra - Hits', 'Cidade Negra')\n",
            "('Na Pista', 'Cláudio Zoli')\n",
            "('Axé Bahia 2001', 'Various Artists')\n",
            "('BBC Sessions [Disc 1] [Live]', 'Led Zeppelin')\n",
            "('Bongo Fury', 'Frank Zappa & Captain Beefheart')\n",
            "('Carnaval 2001', 'Various Artists')\n",
            "('Chill: Brazil (Disc 1)', 'Marcos Valle')\n",
            "('Chill: Brazil (Disc 2)', 'Antônio Carlos Jobim')\n",
            "('Garage Inc. (Disc 1)', 'Metallica')\n",
            "('Greatest Hits II', 'Queen')\n",
            "('Greatest Kiss', 'Kiss')\n",
            "('Heart of the Night', 'Spyro Gyra')\n",
            "('International Superhits', 'Green Day')\n",
            "('Into The Light', 'David Coverdale')\n",
            "('Meus Momentos', 'Gonzaguinha')\n",
            "('Minha História', 'Os Mutantes')\n",
            "('MK III The Final Concerts [Disc 1]', 'Deep Purple')\n",
            "('Physical Graffiti [Disc 1]', 'Led Zeppelin')\n",
            "('Sambas De Enredo 2001', 'Various Artists')\n",
            "('Supernatural', 'Santana')\n",
            "('The Best of Ed Motta', 'Ed Motta')\n",
            "('The Essential Miles Davis [Disc 1]', 'Miles Davis')\n",
            "('The Essential Miles Davis [Disc 2]', 'Miles Davis')\n",
            "('The Final Concerts (Disc 2)', 'Deep Purple')\n",
            "(\"Up An' Atom\", 'Gene Krupa')\n",
            "('Vinícius De Moraes - Sem Limite', 'Toquinho & Vinícius')\n",
            "('Vozes do MPB', 'Various Artists')\n",
            "('Chronicle, Vol. 1', 'Creedence Clearwater Revival')\n",
            "('Chronicle, Vol. 2', 'Creedence Clearwater Revival')\n",
            "('Cássia Eller - Coleção Sem Limite [Disc 2]', 'Cássia Eller')\n",
            "('Cássia Eller - Sem Limite [Disc 1]', 'Cássia Eller')\n",
            "('Come Taste The Band', 'Deep Purple')\n",
            "('Deep Purple In Rock', 'Deep Purple')\n",
            "('Fireball', 'Deep Purple')\n",
            "(\"Knocking at Your Back Door: The Best Of Deep Purple in the 80's\", 'Deep Purple')\n",
            "('Machine Head', 'Deep Purple')\n",
            "('Purpendicular', 'Deep Purple')\n",
            "('Slaves And Masters', 'Deep Purple')\n",
            "('Stormbringer', 'Deep Purple')\n",
            "('The Battle Rages On', 'Deep Purple')\n",
            "(\"Vault: Def Leppard's Greatest Hits\", 'Def Leppard')\n",
            "('Outbreak', 'Dennis Chambers')\n",
            "('Djavan Ao Vivo - Vol. 02', 'Djavan')\n",
            "('Djavan Ao Vivo - Vol. 1', 'Djavan')\n",
            "('Elis Regina-Minha História', 'Elis Regina')\n",
            "('The Cream Of Clapton', 'Eric Clapton')\n",
            "('Unplugged', 'Eric Clapton')\n",
            "('Album Of The Year', 'Faith No More')\n",
            "('Angel Dust', 'Faith No More')\n",
            "('King For A Day Fool For A Lifetime', 'Faith No More')\n",
            "('The Real Thing', 'Faith No More')\n",
            "('Deixa Entrar', 'Falamansa')\n",
            "('In Your Honor [Disc 1]', 'Foo Fighters')\n",
            "('In Your Honor [Disc 2]', 'Foo Fighters')\n",
            "('One By One', 'Foo Fighters')\n",
            "('The Colour And The Shape', 'Foo Fighters')\n",
            "('My Way: The Best Of Frank Sinatra [Disc 1]', 'Frank Sinatra')\n",
            "('Roda De Funk', 'Funk Como Le Gusta')\n",
            "('As Canções de Eu Tu Eles', 'Gilberto Gil')\n",
            "('Quanta Gente Veio Ver (Live)', 'Gilberto Gil')\n",
            "('Quanta Gente Veio ver--Bônus De Carnaval', 'Gilberto Gil')\n",
            "('Faceless', 'Godsmack')\n",
            "('American Idiot', 'Green Day')\n",
            "('Appetite for Destruction', \"Guns N' Roses\")\n",
            "('Use Your Illusion I', \"Guns N' Roses\")\n",
            "('Use Your Illusion II', \"Guns N' Roses\")\n",
            "('Blue Moods', 'Incognito')\n",
            "('A Matter of Life and Death', 'Iron Maiden')\n",
            "('A Real Dead One', 'Iron Maiden')\n",
            "('A Real Live One', 'Iron Maiden')\n",
            "('Brave New World', 'Iron Maiden')\n",
            "('Dance Of Death', 'Iron Maiden')\n",
            "('Fear Of The Dark', 'Iron Maiden')\n",
            "('Iron Maiden', 'Iron Maiden')\n",
            "('Killers', 'Iron Maiden')\n",
            "('Live After Death', 'Iron Maiden')\n",
            "('Live At Donington 1992 (Disc 1)', 'Iron Maiden')\n",
            "('Live At Donington 1992 (Disc 2)', 'Iron Maiden')\n",
            "('No Prayer For The Dying', 'Iron Maiden')\n",
            "('Piece Of Mind', 'Iron Maiden')\n",
            "('Powerslave', 'Iron Maiden')\n",
            "('Rock In Rio [CD1]', 'Iron Maiden')\n",
            "('Rock In Rio [CD2]', 'Iron Maiden')\n",
            "('Seventh Son of a Seventh Son', 'Iron Maiden')\n",
            "('Somewhere in Time', 'Iron Maiden')\n",
            "('The Number of The Beast', 'Iron Maiden')\n",
            "('The X Factor', 'Iron Maiden')\n",
            "('Virtual XI', 'Iron Maiden')\n",
            "('Sex Machine', 'James Brown')\n",
            "('Emergency On Planet Earth', 'Jamiroquai')\n",
            "('Synkronized', 'Jamiroquai')\n",
            "('The Return Of The Space Cowboy', 'Jamiroquai')\n",
            "('Get Born', 'JET')\n",
            "('Are You Experienced?', 'Jimi Hendrix')\n",
            "('Surfing with the Alien (Remastered)', 'Joe Satriani')\n",
            "('Jorge Ben Jor 25 Anos', 'Jorge Ben')\n",
            "('Jota Quest-1995', 'Jota Quest')\n",
            "('Cafezinho', 'João Suplicy')\n",
            "('Living After Midnight', 'Judas Priest')\n",
            "('Unplugged [Live]', 'Kiss')\n",
            "('BBC Sessions [Disc 2] [Live]', 'Led Zeppelin')\n",
            "('Coda', 'Led Zeppelin')\n",
            "('Houses Of The Holy', 'Led Zeppelin')\n",
            "('In Through The Out Door', 'Led Zeppelin')\n",
            "('IV', 'Led Zeppelin')\n",
            "('Led Zeppelin I', 'Led Zeppelin')\n",
            "('Led Zeppelin II', 'Led Zeppelin')\n",
            "('Led Zeppelin III', 'Led Zeppelin')\n",
            "('Physical Graffiti [Disc 2]', 'Led Zeppelin')\n",
            "('Presence', 'Led Zeppelin')\n",
            "('The Song Remains The Same (Disc 1)', 'Led Zeppelin')\n",
            "('The Song Remains The Same (Disc 2)', 'Led Zeppelin')\n",
            "('A TempestadeTempestade Ou O Livro Dos Dias', 'Legião Urbana')\n",
            "('Mais Do Mesmo', 'Legião Urbana')\n",
            "('Greatest Hits', 'Lenny Kravitz')\n",
            "('Lulu Santos - RCA 100 Anos De Música - Álbum 01', 'Lulu Santos')\n",
            "('Lulu Santos - RCA 100 Anos De Música - Álbum 02', 'Lulu Santos')\n",
            "('Misplaced Childhood', 'Marillion')\n",
            "('Barulhinho Bom', 'Marisa Monte')\n",
            "('Seek And Shall Find: More Of The Best (1963-1981)', 'Marvin Gaye')\n",
            "('The Best Of Men At Work', 'Men At Work')\n",
            "('Black Album', 'Metallica')\n",
            "('Garage Inc. (Disc 2)', 'Metallica')\n",
            "(\"Kill 'Em All\", 'Metallica')\n",
            "('Load', 'Metallica')\n",
            "('Master Of Puppets', 'Metallica')\n",
            "('ReLoad', 'Metallica')\n",
            "('Ride The Lightning', 'Metallica')\n",
            "('St. Anger', 'Metallica')\n",
            "('...And Justice For All', 'Metallica')\n",
            "('Miles Ahead', 'Miles Davis')\n",
            "('Milton Nascimento Ao Vivo', 'Milton Nascimento')\n",
            "('Minas', 'Milton Nascimento')\n",
            "('Ace Of Spades', 'Motörhead')\n",
            "('Demorou...', 'Mônica Marianno')\n",
            "('Motley Crue Greatest Hits', 'Mötley Crüe')\n",
            "('From The Muddy Banks Of The Wishkah [Live]', 'Nirvana')\n",
            "('Nevermind', 'Nirvana')\n",
            "('Compositores', 'O Terço')\n",
            "('Olodum', 'Olodum')\n",
            "('Acústico MTV', 'Os Paralamas Do Sucesso')\n",
            "('Arquivo II', 'Os Paralamas Do Sucesso')\n",
            "('Arquivo Os Paralamas Do Sucesso', 'Os Paralamas Do Sucesso')\n",
            "('Bark at the Moon (Remastered)', 'Ozzy Osbourne')\n",
            "('Blizzard of Ozz', 'Ozzy Osbourne')\n",
            "('Diary of a Madman (Remastered)', 'Ozzy Osbourne')\n",
            "('No More Tears (Remastered)', 'Ozzy Osbourne')\n",
            "('Tribute', 'Ozzy Osbourne')\n",
            "('Walking Into Clarksdale', 'Page & Plant')\n",
            "('Original Soundtracks 1', 'Passengers')\n",
            "('The Beast Live', \"Paul D'Ianno\")\n",
            "('Live On Two Legs [Live]', 'Pearl Jam')\n",
            "('Pearl Jam', 'Pearl Jam')\n",
            "('Riot Act', 'Pearl Jam')\n",
            "('Ten', 'Pearl Jam')\n",
            "('Vs.', 'Pearl Jam')\n",
            "('Dark Side Of The Moon', 'Pink Floyd')\n",
            "('Os Cães Ladram Mas A Caravana Não Pára', 'Planet Hemp')\n",
            "('Greatest Hits I', 'Queen')\n",
            "('News Of The World', 'Queen')\n",
            "('Out Of Time', 'R.E.M. Feat. Kate Pearson')\n",
            "('Green', 'R.E.M.')\n",
            "('New Adventures In Hi-Fi', 'R.E.M.')\n",
            "('The Best Of R.E.M.: The IRS Years', 'R.E.M.')\n",
            "('Cesta Básica', 'Raimundos')\n",
            "('Raul Seixas', 'Raul Seixas')\n",
            "('Blood Sugar Sex Magik', 'Red Hot Chili Peppers')\n",
            "('By The Way', 'Red Hot Chili Peppers')\n",
            "('Californication', 'Red Hot Chili Peppers')\n",
            "('Retrospective I (1974-1980)', 'Rush')\n",
            "('Santana - As Years Go By', 'Santana')\n",
            "('Santana Live', 'Santana')\n",
            "('Maquinarama', 'Skank')\n",
            "('O Samba Poconé', 'Skank')\n",
            "('Judas 0: B-Sides and Rarities', 'Smashing Pumpkins')\n",
            "('Rotten Apples: Greatest Hits', 'Smashing Pumpkins')\n",
            "('A-Sides', 'Soundgarden')\n",
            "('Morning Dance', 'Spyro Gyra')\n",
            "('In Step', 'Stevie Ray Vaughan & Double Trouble')\n",
            "('Core', 'Stone Temple Pilots')\n",
            "('Mezmerize', 'System Of A Down')\n",
            "('[1997] Black Light Syndrome', 'Terry Bozzio, Tony Levin & Steve Stevens')\n",
            "('Live [Disc 1]', 'The Black Crowes')\n",
            "('Live [Disc 2]', 'The Black Crowes')\n",
            "('The Singles', 'The Clash')\n",
            "('Beyond Good And Evil', 'The Cult')\n",
            "('Pure Cult: The Best Of The Cult (For Rockers, Ravers, Lovers & Sinners) [UK]', 'The Cult')\n",
            "('The Doors', 'The Doors')\n",
            "('The Police Greatest Hits', 'The Police')\n",
            "('Hot Rocks, 1964-1971 (Disc 1)', 'The Rolling Stones')\n",
            "('No Security', 'The Rolling Stones')\n",
            "('Voodoo Lounge', 'The Rolling Stones')\n",
            "('Tangents', 'The Tea Party')\n",
            "('Transmission', 'The Tea Party')\n",
            "('My Generation - The Very Best Of The Who', 'The Who')\n",
            "('Serie Sem Limite (Disc 1)', 'Tim Maia')\n",
            "('Serie Sem Limite (Disc 2)', 'Tim Maia')\n",
            "('Acústico', 'Titãs')\n",
            "('Volume Dois', 'Titãs')\n",
            "('Battlestar Galactica: The Story So Far', 'Battlestar Galactica')\n",
            "('Battlestar Galactica, Season 3', 'Battlestar Galactica')\n",
            "('Heroes, Season 1', 'Heroes')\n",
            "('Lost, Season 3', 'Lost')\n",
            "('Lost, Season 1', 'Lost')\n",
            "('Lost, Season 2', 'Lost')\n",
            "('Achtung Baby', 'U2')\n",
            "(\"All That You Can't Leave Behind\", 'U2')\n",
            "('B-Sides 1980-1990', 'U2')\n",
            "('How To Dismantle An Atomic Bomb', 'U2')\n",
            "('Pop', 'U2')\n",
            "('Rattle And Hum', 'U2')\n",
            "('The Best Of 1980-1990', 'U2')\n",
            "('War', 'U2')\n",
            "('Zooropa', 'U2')\n",
            "('UB40 The Best Of - Volume Two [UK]', 'UB40')\n",
            "('Diver Down', 'Van Halen')\n",
            "('The Best Of Van Halen, Vol. I', 'Van Halen')\n",
            "('Van Halen', 'Van Halen')\n",
            "('Van Halen III', 'Van Halen')\n",
            "('Contraband', 'Velvet Revolver')\n",
            "('Vinicius De Moraes', 'Vinícius De Moraes')\n",
            "('Ao Vivo [IMPORT]', 'Zeca Pagodinho')\n",
            "('The Office, Season 1', 'The Office')\n",
            "('The Office, Season 2', 'The Office')\n",
            "('The Office, Season 3', 'The Office')\n",
            "('Un-Led-Ed', 'Dread Zeppelin')\n",
            "('Battlestar Galactica (Classic), Season 1', 'Battlestar Galactica (Classic)')\n",
            "('Aquaman', 'Aquaman')\n",
            "('Instant Karma: The Amnesty International Campaign to Save Darfur', 'U2')\n",
            "('Speak of the Devil', 'Ozzy Osbourne')\n",
            "('20th Century Masters - The Millennium Collection: The Best of Scorpions', 'Scorpions')\n",
            "('House of Pain', 'House Of Pain')\n",
            "('Radio Brasil (O Som da Jovem Vanguarda) - Seleccao de Henrique Amaro', 'O Rappa')\n",
            "('Cake: B-Sides and Rarities', 'Cake')\n",
            "('LOST, Season 4', 'Lost')\n",
            "('Quiet Songs', 'Aisha Duo')\n",
            "('Muso Ko', 'Habib Koité and Bamada')\n",
            "('Realize', 'Karsh Kale')\n",
            "('Every Kind of Light', 'The Posies')\n",
            "('Duos II', 'Luciana Souza/Romero Lubambo')\n",
            "('Worlds', 'Aaron Goldberg')\n",
            "('The Best of Beethoven', 'Nicolaus Esterhazy Sinfonia')\n",
            "('Temple of the Dog', 'Temple of the Dog')\n",
            "('Carry On', 'Chris Cornell')\n",
            "('Revelations', 'Audioslave')\n",
            "('Adorate Deum: Gregorian Chant from the Proper of the Mass', 'Alberto Turco & Nova Schola Gregoriana')\n",
            "('Allegri: Miserere', 'Richard Marlow & The Choir of Trinity College, Cambridge')\n",
            "('Pachelbel: Canon & Gigue', 'English Concert & Trevor Pinnock')\n",
            "('Vivaldi: The Four Seasons', 'Anne-Sophie Mutter, Herbert Von Karajan & Wiener Philharmoniker')\n",
            "('Bach: Violin Concertos', 'Hilary Hahn, Jeffrey Kahane, Los Angeles Chamber Orchestra & Margaret Batjer')\n",
            "('Bach: Goldberg Variations', 'Wilhelm Kempff')\n",
            "('Bach: The Cello Suites', 'Yo-Yo Ma')\n",
            "('Handel: The Messiah (Highlights)', 'Scholars Baroque Ensemble')\n",
            "('The World of Classical Favourites', 'Academy of St. Martin in the Fields & Sir Neville Marriner')\n",
            "('Sir Neville Marriner: A Celebration', 'Academy of St. Martin in the Fields Chamber Ensemble & Sir Neville Marriner')\n",
            "('Mozart: Wind Concertos', 'Berliner Philharmoniker, Claudio Abbado & Sabine Meyer')\n",
            "('Haydn: Symphonies 99 - 104', 'Royal Philharmonic Orchestra & Sir Thomas Beecham')\n",
            "('Beethoven: Symhonies Nos. 5 & 6', 'Orchestre Révolutionnaire et Romantique & John Eliot Gardiner')\n",
            "('A Soprano Inspired', 'Britten Sinfonia, Ivor Bolton & Lesley Garrett')\n",
            "('Great Opera Choruses', 'Chicago Symphony Chorus, Chicago Symphony Orchestra & Sir Georg Solti')\n",
            "('Wagner: Favourite Overtures', 'Sir Georg Solti & Wiener Philharmoniker')\n",
            "('Fauré: Requiem, Ravel: Pavane & Others', 'Academy of St. Martin in the Fields, John Birch, Sir Neville Marriner & Sylvia McNair')\n",
            "('Tchaikovsky: The Nutcracker', 'London Symphony Orchestra & Sir Charles Mackerras')\n",
            "('The Last Night of the Proms', 'Barry Wordsworth & BBC Concert Orchestra')\n",
            "('Puccini: Madama Butterfly - Highlights', 'Herbert Von Karajan, Mirella Freni & Wiener Philharmoniker')\n",
            "('Holst: The Planets, Op. 32 & Vaughan Williams: Fantasies', 'Eugene Ormandy')\n",
            "(\"Pavarotti's Opera Made Easy\", 'Luciano Pavarotti')\n",
            "(\"Great Performances - Barber's Adagio and Other Romantic Favorites for Strings\", 'Leonard Bernstein & New York Philharmonic')\n",
            "('Carmina Burana', 'Boston Symphony Orchestra & Seiji Ozawa')\n",
            "('A Copland Celebration, Vol. I', 'Aaron Copland & London Symphony Orchestra')\n",
            "('Bach: Toccata & Fugue in D Minor', 'Ton Koopman')\n",
            "('Prokofiev: Symphony No.1', 'Sergei Prokofiev & Yuri Temirkanov')\n",
            "('Scheherazade', 'Chicago Symphony Orchestra & Fritz Reiner')\n",
            "('Bach: The Brandenburg Concertos', 'Orchestra of The Age of Enlightenment')\n",
            "('Chopin: Piano Concertos Nos. 1 & 2', 'Emanuel Ax, Eugene Ormandy & Philadelphia Orchestra')\n",
            "('Mascagni: Cavalleria Rusticana', 'James Levine')\n",
            "('Sibelius: Finlandia', 'Berliner Philharmoniker & Hans Rosbaud')\n",
            "('Beethoven Piano Sonatas: Moonlight & Pastorale', 'Maurizio Pollini')\n",
            "('Great Recordings of the Century - Mahler: Das Lied von der Erde', 'Gustav Mahler')\n",
            "('Elgar: Cello Concerto & Vaughan Williams: Fantasias', 'Felix Schmidt, London Symphony Orchestra & Rafael Frühbeck de Burgos')\n",
            "('Adams, John: The Chairman Dances', 'Edo de Waart & San Francisco Symphony')\n",
            "(\"Tchaikovsky: 1812 Festival Overture, Op.49, Capriccio Italien & Beethoven: Wellington's Victory\", 'Antal Doráti & London Symphony Orchestra')\n",
            "('Palestrina: Missa Papae Marcelli & Allegri: Miserere', 'Choir Of Westminster Abbey & Simon Preston')\n",
            "('Prokofiev: Romeo & Juliet', 'Michael Tilson Thomas & San Francisco Symphony')\n",
            "('Strauss: Waltzes', 'Eugene Ormandy')\n",
            "('Berlioz: Symphonie Fantastique', 'Michael Tilson Thomas & San Francisco Symphony')\n",
            "('Bizet: Carmen Highlights', 'Chor der Wiener Staatsoper, Herbert Von Karajan & Wiener Philharmoniker')\n",
            "('English Renaissance', \"The King's Singers\")\n",
            "('Handel: Music for the Royal Fireworks (Original Version 1749)', 'English Concert & Trevor Pinnock')\n",
            "('Grieg: Peer Gynt Suites & Sibelius: Pelléas et Mélisande', 'Berliner Philharmoniker & Herbert Von Karajan')\n",
            "('Mozart Gala: Famous Arias', 'Sir Georg Solti, Sumi Jo & Wiener Philharmoniker')\n",
            "('SCRIABIN: Vers la flamme', \"Christopher O'Riley\")\n",
            "('Armada: Music from the Courts of England and Spain', 'Fretwork')\n",
            "('Mozart: Symphonies Nos. 40 & 41', 'Berliner Philharmoniker & Herbert Von Karajan')\n",
            "('Back to Black', 'Amy Winehouse')\n",
            "('Frank', 'Amy Winehouse')\n",
            "('Carried to Dust (Bonus Track Version)', 'Calexico')\n",
            "(\"Beethoven: Symphony No. 6 'Pastoral' Etc.\", 'Otto Klemperer & Philharmonia Orchestra')\n",
            "('Bartok: Violin & Viola Concertos', 'Yehudi Menuhin')\n",
            "(\"Mendelssohn: A Midsummer Night's Dream\", 'Philharmonia Orchestra & Sir Neville Marriner')\n",
            "('Bach: Orchestral Suites Nos. 1 - 4', 'Academy of St. Martin in the Fields, Sir Neville Marriner & Thurston Dart')\n",
            "('Charpentier: Divertissements, Airs & Concerts', 'Les Arts Florissants & William Christie')\n",
            "('South American Getaway', 'The 12 Cellists of The Berlin Philharmonic')\n",
            "('Górecki: Symphony No. 3', 'Adrian Leaper & Doreen de Feis')\n",
            "('Purcell: The Fairy Queen', 'Roger Norrington, London Classical Players')\n",
            "('The Ultimate Relexation Album', \"Charles Dutoit & L'Orchestre Symphonique de Montréal\")\n",
            "('Purcell: Music for the Queen Mary', 'Equale Brass Ensemble, John Eliot Gardiner & Munich Monteverdi Orchestra and Choir')\n",
            "('Weill: The Seven Deadly Sins', \"Kent Nagano and Orchestre de l'Opéra de Lyon\")\n",
            "('J.S. Bach: Chaconne, Suite in E Minor, Partita in E Major & Prelude, Fugue and Allegro', 'Julian Bream')\n",
            "('Prokofiev: Symphony No.5 & Stravinksy: Le Sacre Du Printemps', 'Berliner Philharmoniker & Herbert Von Karajan')\n",
            "('Szymanowski: Piano Works, Vol. 1', 'Martin Roscoe')\n",
            "('Nielsen: The Six Symphonies', 'Göteborgs Symfoniker & Neeme Järvi')\n",
            "(\"Great Recordings of the Century: Paganini's 24 Caprices\", 'Itzhak Perlman')\n",
            "(\"Liszt - 12 Études D'Execution Transcendante\", 'Michele Campanella')\n",
            "('Great Recordings of the Century - Shubert: Schwanengesang, 4 Lieder', 'Gerald Moore')\n",
            "('Locatelli: Concertos for Violin, Strings and Continuo, Vol. 3', 'Mela Tenenbaum, Pro Musica Prague & Richard Kapp')\n",
            "('Respighi:Pines of Rome', 'Eugene Ormandy')\n",
            "(\"Schubert: The Late String Quartets & String Quintet (3 CD's)\", 'Emerson String Quartet')\n",
            "(\"Monteverdi: L'Orfeo\", 'C. Monteverdi, Nigel Rogers - Chiaroscuro; London Baroque; London Cornett & Sackbu')\n",
            "('Mozart: Chamber Music', 'Nash Ensemble')\n",
            "('Koyaanisqatsi (Soundtrack from the Motion Picture)', 'Philip Glass Ensemble')\n"
          ]
        }
      ]
    },
    {
      "cell_type": "markdown",
      "metadata": {
        "id": "sxb9xq2K4SW7"
      },
      "source": [
        "Alternatively, when we use JOINs we know what FROM clause we want, so here we make use of the [`select_from()`](https://docs.sqlalchemy.org/en/13/core/selectable.html?highlight=select_from#sqlalchemy.sql.expression.Select.select_from) method."
      ]
    },
    {
      "cell_type": "code",
      "metadata": {
        "id": "mCONYYK2GRa4"
      },
      "source": [
        "# query = select([albums.c.Title, artists.c.Name]).select_from(join_stmt)"
      ],
      "execution_count": null,
      "outputs": []
    },
    {
      "cell_type": "code",
      "metadata": {
        "colab": {
          "base_uri": "https://localhost:8080/"
        },
        "id": "noIRdMKjVOGh",
        "outputId": "cf088c7c-ecd5-4593-962c-100deb0757e5"
      },
      "source": [
        "print(str(query))"
      ],
      "execution_count": null,
      "outputs": [
        {
          "output_type": "stream",
          "name": "stdout",
          "text": [
            "SELECT albums.\"Title\", artists.\"Name\" \n",
            "FROM artists JOIN albums ON artists.\"ArtistId\" = albums.\"ArtistId\"\n"
          ]
        }
      ]
    },
    {
      "cell_type": "code",
      "metadata": {
        "id": "5vZnoYKFGRdO"
      },
      "source": [
        "result = conn.execute(query)"
      ],
      "execution_count": null,
      "outputs": []
    },
    {
      "cell_type": "code",
      "metadata": {
        "colab": {
          "base_uri": "https://localhost:8080/"
        },
        "id": "PcKFi4VCjGst",
        "outputId": "755fe26e-da8b-4525-d6b1-56aed1755371"
      },
      "source": [
        "result.fetchmany(5)"
      ],
      "execution_count": null,
      "outputs": [
        {
          "output_type": "execute_result",
          "data": {
            "text/plain": [
              "[('For Those About To Rock We Salute You', 'AC/DC'),\n",
              " ('Balls to the Wall', 'Accept'),\n",
              " ('Restless and Wild', 'Accept'),\n",
              " ('Let There Be Rock', 'AC/DC'),\n",
              " ('Big Ones', 'Aerosmith')]"
            ]
          },
          "metadata": {},
          "execution_count": 84
        }
      ]
    },
    {
      "cell_type": "markdown",
      "metadata": {
        "id": "KEweNNnB6i_X"
      },
      "source": [
        "### Example 4 - Group By and SQL functions"
      ]
    },
    {
      "cell_type": "markdown",
      "metadata": {
        "id": "Ag2-zflyKZyM"
      },
      "source": [
        "**Task - Show for each customer (name) the number of invoinces they had.**"
      ]
    },
    {
      "cell_type": "markdown",
      "metadata": {
        "id": "KdwtP4jf6nau"
      },
      "source": [
        "> **Reference:** Very often we wish to apply a function on the data. Built-in SQL functions are available through the [`func` module](https://docs.sqlalchemy.org/en/13/core/tutorial.html#functions)."
      ]
    },
    {
      "cell_type": "markdown",
      "metadata": {
        "id": "BGW7sc_T16YC"
      },
      "source": [
        "See here details about the [`group_by()`](https://docs.sqlalchemy.org/en/13/core/tutorial.html#ordering-grouping-limiting-offset-ing) method."
      ]
    },
    {
      "cell_type": "code",
      "metadata": {
        "id": "1qmXJBBN92fx"
      },
      "source": [
        "invoices = Table('invoices', metadata, autoload_with=engine)\n",
        "customers = Table('customers', metadata, autoload_with=engine)"
      ],
      "execution_count": null,
      "outputs": []
    },
    {
      "cell_type": "markdown",
      "metadata": {
        "id": "_-gVjHWxK0Kg"
      },
      "source": [
        "Let's try first without the names of the customers."
      ]
    },
    {
      "cell_type": "code",
      "metadata": {
        "id": "TT_gRSlYC-k8"
      },
      "source": [
        "query = select([invoices.c.CustomerId, func.count(invoices.c.InvoiceId)])\\\n",
        "            .select_from(invoices)\\\n",
        "            .group_by(invoices.c.CustomerId)"
      ],
      "execution_count": null,
      "outputs": []
    },
    {
      "cell_type": "code",
      "metadata": {
        "colab": {
          "base_uri": "https://localhost:8080/"
        },
        "id": "gfbx8fYU0LXM",
        "outputId": "4e260fe1-d04a-42e2-a1c6-21ae3ca118a3"
      },
      "source": [
        "print(str(query))"
      ],
      "execution_count": null,
      "outputs": [
        {
          "output_type": "stream",
          "name": "stdout",
          "text": [
            "SELECT invoices.\"CustomerId\", count(invoices.\"InvoiceId\") AS count_1 \n",
            "FROM invoices GROUP BY invoices.\"CustomerId\"\n"
          ]
        }
      ]
    },
    {
      "cell_type": "code",
      "metadata": {
        "colab": {
          "base_uri": "https://localhost:8080/"
        },
        "id": "l3k2A_0UEf6Q",
        "outputId": "4a20d0c4-c7d1-46bf-d7a1-a5cd57bce731"
      },
      "source": [
        "conn.execute(query).fetchmany(50)"
      ],
      "execution_count": null,
      "outputs": [
        {
          "output_type": "execute_result",
          "data": {
            "text/plain": [
              "[(1, 7),\n",
              " (2, 7),\n",
              " (3, 7),\n",
              " (4, 7),\n",
              " (5, 7),\n",
              " (6, 7),\n",
              " (7, 7),\n",
              " (8, 7),\n",
              " (9, 7),\n",
              " (10, 7),\n",
              " (11, 7),\n",
              " (12, 7),\n",
              " (13, 7),\n",
              " (14, 7),\n",
              " (15, 7),\n",
              " (16, 7),\n",
              " (17, 7),\n",
              " (18, 7),\n",
              " (19, 7),\n",
              " (20, 7),\n",
              " (21, 7),\n",
              " (22, 7),\n",
              " (23, 7),\n",
              " (24, 7),\n",
              " (25, 7),\n",
              " (26, 7),\n",
              " (27, 7),\n",
              " (28, 7),\n",
              " (29, 7),\n",
              " (30, 7),\n",
              " (31, 7),\n",
              " (32, 7),\n",
              " (33, 7),\n",
              " (34, 7),\n",
              " (35, 7),\n",
              " (36, 7),\n",
              " (37, 7),\n",
              " (38, 7),\n",
              " (39, 7),\n",
              " (40, 7),\n",
              " (41, 7),\n",
              " (42, 7),\n",
              " (43, 7),\n",
              " (44, 7),\n",
              " (45, 7),\n",
              " (46, 7),\n",
              " (47, 7),\n",
              " (48, 7),\n",
              " (49, 7),\n",
              " (50, 7)]"
            ]
          },
          "metadata": {},
          "execution_count": 87
        }
      ]
    },
    {
      "cell_type": "markdown",
      "metadata": {
        "id": "Wj3zlPXaK8ps"
      },
      "source": [
        "And now with the names."
      ]
    },
    {
      "cell_type": "code",
      "metadata": {
        "id": "yqECaDWmD3s7"
      },
      "source": [
        "query = select([customers.c.FirstName + \" \" + customers.c.LastName, func.count(invoices.c.InvoiceId)])\\\n",
        "            .select_from(invoices.join(customers, invoices.c.CustomerId == customers.c.CustomerId))\\\n",
        "            .group_by(invoices.c.CustomerId)"
      ],
      "execution_count": null,
      "outputs": []
    },
    {
      "cell_type": "code",
      "metadata": {
        "colab": {
          "base_uri": "https://localhost:8080/"
        },
        "id": "_ynxBHA19-8I",
        "outputId": "41309ec1-84a1-4e82-b00d-c4554f4f4a75"
      },
      "source": [
        "conn.execute(query).fetchmany(5)"
      ],
      "execution_count": null,
      "outputs": [
        {
          "output_type": "execute_result",
          "data": {
            "text/plain": [
              "[('Luís Gonçalves', 7),\n",
              " ('Leonie Köhler', 7),\n",
              " ('François Tremblay', 7),\n",
              " ('Bjørn Hansen', 7),\n",
              " ('František Wichterlová', 7)]"
            ]
          },
          "metadata": {},
          "execution_count": 89
        }
      ]
    },
    {
      "cell_type": "markdown",
      "metadata": {
        "id": "wKqYtO0z5NIT"
      },
      "source": [
        "## Relation to pandas"
      ]
    },
    {
      "cell_type": "markdown",
      "metadata": {
        "id": "dhSrLNVv7Q6e"
      },
      "source": [
        "### Tables (SQLAlchemy) vs. DataFrames (pandas)"
      ]
    },
    {
      "cell_type": "markdown",
      "metadata": {
        "id": "DSCiW7Ls7cAn"
      },
      "source": [
        "Very often we would like to save our query result as a data-frame. Luckily, the `ResultProxy.fetchall()` method returns a list of results that can be constructed as a data-frame using the standard `pd.DataFrame()` constructor."
      ]
    },
    {
      "cell_type": "code",
      "source": [
        "%reset"
      ],
      "metadata": {
        "colab": {
          "base_uri": "https://localhost:8080/"
        },
        "id": "X4JX8EHFP5Cx",
        "outputId": "509db9c6-71e2-42af-ba5f-2ec488e573e6"
      },
      "execution_count": null,
      "outputs": [
        {
          "name": "stdout",
          "output_type": "stream",
          "text": [
            "Once deleted, variables cannot be recovered. Proceed (y/[n])? y\n"
          ]
        },
        {
          "output_type": "stream",
          "name": "stderr",
          "text": [
            "ERROR:sqlalchemy.pool.impl.NullPool:Exception during reset or similar\n",
            "Traceback (most recent call last):\n",
            "  File \"/usr/local/lib/python3.10/dist-packages/sqlalchemy/pool/base.py\", line 676, in _finalize_fairy\n",
            "    fairy._reset(pool)\n",
            "  File \"/usr/local/lib/python3.10/dist-packages/sqlalchemy/pool/base.py\", line 881, in _reset\n",
            "    pool._dialect.do_rollback(self)\n",
            "  File \"/usr/local/lib/python3.10/dist-packages/sqlalchemy/engine/default.py\", line 667, in do_rollback\n",
            "    dbapi_connection.rollback()\n",
            "sqlite3.ProgrammingError: SQLite objects created in a thread can only be used in that same thread. The object was created in thread id 140653444310848 and this is thread id 140652763395840.\n",
            "ERROR:sqlalchemy.pool.impl.NullPool:Exception closing connection <sqlite3.Connection object at 0x7fec5568f040>\n",
            "Traceback (most recent call last):\n",
            "  File \"/usr/local/lib/python3.10/dist-packages/sqlalchemy/pool/base.py\", line 676, in _finalize_fairy\n",
            "    fairy._reset(pool)\n",
            "  File \"/usr/local/lib/python3.10/dist-packages/sqlalchemy/pool/base.py\", line 881, in _reset\n",
            "    pool._dialect.do_rollback(self)\n",
            "  File \"/usr/local/lib/python3.10/dist-packages/sqlalchemy/engine/default.py\", line 667, in do_rollback\n",
            "    dbapi_connection.rollback()\n",
            "sqlite3.ProgrammingError: SQLite objects created in a thread can only be used in that same thread. The object was created in thread id 140653444310848 and this is thread id 140652763395840.\n",
            "\n",
            "During handling of the above exception, another exception occurred:\n",
            "\n",
            "Traceback (most recent call last):\n",
            "  File \"/usr/local/lib/python3.10/dist-packages/sqlalchemy/pool/base.py\", line 238, in _close_connection\n",
            "    self._dialect.do_close(connection)\n",
            "  File \"/usr/local/lib/python3.10/dist-packages/sqlalchemy/engine/default.py\", line 673, in do_close\n",
            "    dbapi_connection.close()\n",
            "sqlite3.ProgrammingError: SQLite objects created in a thread can only be used in that same thread. The object was created in thread id 140653444310848 and this is thread id 140652763395840.\n"
          ]
        }
      ]
    },
    {
      "cell_type": "code",
      "metadata": {
        "id": "LC1Zy160922f"
      },
      "source": [
        "query = select([albums])\n",
        "result = conn.execute(query)"
      ],
      "execution_count": null,
      "outputs": []
    },
    {
      "cell_type": "code",
      "metadata": {
        "colab": {
          "base_uri": "https://localhost:8080/",
          "height": 206
        },
        "id": "IWWH7zfi6mT0",
        "outputId": "2346015d-3b6d-4af8-f7a7-503e68aa8790"
      },
      "source": [
        "df_albums = pd.DataFrame(result.fetchall(), columns=result.keys())\n",
        "df_albums.head()"
      ],
      "execution_count": null,
      "outputs": [
        {
          "output_type": "execute_result",
          "data": {
            "text/plain": [
              "   AlbumId                                  Title  ArtistId\n",
              "0        1  For Those About To Rock We Salute You         1\n",
              "1        2                      Balls to the Wall         2\n",
              "2        3                      Restless and Wild         2\n",
              "3        4                      Let There Be Rock         1\n",
              "4        5                               Big Ones         3"
            ],
            "text/html": [
              "\n",
              "  <div id=\"df-338c6ca8-97ca-4f57-a444-83816e732cda\">\n",
              "    <div class=\"colab-df-container\">\n",
              "      <div>\n",
              "<style scoped>\n",
              "    .dataframe tbody tr th:only-of-type {\n",
              "        vertical-align: middle;\n",
              "    }\n",
              "\n",
              "    .dataframe tbody tr th {\n",
              "        vertical-align: top;\n",
              "    }\n",
              "\n",
              "    .dataframe thead th {\n",
              "        text-align: right;\n",
              "    }\n",
              "</style>\n",
              "<table border=\"1\" class=\"dataframe\">\n",
              "  <thead>\n",
              "    <tr style=\"text-align: right;\">\n",
              "      <th></th>\n",
              "      <th>AlbumId</th>\n",
              "      <th>Title</th>\n",
              "      <th>ArtistId</th>\n",
              "    </tr>\n",
              "  </thead>\n",
              "  <tbody>\n",
              "    <tr>\n",
              "      <th>0</th>\n",
              "      <td>1</td>\n",
              "      <td>For Those About To Rock We Salute You</td>\n",
              "      <td>1</td>\n",
              "    </tr>\n",
              "    <tr>\n",
              "      <th>1</th>\n",
              "      <td>2</td>\n",
              "      <td>Balls to the Wall</td>\n",
              "      <td>2</td>\n",
              "    </tr>\n",
              "    <tr>\n",
              "      <th>2</th>\n",
              "      <td>3</td>\n",
              "      <td>Restless and Wild</td>\n",
              "      <td>2</td>\n",
              "    </tr>\n",
              "    <tr>\n",
              "      <th>3</th>\n",
              "      <td>4</td>\n",
              "      <td>Let There Be Rock</td>\n",
              "      <td>1</td>\n",
              "    </tr>\n",
              "    <tr>\n",
              "      <th>4</th>\n",
              "      <td>5</td>\n",
              "      <td>Big Ones</td>\n",
              "      <td>3</td>\n",
              "    </tr>\n",
              "  </tbody>\n",
              "</table>\n",
              "</div>\n",
              "      <button class=\"colab-df-convert\" onclick=\"convertToInteractive('df-338c6ca8-97ca-4f57-a444-83816e732cda')\"\n",
              "              title=\"Convert this dataframe to an interactive table.\"\n",
              "              style=\"display:none;\">\n",
              "        \n",
              "  <svg xmlns=\"http://www.w3.org/2000/svg\" height=\"24px\"viewBox=\"0 0 24 24\"\n",
              "       width=\"24px\">\n",
              "    <path d=\"M0 0h24v24H0V0z\" fill=\"none\"/>\n",
              "    <path d=\"M18.56 5.44l.94 2.06.94-2.06 2.06-.94-2.06-.94-.94-2.06-.94 2.06-2.06.94zm-11 1L8.5 8.5l.94-2.06 2.06-.94-2.06-.94L8.5 2.5l-.94 2.06-2.06.94zm10 10l.94 2.06.94-2.06 2.06-.94-2.06-.94-.94-2.06-.94 2.06-2.06.94z\"/><path d=\"M17.41 7.96l-1.37-1.37c-.4-.4-.92-.59-1.43-.59-.52 0-1.04.2-1.43.59L10.3 9.45l-7.72 7.72c-.78.78-.78 2.05 0 2.83L4 21.41c.39.39.9.59 1.41.59.51 0 1.02-.2 1.41-.59l7.78-7.78 2.81-2.81c.8-.78.8-2.07 0-2.86zM5.41 20L4 18.59l7.72-7.72 1.47 1.35L5.41 20z\"/>\n",
              "  </svg>\n",
              "      </button>\n",
              "      \n",
              "  <style>\n",
              "    .colab-df-container {\n",
              "      display:flex;\n",
              "      flex-wrap:wrap;\n",
              "      gap: 12px;\n",
              "    }\n",
              "\n",
              "    .colab-df-convert {\n",
              "      background-color: #E8F0FE;\n",
              "      border: none;\n",
              "      border-radius: 50%;\n",
              "      cursor: pointer;\n",
              "      display: none;\n",
              "      fill: #1967D2;\n",
              "      height: 32px;\n",
              "      padding: 0 0 0 0;\n",
              "      width: 32px;\n",
              "    }\n",
              "\n",
              "    .colab-df-convert:hover {\n",
              "      background-color: #E2EBFA;\n",
              "      box-shadow: 0px 1px 2px rgba(60, 64, 67, 0.3), 0px 1px 3px 1px rgba(60, 64, 67, 0.15);\n",
              "      fill: #174EA6;\n",
              "    }\n",
              "\n",
              "    [theme=dark] .colab-df-convert {\n",
              "      background-color: #3B4455;\n",
              "      fill: #D2E3FC;\n",
              "    }\n",
              "\n",
              "    [theme=dark] .colab-df-convert:hover {\n",
              "      background-color: #434B5C;\n",
              "      box-shadow: 0px 1px 3px 1px rgba(0, 0, 0, 0.15);\n",
              "      filter: drop-shadow(0px 1px 2px rgba(0, 0, 0, 0.3));\n",
              "      fill: #FFFFFF;\n",
              "    }\n",
              "  </style>\n",
              "\n",
              "      <script>\n",
              "        const buttonEl =\n",
              "          document.querySelector('#df-338c6ca8-97ca-4f57-a444-83816e732cda button.colab-df-convert');\n",
              "        buttonEl.style.display =\n",
              "          google.colab.kernel.accessAllowed ? 'block' : 'none';\n",
              "\n",
              "        async function convertToInteractive(key) {\n",
              "          const element = document.querySelector('#df-338c6ca8-97ca-4f57-a444-83816e732cda');\n",
              "          const dataTable =\n",
              "            await google.colab.kernel.invokeFunction('convertToInteractive',\n",
              "                                                     [key], {});\n",
              "          if (!dataTable) return;\n",
              "\n",
              "          const docLinkHtml = 'Like what you see? Visit the ' +\n",
              "            '<a target=\"_blank\" href=https://colab.research.google.com/notebooks/data_table.ipynb>data table notebook</a>'\n",
              "            + ' to learn more about interactive tables.';\n",
              "          element.innerHTML = '';\n",
              "          dataTable['output_type'] = 'display_data';\n",
              "          await google.colab.output.renderOutput(dataTable, element);\n",
              "          const docLink = document.createElement('div');\n",
              "          docLink.innerHTML = docLinkHtml;\n",
              "          element.appendChild(docLink);\n",
              "        }\n",
              "      </script>\n",
              "    </div>\n",
              "  </div>\n",
              "  "
            ]
          },
          "metadata": {},
          "execution_count": 91
        }
      ]
    },
    {
      "cell_type": "markdown",
      "metadata": {
        "id": "j5mNXBMn7cgX"
      },
      "source": [
        "### Direct querying"
      ]
    },
    {
      "cell_type": "markdown",
      "metadata": {
        "id": "nRqzQpip-qYE"
      },
      "source": [
        "Moreover, *pandas* offers [`pd.read_sql_query(sql, con)`](https://pandas.pydata.org/pandas-docs/stable/reference/api/pandas.read_sql_query.html) to directly send SQL commands through a given DB connection. SQLAlchemy engine is one of the options for `con`."
      ]
    },
    {
      "cell_type": "code",
      "metadata": {
        "colab": {
          "base_uri": "https://localhost:8080/",
          "height": 531
        },
        "id": "d4FUDgQ261-3",
        "outputId": "14aed57e-e4aa-4883-d728-c9f244a640e2"
      },
      "source": [
        "sql = 'SELECT * FROM employees Order By BirthDate'\n",
        "df_tracks = pd.read_sql_query(sql, con=engine)\n",
        "df_tracks.head()"
      ],
      "execution_count": null,
      "outputs": [
        {
          "output_type": "execute_result",
          "data": {
            "text/plain": [
              "   EmployeeId  LastName FirstName                Title  ReportsTo  \\\n",
              "0           4      Park  Margaret  Sales Support Agent        2.0   \n",
              "1           2   Edwards     Nancy        Sales Manager        1.0   \n",
              "2           1     Adams    Andrew      General Manager        NaN   \n",
              "3           5   Johnson     Steve  Sales Support Agent        2.0   \n",
              "4           8  Callahan     Laura             IT Staff        6.0   \n",
              "\n",
              "             BirthDate             HireDate              Address        City  \\\n",
              "0  1947-09-19 00:00:00  2003-05-03 00:00:00     683 10 Street SW     Calgary   \n",
              "1  1958-12-08 00:00:00  2002-05-01 00:00:00         825 8 Ave SW     Calgary   \n",
              "2  1962-02-18 00:00:00  2002-08-14 00:00:00  11120 Jasper Ave NW    Edmonton   \n",
              "3  1965-03-03 00:00:00  2003-10-17 00:00:00         7727B 41 Ave     Calgary   \n",
              "4  1968-01-09 00:00:00  2004-03-04 00:00:00          923 7 ST NW  Lethbridge   \n",
              "\n",
              "  State Country PostalCode              Phone                Fax  \\\n",
              "0    AB  Canada    T2P 5G3  +1 (403) 263-4423  +1 (403) 263-4289   \n",
              "1    AB  Canada    T2P 2T3  +1 (403) 262-3443  +1 (403) 262-3322   \n",
              "2    AB  Canada    T5K 2N1  +1 (780) 428-9482  +1 (780) 428-3457   \n",
              "3    AB  Canada    T3B 1Y7   1 (780) 836-9987   1 (780) 836-9543   \n",
              "4    AB  Canada    T1H 1Y8  +1 (403) 467-3351  +1 (403) 467-8772   \n",
              "\n",
              "                      Email  \n",
              "0  margaret@chinookcorp.com  \n",
              "1     nancy@chinookcorp.com  \n",
              "2    andrew@chinookcorp.com  \n",
              "3     steve@chinookcorp.com  \n",
              "4     laura@chinookcorp.com  "
            ],
            "text/html": [
              "\n",
              "  <div id=\"df-9f893645-944b-48d0-babe-b34428824561\">\n",
              "    <div class=\"colab-df-container\">\n",
              "      <div>\n",
              "<style scoped>\n",
              "    .dataframe tbody tr th:only-of-type {\n",
              "        vertical-align: middle;\n",
              "    }\n",
              "\n",
              "    .dataframe tbody tr th {\n",
              "        vertical-align: top;\n",
              "    }\n",
              "\n",
              "    .dataframe thead th {\n",
              "        text-align: right;\n",
              "    }\n",
              "</style>\n",
              "<table border=\"1\" class=\"dataframe\">\n",
              "  <thead>\n",
              "    <tr style=\"text-align: right;\">\n",
              "      <th></th>\n",
              "      <th>EmployeeId</th>\n",
              "      <th>LastName</th>\n",
              "      <th>FirstName</th>\n",
              "      <th>Title</th>\n",
              "      <th>ReportsTo</th>\n",
              "      <th>BirthDate</th>\n",
              "      <th>HireDate</th>\n",
              "      <th>Address</th>\n",
              "      <th>City</th>\n",
              "      <th>State</th>\n",
              "      <th>Country</th>\n",
              "      <th>PostalCode</th>\n",
              "      <th>Phone</th>\n",
              "      <th>Fax</th>\n",
              "      <th>Email</th>\n",
              "    </tr>\n",
              "  </thead>\n",
              "  <tbody>\n",
              "    <tr>\n",
              "      <th>0</th>\n",
              "      <td>4</td>\n",
              "      <td>Park</td>\n",
              "      <td>Margaret</td>\n",
              "      <td>Sales Support Agent</td>\n",
              "      <td>2.0</td>\n",
              "      <td>1947-09-19 00:00:00</td>\n",
              "      <td>2003-05-03 00:00:00</td>\n",
              "      <td>683 10 Street SW</td>\n",
              "      <td>Calgary</td>\n",
              "      <td>AB</td>\n",
              "      <td>Canada</td>\n",
              "      <td>T2P 5G3</td>\n",
              "      <td>+1 (403) 263-4423</td>\n",
              "      <td>+1 (403) 263-4289</td>\n",
              "      <td>margaret@chinookcorp.com</td>\n",
              "    </tr>\n",
              "    <tr>\n",
              "      <th>1</th>\n",
              "      <td>2</td>\n",
              "      <td>Edwards</td>\n",
              "      <td>Nancy</td>\n",
              "      <td>Sales Manager</td>\n",
              "      <td>1.0</td>\n",
              "      <td>1958-12-08 00:00:00</td>\n",
              "      <td>2002-05-01 00:00:00</td>\n",
              "      <td>825 8 Ave SW</td>\n",
              "      <td>Calgary</td>\n",
              "      <td>AB</td>\n",
              "      <td>Canada</td>\n",
              "      <td>T2P 2T3</td>\n",
              "      <td>+1 (403) 262-3443</td>\n",
              "      <td>+1 (403) 262-3322</td>\n",
              "      <td>nancy@chinookcorp.com</td>\n",
              "    </tr>\n",
              "    <tr>\n",
              "      <th>2</th>\n",
              "      <td>1</td>\n",
              "      <td>Adams</td>\n",
              "      <td>Andrew</td>\n",
              "      <td>General Manager</td>\n",
              "      <td>NaN</td>\n",
              "      <td>1962-02-18 00:00:00</td>\n",
              "      <td>2002-08-14 00:00:00</td>\n",
              "      <td>11120 Jasper Ave NW</td>\n",
              "      <td>Edmonton</td>\n",
              "      <td>AB</td>\n",
              "      <td>Canada</td>\n",
              "      <td>T5K 2N1</td>\n",
              "      <td>+1 (780) 428-9482</td>\n",
              "      <td>+1 (780) 428-3457</td>\n",
              "      <td>andrew@chinookcorp.com</td>\n",
              "    </tr>\n",
              "    <tr>\n",
              "      <th>3</th>\n",
              "      <td>5</td>\n",
              "      <td>Johnson</td>\n",
              "      <td>Steve</td>\n",
              "      <td>Sales Support Agent</td>\n",
              "      <td>2.0</td>\n",
              "      <td>1965-03-03 00:00:00</td>\n",
              "      <td>2003-10-17 00:00:00</td>\n",
              "      <td>7727B 41 Ave</td>\n",
              "      <td>Calgary</td>\n",
              "      <td>AB</td>\n",
              "      <td>Canada</td>\n",
              "      <td>T3B 1Y7</td>\n",
              "      <td>1 (780) 836-9987</td>\n",
              "      <td>1 (780) 836-9543</td>\n",
              "      <td>steve@chinookcorp.com</td>\n",
              "    </tr>\n",
              "    <tr>\n",
              "      <th>4</th>\n",
              "      <td>8</td>\n",
              "      <td>Callahan</td>\n",
              "      <td>Laura</td>\n",
              "      <td>IT Staff</td>\n",
              "      <td>6.0</td>\n",
              "      <td>1968-01-09 00:00:00</td>\n",
              "      <td>2004-03-04 00:00:00</td>\n",
              "      <td>923 7 ST NW</td>\n",
              "      <td>Lethbridge</td>\n",
              "      <td>AB</td>\n",
              "      <td>Canada</td>\n",
              "      <td>T1H 1Y8</td>\n",
              "      <td>+1 (403) 467-3351</td>\n",
              "      <td>+1 (403) 467-8772</td>\n",
              "      <td>laura@chinookcorp.com</td>\n",
              "    </tr>\n",
              "  </tbody>\n",
              "</table>\n",
              "</div>\n",
              "      <button class=\"colab-df-convert\" onclick=\"convertToInteractive('df-9f893645-944b-48d0-babe-b34428824561')\"\n",
              "              title=\"Convert this dataframe to an interactive table.\"\n",
              "              style=\"display:none;\">\n",
              "        \n",
              "  <svg xmlns=\"http://www.w3.org/2000/svg\" height=\"24px\"viewBox=\"0 0 24 24\"\n",
              "       width=\"24px\">\n",
              "    <path d=\"M0 0h24v24H0V0z\" fill=\"none\"/>\n",
              "    <path d=\"M18.56 5.44l.94 2.06.94-2.06 2.06-.94-2.06-.94-.94-2.06-.94 2.06-2.06.94zm-11 1L8.5 8.5l.94-2.06 2.06-.94-2.06-.94L8.5 2.5l-.94 2.06-2.06.94zm10 10l.94 2.06.94-2.06 2.06-.94-2.06-.94-.94-2.06-.94 2.06-2.06.94z\"/><path d=\"M17.41 7.96l-1.37-1.37c-.4-.4-.92-.59-1.43-.59-.52 0-1.04.2-1.43.59L10.3 9.45l-7.72 7.72c-.78.78-.78 2.05 0 2.83L4 21.41c.39.39.9.59 1.41.59.51 0 1.02-.2 1.41-.59l7.78-7.78 2.81-2.81c.8-.78.8-2.07 0-2.86zM5.41 20L4 18.59l7.72-7.72 1.47 1.35L5.41 20z\"/>\n",
              "  </svg>\n",
              "      </button>\n",
              "      \n",
              "  <style>\n",
              "    .colab-df-container {\n",
              "      display:flex;\n",
              "      flex-wrap:wrap;\n",
              "      gap: 12px;\n",
              "    }\n",
              "\n",
              "    .colab-df-convert {\n",
              "      background-color: #E8F0FE;\n",
              "      border: none;\n",
              "      border-radius: 50%;\n",
              "      cursor: pointer;\n",
              "      display: none;\n",
              "      fill: #1967D2;\n",
              "      height: 32px;\n",
              "      padding: 0 0 0 0;\n",
              "      width: 32px;\n",
              "    }\n",
              "\n",
              "    .colab-df-convert:hover {\n",
              "      background-color: #E2EBFA;\n",
              "      box-shadow: 0px 1px 2px rgba(60, 64, 67, 0.3), 0px 1px 3px 1px rgba(60, 64, 67, 0.15);\n",
              "      fill: #174EA6;\n",
              "    }\n",
              "\n",
              "    [theme=dark] .colab-df-convert {\n",
              "      background-color: #3B4455;\n",
              "      fill: #D2E3FC;\n",
              "    }\n",
              "\n",
              "    [theme=dark] .colab-df-convert:hover {\n",
              "      background-color: #434B5C;\n",
              "      box-shadow: 0px 1px 3px 1px rgba(0, 0, 0, 0.15);\n",
              "      filter: drop-shadow(0px 1px 2px rgba(0, 0, 0, 0.3));\n",
              "      fill: #FFFFFF;\n",
              "    }\n",
              "  </style>\n",
              "\n",
              "      <script>\n",
              "        const buttonEl =\n",
              "          document.querySelector('#df-9f893645-944b-48d0-babe-b34428824561 button.colab-df-convert');\n",
              "        buttonEl.style.display =\n",
              "          google.colab.kernel.accessAllowed ? 'block' : 'none';\n",
              "\n",
              "        async function convertToInteractive(key) {\n",
              "          const element = document.querySelector('#df-9f893645-944b-48d0-babe-b34428824561');\n",
              "          const dataTable =\n",
              "            await google.colab.kernel.invokeFunction('convertToInteractive',\n",
              "                                                     [key], {});\n",
              "          if (!dataTable) return;\n",
              "\n",
              "          const docLinkHtml = 'Like what you see? Visit the ' +\n",
              "            '<a target=\"_blank\" href=https://colab.research.google.com/notebooks/data_table.ipynb>data table notebook</a>'\n",
              "            + ' to learn more about interactive tables.';\n",
              "          element.innerHTML = '';\n",
              "          dataTable['output_type'] = 'display_data';\n",
              "          await google.colab.output.renderOutput(dataTable, element);\n",
              "          const docLink = document.createElement('div');\n",
              "          docLink.innerHTML = docLinkHtml;\n",
              "          element.appendChild(docLink);\n",
              "        }\n",
              "      </script>\n",
              "    </div>\n",
              "  </div>\n",
              "  "
            ]
          },
          "metadata": {},
          "execution_count": 92
        }
      ]
    },
    {
      "cell_type": "code",
      "source": [
        "albums = pd.read_sql('select * from albums', con=engine)"
      ],
      "metadata": {
        "id": "18dOmTwx-1jt"
      },
      "execution_count": null,
      "outputs": []
    },
    {
      "cell_type": "code",
      "source": [
        "albums1 = pd.read_sql_table('albums',con=engine)"
      ],
      "metadata": {
        "id": "t5yQhb3jWFNq"
      },
      "execution_count": null,
      "outputs": []
    },
    {
      "cell_type": "code",
      "source": [
        "albums1.drop('Title', axis=1).to_sql('albums_new', con=engine,if_exists='replace')"
      ],
      "metadata": {
        "colab": {
          "base_uri": "https://localhost:8080/"
        },
        "id": "EeKsuwmaWUR6",
        "outputId": "190f7c82-8c07-4b52-db05-f997fd0a2018"
      },
      "execution_count": null,
      "outputs": [
        {
          "output_type": "execute_result",
          "data": {
            "text/plain": [
              "347"
            ]
          },
          "metadata": {},
          "execution_count": 98
        }
      ]
    },
    {
      "cell_type": "code",
      "source": [
        "albums_new = pd.read_sql('select * from albums_new', con=engine)\n",
        "albums_new"
      ],
      "metadata": {
        "colab": {
          "base_uri": "https://localhost:8080/",
          "height": 424
        },
        "id": "PGsjdL4g7kvI",
        "outputId": "017b16ab-aa0b-42e8-c6d6-d23b60efdc4a"
      },
      "execution_count": null,
      "outputs": [
        {
          "output_type": "execute_result",
          "data": {
            "text/plain": [
              "     index  AlbumId  ArtistId\n",
              "0        0        1         1\n",
              "1        1        2         2\n",
              "2        2        3         2\n",
              "3        3        4         1\n",
              "4        4        5         3\n",
              "..     ...      ...       ...\n",
              "342    342      343       226\n",
              "343    343      344       272\n",
              "344    344      345       273\n",
              "345    345      346       274\n",
              "346    346      347       275\n",
              "\n",
              "[347 rows x 3 columns]"
            ],
            "text/html": [
              "\n",
              "  <div id=\"df-984277f0-e55a-4dce-b757-f18f5bd3fe1c\">\n",
              "    <div class=\"colab-df-container\">\n",
              "      <div>\n",
              "<style scoped>\n",
              "    .dataframe tbody tr th:only-of-type {\n",
              "        vertical-align: middle;\n",
              "    }\n",
              "\n",
              "    .dataframe tbody tr th {\n",
              "        vertical-align: top;\n",
              "    }\n",
              "\n",
              "    .dataframe thead th {\n",
              "        text-align: right;\n",
              "    }\n",
              "</style>\n",
              "<table border=\"1\" class=\"dataframe\">\n",
              "  <thead>\n",
              "    <tr style=\"text-align: right;\">\n",
              "      <th></th>\n",
              "      <th>index</th>\n",
              "      <th>AlbumId</th>\n",
              "      <th>ArtistId</th>\n",
              "    </tr>\n",
              "  </thead>\n",
              "  <tbody>\n",
              "    <tr>\n",
              "      <th>0</th>\n",
              "      <td>0</td>\n",
              "      <td>1</td>\n",
              "      <td>1</td>\n",
              "    </tr>\n",
              "    <tr>\n",
              "      <th>1</th>\n",
              "      <td>1</td>\n",
              "      <td>2</td>\n",
              "      <td>2</td>\n",
              "    </tr>\n",
              "    <tr>\n",
              "      <th>2</th>\n",
              "      <td>2</td>\n",
              "      <td>3</td>\n",
              "      <td>2</td>\n",
              "    </tr>\n",
              "    <tr>\n",
              "      <th>3</th>\n",
              "      <td>3</td>\n",
              "      <td>4</td>\n",
              "      <td>1</td>\n",
              "    </tr>\n",
              "    <tr>\n",
              "      <th>4</th>\n",
              "      <td>4</td>\n",
              "      <td>5</td>\n",
              "      <td>3</td>\n",
              "    </tr>\n",
              "    <tr>\n",
              "      <th>...</th>\n",
              "      <td>...</td>\n",
              "      <td>...</td>\n",
              "      <td>...</td>\n",
              "    </tr>\n",
              "    <tr>\n",
              "      <th>342</th>\n",
              "      <td>342</td>\n",
              "      <td>343</td>\n",
              "      <td>226</td>\n",
              "    </tr>\n",
              "    <tr>\n",
              "      <th>343</th>\n",
              "      <td>343</td>\n",
              "      <td>344</td>\n",
              "      <td>272</td>\n",
              "    </tr>\n",
              "    <tr>\n",
              "      <th>344</th>\n",
              "      <td>344</td>\n",
              "      <td>345</td>\n",
              "      <td>273</td>\n",
              "    </tr>\n",
              "    <tr>\n",
              "      <th>345</th>\n",
              "      <td>345</td>\n",
              "      <td>346</td>\n",
              "      <td>274</td>\n",
              "    </tr>\n",
              "    <tr>\n",
              "      <th>346</th>\n",
              "      <td>346</td>\n",
              "      <td>347</td>\n",
              "      <td>275</td>\n",
              "    </tr>\n",
              "  </tbody>\n",
              "</table>\n",
              "<p>347 rows × 3 columns</p>\n",
              "</div>\n",
              "      <button class=\"colab-df-convert\" onclick=\"convertToInteractive('df-984277f0-e55a-4dce-b757-f18f5bd3fe1c')\"\n",
              "              title=\"Convert this dataframe to an interactive table.\"\n",
              "              style=\"display:none;\">\n",
              "        \n",
              "  <svg xmlns=\"http://www.w3.org/2000/svg\" height=\"24px\"viewBox=\"0 0 24 24\"\n",
              "       width=\"24px\">\n",
              "    <path d=\"M0 0h24v24H0V0z\" fill=\"none\"/>\n",
              "    <path d=\"M18.56 5.44l.94 2.06.94-2.06 2.06-.94-2.06-.94-.94-2.06-.94 2.06-2.06.94zm-11 1L8.5 8.5l.94-2.06 2.06-.94-2.06-.94L8.5 2.5l-.94 2.06-2.06.94zm10 10l.94 2.06.94-2.06 2.06-.94-2.06-.94-.94-2.06-.94 2.06-2.06.94z\"/><path d=\"M17.41 7.96l-1.37-1.37c-.4-.4-.92-.59-1.43-.59-.52 0-1.04.2-1.43.59L10.3 9.45l-7.72 7.72c-.78.78-.78 2.05 0 2.83L4 21.41c.39.39.9.59 1.41.59.51 0 1.02-.2 1.41-.59l7.78-7.78 2.81-2.81c.8-.78.8-2.07 0-2.86zM5.41 20L4 18.59l7.72-7.72 1.47 1.35L5.41 20z\"/>\n",
              "  </svg>\n",
              "      </button>\n",
              "      \n",
              "  <style>\n",
              "    .colab-df-container {\n",
              "      display:flex;\n",
              "      flex-wrap:wrap;\n",
              "      gap: 12px;\n",
              "    }\n",
              "\n",
              "    .colab-df-convert {\n",
              "      background-color: #E8F0FE;\n",
              "      border: none;\n",
              "      border-radius: 50%;\n",
              "      cursor: pointer;\n",
              "      display: none;\n",
              "      fill: #1967D2;\n",
              "      height: 32px;\n",
              "      padding: 0 0 0 0;\n",
              "      width: 32px;\n",
              "    }\n",
              "\n",
              "    .colab-df-convert:hover {\n",
              "      background-color: #E2EBFA;\n",
              "      box-shadow: 0px 1px 2px rgba(60, 64, 67, 0.3), 0px 1px 3px 1px rgba(60, 64, 67, 0.15);\n",
              "      fill: #174EA6;\n",
              "    }\n",
              "\n",
              "    [theme=dark] .colab-df-convert {\n",
              "      background-color: #3B4455;\n",
              "      fill: #D2E3FC;\n",
              "    }\n",
              "\n",
              "    [theme=dark] .colab-df-convert:hover {\n",
              "      background-color: #434B5C;\n",
              "      box-shadow: 0px 1px 3px 1px rgba(0, 0, 0, 0.15);\n",
              "      filter: drop-shadow(0px 1px 2px rgba(0, 0, 0, 0.3));\n",
              "      fill: #FFFFFF;\n",
              "    }\n",
              "  </style>\n",
              "\n",
              "      <script>\n",
              "        const buttonEl =\n",
              "          document.querySelector('#df-984277f0-e55a-4dce-b757-f18f5bd3fe1c button.colab-df-convert');\n",
              "        buttonEl.style.display =\n",
              "          google.colab.kernel.accessAllowed ? 'block' : 'none';\n",
              "\n",
              "        async function convertToInteractive(key) {\n",
              "          const element = document.querySelector('#df-984277f0-e55a-4dce-b757-f18f5bd3fe1c');\n",
              "          const dataTable =\n",
              "            await google.colab.kernel.invokeFunction('convertToInteractive',\n",
              "                                                     [key], {});\n",
              "          if (!dataTable) return;\n",
              "\n",
              "          const docLinkHtml = 'Like what you see? Visit the ' +\n",
              "            '<a target=\"_blank\" href=https://colab.research.google.com/notebooks/data_table.ipynb>data table notebook</a>'\n",
              "            + ' to learn more about interactive tables.';\n",
              "          element.innerHTML = '';\n",
              "          dataTable['output_type'] = 'display_data';\n",
              "          await google.colab.output.renderOutput(dataTable, element);\n",
              "          const docLink = document.createElement('div');\n",
              "          docLink.innerHTML = docLinkHtml;\n",
              "          element.appendChild(docLink);\n",
              "        }\n",
              "      </script>\n",
              "    </div>\n",
              "  </div>\n",
              "  "
            ]
          },
          "metadata": {},
          "execution_count": 99
        }
      ]
    },
    {
      "cell_type": "code",
      "source": [],
      "metadata": {
        "id": "ufYdlfFA7rhr"
      },
      "execution_count": null,
      "outputs": []
    },
    {
      "cell_type": "code",
      "source": [
        "engine.tab"
      ],
      "metadata": {
        "id": "b2ff6BFxW6u6",
        "colab": {
          "base_uri": "https://localhost:8080/",
          "height": 168
        },
        "outputId": "e743ab56-86e8-45b4-c7ae-7b54a6894ff4"
      },
      "execution_count": null,
      "outputs": [
        {
          "output_type": "error",
          "ename": "AttributeError",
          "evalue": "ignored",
          "traceback": [
            "\u001b[0;31m---------------------------------------------------------------------------\u001b[0m",
            "\u001b[0;31mAttributeError\u001b[0m                            Traceback (most recent call last)",
            "\u001b[0;32m<ipython-input-100-d30dce5bcbb1>\u001b[0m in \u001b[0;36m<cell line: 1>\u001b[0;34m()\u001b[0m\n\u001b[0;32m----> 1\u001b[0;31m \u001b[0mengine\u001b[0m\u001b[0;34m.\u001b[0m\u001b[0mtab\u001b[0m\u001b[0;34m\u001b[0m\u001b[0;34m\u001b[0m\u001b[0m\n\u001b[0m",
            "\u001b[0;31mAttributeError\u001b[0m: 'Engine' object has no attribute 'tab'"
          ]
        }
      ]
    },
    {
      "cell_type": "code",
      "source": [
        "engine.table_names()"
      ],
      "metadata": {
        "colab": {
          "base_uri": "https://localhost:8080/"
        },
        "id": "TtEJBQQA_B3s",
        "outputId": "9030a16f-d75f-4c70-9e1d-c54c52ac719e"
      },
      "execution_count": null,
      "outputs": [
        {
          "output_type": "stream",
          "name": "stderr",
          "text": [
            "<ipython-input-101-d72bc75a6b62>:1: SADeprecationWarning: The Engine.table_names() method is deprecated and will be removed in a future release.  Please refer to Inspector.get_table_names(). (deprecated since: 1.4)\n",
            "  engine.table_names()\n"
          ]
        },
        {
          "output_type": "execute_result",
          "data": {
            "text/plain": [
              "['albums',\n",
              " 'albums_new',\n",
              " 'artists',\n",
              " 'customers',\n",
              " 'employees',\n",
              " 'genres',\n",
              " 'invoice_items',\n",
              " 'invoices',\n",
              " 'media_types',\n",
              " 'new_albums',\n",
              " 'playlist_track',\n",
              " 'playlists',\n",
              " 'sqlite_sequence',\n",
              " 'sqlite_stat1',\n",
              " 'tracks']"
            ]
          },
          "metadata": {},
          "execution_count": 101
        }
      ]
    },
    {
      "cell_type": "code",
      "source": [
        "albums"
      ],
      "metadata": {
        "colab": {
          "base_uri": "https://localhost:8080/",
          "height": 424
        },
        "id": "AJZbKZ92StXK",
        "outputId": "4c48e097-d840-4c47-ed72-3b4db5e37d7f"
      },
      "execution_count": null,
      "outputs": [
        {
          "output_type": "execute_result",
          "data": {
            "text/plain": [
              "     AlbumId                                              Title  ArtistId\n",
              "0          1              For Those About To Rock We Salute You         1\n",
              "1          2                                  Balls to the Wall         2\n",
              "2          3                                  Restless and Wild         2\n",
              "3          4                                  Let There Be Rock         1\n",
              "4          5                                           Big Ones         3\n",
              "..       ...                                                ...       ...\n",
              "342      343                             Respighi:Pines of Rome       226\n",
              "343      344  Schubert: The Late String Quartets & String Qu...       272\n",
              "344      345                                Monteverdi: L'Orfeo       273\n",
              "345      346                              Mozart: Chamber Music       274\n",
              "346      347  Koyaanisqatsi (Soundtrack from the Motion Pict...       275\n",
              "\n",
              "[347 rows x 3 columns]"
            ],
            "text/html": [
              "\n",
              "  <div id=\"df-91158875-4c5a-43cb-9b54-85ab8a7ea60f\">\n",
              "    <div class=\"colab-df-container\">\n",
              "      <div>\n",
              "<style scoped>\n",
              "    .dataframe tbody tr th:only-of-type {\n",
              "        vertical-align: middle;\n",
              "    }\n",
              "\n",
              "    .dataframe tbody tr th {\n",
              "        vertical-align: top;\n",
              "    }\n",
              "\n",
              "    .dataframe thead th {\n",
              "        text-align: right;\n",
              "    }\n",
              "</style>\n",
              "<table border=\"1\" class=\"dataframe\">\n",
              "  <thead>\n",
              "    <tr style=\"text-align: right;\">\n",
              "      <th></th>\n",
              "      <th>AlbumId</th>\n",
              "      <th>Title</th>\n",
              "      <th>ArtistId</th>\n",
              "    </tr>\n",
              "  </thead>\n",
              "  <tbody>\n",
              "    <tr>\n",
              "      <th>0</th>\n",
              "      <td>1</td>\n",
              "      <td>For Those About To Rock We Salute You</td>\n",
              "      <td>1</td>\n",
              "    </tr>\n",
              "    <tr>\n",
              "      <th>1</th>\n",
              "      <td>2</td>\n",
              "      <td>Balls to the Wall</td>\n",
              "      <td>2</td>\n",
              "    </tr>\n",
              "    <tr>\n",
              "      <th>2</th>\n",
              "      <td>3</td>\n",
              "      <td>Restless and Wild</td>\n",
              "      <td>2</td>\n",
              "    </tr>\n",
              "    <tr>\n",
              "      <th>3</th>\n",
              "      <td>4</td>\n",
              "      <td>Let There Be Rock</td>\n",
              "      <td>1</td>\n",
              "    </tr>\n",
              "    <tr>\n",
              "      <th>4</th>\n",
              "      <td>5</td>\n",
              "      <td>Big Ones</td>\n",
              "      <td>3</td>\n",
              "    </tr>\n",
              "    <tr>\n",
              "      <th>...</th>\n",
              "      <td>...</td>\n",
              "      <td>...</td>\n",
              "      <td>...</td>\n",
              "    </tr>\n",
              "    <tr>\n",
              "      <th>342</th>\n",
              "      <td>343</td>\n",
              "      <td>Respighi:Pines of Rome</td>\n",
              "      <td>226</td>\n",
              "    </tr>\n",
              "    <tr>\n",
              "      <th>343</th>\n",
              "      <td>344</td>\n",
              "      <td>Schubert: The Late String Quartets &amp; String Qu...</td>\n",
              "      <td>272</td>\n",
              "    </tr>\n",
              "    <tr>\n",
              "      <th>344</th>\n",
              "      <td>345</td>\n",
              "      <td>Monteverdi: L'Orfeo</td>\n",
              "      <td>273</td>\n",
              "    </tr>\n",
              "    <tr>\n",
              "      <th>345</th>\n",
              "      <td>346</td>\n",
              "      <td>Mozart: Chamber Music</td>\n",
              "      <td>274</td>\n",
              "    </tr>\n",
              "    <tr>\n",
              "      <th>346</th>\n",
              "      <td>347</td>\n",
              "      <td>Koyaanisqatsi (Soundtrack from the Motion Pict...</td>\n",
              "      <td>275</td>\n",
              "    </tr>\n",
              "  </tbody>\n",
              "</table>\n",
              "<p>347 rows × 3 columns</p>\n",
              "</div>\n",
              "      <button class=\"colab-df-convert\" onclick=\"convertToInteractive('df-91158875-4c5a-43cb-9b54-85ab8a7ea60f')\"\n",
              "              title=\"Convert this dataframe to an interactive table.\"\n",
              "              style=\"display:none;\">\n",
              "        \n",
              "  <svg xmlns=\"http://www.w3.org/2000/svg\" height=\"24px\"viewBox=\"0 0 24 24\"\n",
              "       width=\"24px\">\n",
              "    <path d=\"M0 0h24v24H0V0z\" fill=\"none\"/>\n",
              "    <path d=\"M18.56 5.44l.94 2.06.94-2.06 2.06-.94-2.06-.94-.94-2.06-.94 2.06-2.06.94zm-11 1L8.5 8.5l.94-2.06 2.06-.94-2.06-.94L8.5 2.5l-.94 2.06-2.06.94zm10 10l.94 2.06.94-2.06 2.06-.94-2.06-.94-.94-2.06-.94 2.06-2.06.94z\"/><path d=\"M17.41 7.96l-1.37-1.37c-.4-.4-.92-.59-1.43-.59-.52 0-1.04.2-1.43.59L10.3 9.45l-7.72 7.72c-.78.78-.78 2.05 0 2.83L4 21.41c.39.39.9.59 1.41.59.51 0 1.02-.2 1.41-.59l7.78-7.78 2.81-2.81c.8-.78.8-2.07 0-2.86zM5.41 20L4 18.59l7.72-7.72 1.47 1.35L5.41 20z\"/>\n",
              "  </svg>\n",
              "      </button>\n",
              "      \n",
              "  <style>\n",
              "    .colab-df-container {\n",
              "      display:flex;\n",
              "      flex-wrap:wrap;\n",
              "      gap: 12px;\n",
              "    }\n",
              "\n",
              "    .colab-df-convert {\n",
              "      background-color: #E8F0FE;\n",
              "      border: none;\n",
              "      border-radius: 50%;\n",
              "      cursor: pointer;\n",
              "      display: none;\n",
              "      fill: #1967D2;\n",
              "      height: 32px;\n",
              "      padding: 0 0 0 0;\n",
              "      width: 32px;\n",
              "    }\n",
              "\n",
              "    .colab-df-convert:hover {\n",
              "      background-color: #E2EBFA;\n",
              "      box-shadow: 0px 1px 2px rgba(60, 64, 67, 0.3), 0px 1px 3px 1px rgba(60, 64, 67, 0.15);\n",
              "      fill: #174EA6;\n",
              "    }\n",
              "\n",
              "    [theme=dark] .colab-df-convert {\n",
              "      background-color: #3B4455;\n",
              "      fill: #D2E3FC;\n",
              "    }\n",
              "\n",
              "    [theme=dark] .colab-df-convert:hover {\n",
              "      background-color: #434B5C;\n",
              "      box-shadow: 0px 1px 3px 1px rgba(0, 0, 0, 0.15);\n",
              "      filter: drop-shadow(0px 1px 2px rgba(0, 0, 0, 0.3));\n",
              "      fill: #FFFFFF;\n",
              "    }\n",
              "  </style>\n",
              "\n",
              "      <script>\n",
              "        const buttonEl =\n",
              "          document.querySelector('#df-91158875-4c5a-43cb-9b54-85ab8a7ea60f button.colab-df-convert');\n",
              "        buttonEl.style.display =\n",
              "          google.colab.kernel.accessAllowed ? 'block' : 'none';\n",
              "\n",
              "        async function convertToInteractive(key) {\n",
              "          const element = document.querySelector('#df-91158875-4c5a-43cb-9b54-85ab8a7ea60f');\n",
              "          const dataTable =\n",
              "            await google.colab.kernel.invokeFunction('convertToInteractive',\n",
              "                                                     [key], {});\n",
              "          if (!dataTable) return;\n",
              "\n",
              "          const docLinkHtml = 'Like what you see? Visit the ' +\n",
              "            '<a target=\"_blank\" href=https://colab.research.google.com/notebooks/data_table.ipynb>data table notebook</a>'\n",
              "            + ' to learn more about interactive tables.';\n",
              "          element.innerHTML = '';\n",
              "          dataTable['output_type'] = 'display_data';\n",
              "          await google.colab.output.renderOutput(dataTable, element);\n",
              "          const docLink = document.createElement('div');\n",
              "          docLink.innerHTML = docLinkHtml;\n",
              "          element.appendChild(docLink);\n",
              "        }\n",
              "      </script>\n",
              "    </div>\n",
              "  </div>\n",
              "  "
            ]
          },
          "metadata": {},
          "execution_count": 102
        }
      ]
    },
    {
      "cell_type": "code",
      "source": [
        "albums['agg'] = 1"
      ],
      "metadata": {
        "id": "1kJDl7c__ASw"
      },
      "execution_count": null,
      "outputs": []
    },
    {
      "cell_type": "code",
      "source": [
        "albums"
      ],
      "metadata": {
        "colab": {
          "base_uri": "https://localhost:8080/",
          "height": 424
        },
        "id": "79ZxqRl87z4I",
        "outputId": "86d1c01b-5678-4e78-841f-1dfe8bef588a"
      },
      "execution_count": null,
      "outputs": [
        {
          "output_type": "execute_result",
          "data": {
            "text/plain": [
              "     AlbumId                                              Title  ArtistId  agg\n",
              "0          1              For Those About To Rock We Salute You         1    1\n",
              "1          2                                  Balls to the Wall         2    1\n",
              "2          3                                  Restless and Wild         2    1\n",
              "3          4                                  Let There Be Rock         1    1\n",
              "4          5                                           Big Ones         3    1\n",
              "..       ...                                                ...       ...  ...\n",
              "342      343                             Respighi:Pines of Rome       226    1\n",
              "343      344  Schubert: The Late String Quartets & String Qu...       272    1\n",
              "344      345                                Monteverdi: L'Orfeo       273    1\n",
              "345      346                              Mozart: Chamber Music       274    1\n",
              "346      347  Koyaanisqatsi (Soundtrack from the Motion Pict...       275    1\n",
              "\n",
              "[347 rows x 4 columns]"
            ],
            "text/html": [
              "\n",
              "  <div id=\"df-2ae88e45-cba2-4ba4-9777-66e4e7a894d9\">\n",
              "    <div class=\"colab-df-container\">\n",
              "      <div>\n",
              "<style scoped>\n",
              "    .dataframe tbody tr th:only-of-type {\n",
              "        vertical-align: middle;\n",
              "    }\n",
              "\n",
              "    .dataframe tbody tr th {\n",
              "        vertical-align: top;\n",
              "    }\n",
              "\n",
              "    .dataframe thead th {\n",
              "        text-align: right;\n",
              "    }\n",
              "</style>\n",
              "<table border=\"1\" class=\"dataframe\">\n",
              "  <thead>\n",
              "    <tr style=\"text-align: right;\">\n",
              "      <th></th>\n",
              "      <th>AlbumId</th>\n",
              "      <th>Title</th>\n",
              "      <th>ArtistId</th>\n",
              "      <th>agg</th>\n",
              "    </tr>\n",
              "  </thead>\n",
              "  <tbody>\n",
              "    <tr>\n",
              "      <th>0</th>\n",
              "      <td>1</td>\n",
              "      <td>For Those About To Rock We Salute You</td>\n",
              "      <td>1</td>\n",
              "      <td>1</td>\n",
              "    </tr>\n",
              "    <tr>\n",
              "      <th>1</th>\n",
              "      <td>2</td>\n",
              "      <td>Balls to the Wall</td>\n",
              "      <td>2</td>\n",
              "      <td>1</td>\n",
              "    </tr>\n",
              "    <tr>\n",
              "      <th>2</th>\n",
              "      <td>3</td>\n",
              "      <td>Restless and Wild</td>\n",
              "      <td>2</td>\n",
              "      <td>1</td>\n",
              "    </tr>\n",
              "    <tr>\n",
              "      <th>3</th>\n",
              "      <td>4</td>\n",
              "      <td>Let There Be Rock</td>\n",
              "      <td>1</td>\n",
              "      <td>1</td>\n",
              "    </tr>\n",
              "    <tr>\n",
              "      <th>4</th>\n",
              "      <td>5</td>\n",
              "      <td>Big Ones</td>\n",
              "      <td>3</td>\n",
              "      <td>1</td>\n",
              "    </tr>\n",
              "    <tr>\n",
              "      <th>...</th>\n",
              "      <td>...</td>\n",
              "      <td>...</td>\n",
              "      <td>...</td>\n",
              "      <td>...</td>\n",
              "    </tr>\n",
              "    <tr>\n",
              "      <th>342</th>\n",
              "      <td>343</td>\n",
              "      <td>Respighi:Pines of Rome</td>\n",
              "      <td>226</td>\n",
              "      <td>1</td>\n",
              "    </tr>\n",
              "    <tr>\n",
              "      <th>343</th>\n",
              "      <td>344</td>\n",
              "      <td>Schubert: The Late String Quartets &amp; String Qu...</td>\n",
              "      <td>272</td>\n",
              "      <td>1</td>\n",
              "    </tr>\n",
              "    <tr>\n",
              "      <th>344</th>\n",
              "      <td>345</td>\n",
              "      <td>Monteverdi: L'Orfeo</td>\n",
              "      <td>273</td>\n",
              "      <td>1</td>\n",
              "    </tr>\n",
              "    <tr>\n",
              "      <th>345</th>\n",
              "      <td>346</td>\n",
              "      <td>Mozart: Chamber Music</td>\n",
              "      <td>274</td>\n",
              "      <td>1</td>\n",
              "    </tr>\n",
              "    <tr>\n",
              "      <th>346</th>\n",
              "      <td>347</td>\n",
              "      <td>Koyaanisqatsi (Soundtrack from the Motion Pict...</td>\n",
              "      <td>275</td>\n",
              "      <td>1</td>\n",
              "    </tr>\n",
              "  </tbody>\n",
              "</table>\n",
              "<p>347 rows × 4 columns</p>\n",
              "</div>\n",
              "      <button class=\"colab-df-convert\" onclick=\"convertToInteractive('df-2ae88e45-cba2-4ba4-9777-66e4e7a894d9')\"\n",
              "              title=\"Convert this dataframe to an interactive table.\"\n",
              "              style=\"display:none;\">\n",
              "        \n",
              "  <svg xmlns=\"http://www.w3.org/2000/svg\" height=\"24px\"viewBox=\"0 0 24 24\"\n",
              "       width=\"24px\">\n",
              "    <path d=\"M0 0h24v24H0V0z\" fill=\"none\"/>\n",
              "    <path d=\"M18.56 5.44l.94 2.06.94-2.06 2.06-.94-2.06-.94-.94-2.06-.94 2.06-2.06.94zm-11 1L8.5 8.5l.94-2.06 2.06-.94-2.06-.94L8.5 2.5l-.94 2.06-2.06.94zm10 10l.94 2.06.94-2.06 2.06-.94-2.06-.94-.94-2.06-.94 2.06-2.06.94z\"/><path d=\"M17.41 7.96l-1.37-1.37c-.4-.4-.92-.59-1.43-.59-.52 0-1.04.2-1.43.59L10.3 9.45l-7.72 7.72c-.78.78-.78 2.05 0 2.83L4 21.41c.39.39.9.59 1.41.59.51 0 1.02-.2 1.41-.59l7.78-7.78 2.81-2.81c.8-.78.8-2.07 0-2.86zM5.41 20L4 18.59l7.72-7.72 1.47 1.35L5.41 20z\"/>\n",
              "  </svg>\n",
              "      </button>\n",
              "      \n",
              "  <style>\n",
              "    .colab-df-container {\n",
              "      display:flex;\n",
              "      flex-wrap:wrap;\n",
              "      gap: 12px;\n",
              "    }\n",
              "\n",
              "    .colab-df-convert {\n",
              "      background-color: #E8F0FE;\n",
              "      border: none;\n",
              "      border-radius: 50%;\n",
              "      cursor: pointer;\n",
              "      display: none;\n",
              "      fill: #1967D2;\n",
              "      height: 32px;\n",
              "      padding: 0 0 0 0;\n",
              "      width: 32px;\n",
              "    }\n",
              "\n",
              "    .colab-df-convert:hover {\n",
              "      background-color: #E2EBFA;\n",
              "      box-shadow: 0px 1px 2px rgba(60, 64, 67, 0.3), 0px 1px 3px 1px rgba(60, 64, 67, 0.15);\n",
              "      fill: #174EA6;\n",
              "    }\n",
              "\n",
              "    [theme=dark] .colab-df-convert {\n",
              "      background-color: #3B4455;\n",
              "      fill: #D2E3FC;\n",
              "    }\n",
              "\n",
              "    [theme=dark] .colab-df-convert:hover {\n",
              "      background-color: #434B5C;\n",
              "      box-shadow: 0px 1px 3px 1px rgba(0, 0, 0, 0.15);\n",
              "      filter: drop-shadow(0px 1px 2px rgba(0, 0, 0, 0.3));\n",
              "      fill: #FFFFFF;\n",
              "    }\n",
              "  </style>\n",
              "\n",
              "      <script>\n",
              "        const buttonEl =\n",
              "          document.querySelector('#df-2ae88e45-cba2-4ba4-9777-66e4e7a894d9 button.colab-df-convert');\n",
              "        buttonEl.style.display =\n",
              "          google.colab.kernel.accessAllowed ? 'block' : 'none';\n",
              "\n",
              "        async function convertToInteractive(key) {\n",
              "          const element = document.querySelector('#df-2ae88e45-cba2-4ba4-9777-66e4e7a894d9');\n",
              "          const dataTable =\n",
              "            await google.colab.kernel.invokeFunction('convertToInteractive',\n",
              "                                                     [key], {});\n",
              "          if (!dataTable) return;\n",
              "\n",
              "          const docLinkHtml = 'Like what you see? Visit the ' +\n",
              "            '<a target=\"_blank\" href=https://colab.research.google.com/notebooks/data_table.ipynb>data table notebook</a>'\n",
              "            + ' to learn more about interactive tables.';\n",
              "          element.innerHTML = '';\n",
              "          dataTable['output_type'] = 'display_data';\n",
              "          await google.colab.output.renderOutput(dataTable, element);\n",
              "          const docLink = document.createElement('div');\n",
              "          docLink.innerHTML = docLinkHtml;\n",
              "          element.appendChild(docLink);\n",
              "        }\n",
              "      </script>\n",
              "    </div>\n",
              "  </div>\n",
              "  "
            ]
          },
          "metadata": {},
          "execution_count": 104
        }
      ]
    },
    {
      "cell_type": "code",
      "source": [
        "albums.to_sql('new_albums', con=engine, if_exists='append')"
      ],
      "metadata": {
        "id": "ENQkJ7i0_L4J",
        "colab": {
          "base_uri": "https://localhost:8080/"
        },
        "outputId": "e64aa781-a4dd-420e-ce30-2369507825e2"
      },
      "execution_count": null,
      "outputs": [
        {
          "output_type": "execute_result",
          "data": {
            "text/plain": [
              "347"
            ]
          },
          "metadata": {},
          "execution_count": 105
        }
      ]
    },
    {
      "cell_type": "code",
      "source": [
        "albums"
      ],
      "metadata": {
        "colab": {
          "base_uri": "https://localhost:8080/",
          "height": 424
        },
        "id": "Z_rFI5sJ8JGY",
        "outputId": "a81c51f1-01a7-4683-916f-0f96b8b14c9e"
      },
      "execution_count": null,
      "outputs": [
        {
          "output_type": "execute_result",
          "data": {
            "text/plain": [
              "     AlbumId                                              Title  ArtistId  agg\n",
              "0          1              For Those About To Rock We Salute You         1    1\n",
              "1          2                                  Balls to the Wall         2    1\n",
              "2          3                                  Restless and Wild         2    1\n",
              "3          4                                  Let There Be Rock         1    1\n",
              "4          5                                           Big Ones         3    1\n",
              "..       ...                                                ...       ...  ...\n",
              "342      343                             Respighi:Pines of Rome       226    1\n",
              "343      344  Schubert: The Late String Quartets & String Qu...       272    1\n",
              "344      345                                Monteverdi: L'Orfeo       273    1\n",
              "345      346                              Mozart: Chamber Music       274    1\n",
              "346      347  Koyaanisqatsi (Soundtrack from the Motion Pict...       275    1\n",
              "\n",
              "[347 rows x 4 columns]"
            ],
            "text/html": [
              "\n",
              "  <div id=\"df-69e6f68e-1ba4-4259-abc7-a4c1869dc482\">\n",
              "    <div class=\"colab-df-container\">\n",
              "      <div>\n",
              "<style scoped>\n",
              "    .dataframe tbody tr th:only-of-type {\n",
              "        vertical-align: middle;\n",
              "    }\n",
              "\n",
              "    .dataframe tbody tr th {\n",
              "        vertical-align: top;\n",
              "    }\n",
              "\n",
              "    .dataframe thead th {\n",
              "        text-align: right;\n",
              "    }\n",
              "</style>\n",
              "<table border=\"1\" class=\"dataframe\">\n",
              "  <thead>\n",
              "    <tr style=\"text-align: right;\">\n",
              "      <th></th>\n",
              "      <th>AlbumId</th>\n",
              "      <th>Title</th>\n",
              "      <th>ArtistId</th>\n",
              "      <th>agg</th>\n",
              "    </tr>\n",
              "  </thead>\n",
              "  <tbody>\n",
              "    <tr>\n",
              "      <th>0</th>\n",
              "      <td>1</td>\n",
              "      <td>For Those About To Rock We Salute You</td>\n",
              "      <td>1</td>\n",
              "      <td>1</td>\n",
              "    </tr>\n",
              "    <tr>\n",
              "      <th>1</th>\n",
              "      <td>2</td>\n",
              "      <td>Balls to the Wall</td>\n",
              "      <td>2</td>\n",
              "      <td>1</td>\n",
              "    </tr>\n",
              "    <tr>\n",
              "      <th>2</th>\n",
              "      <td>3</td>\n",
              "      <td>Restless and Wild</td>\n",
              "      <td>2</td>\n",
              "      <td>1</td>\n",
              "    </tr>\n",
              "    <tr>\n",
              "      <th>3</th>\n",
              "      <td>4</td>\n",
              "      <td>Let There Be Rock</td>\n",
              "      <td>1</td>\n",
              "      <td>1</td>\n",
              "    </tr>\n",
              "    <tr>\n",
              "      <th>4</th>\n",
              "      <td>5</td>\n",
              "      <td>Big Ones</td>\n",
              "      <td>3</td>\n",
              "      <td>1</td>\n",
              "    </tr>\n",
              "    <tr>\n",
              "      <th>...</th>\n",
              "      <td>...</td>\n",
              "      <td>...</td>\n",
              "      <td>...</td>\n",
              "      <td>...</td>\n",
              "    </tr>\n",
              "    <tr>\n",
              "      <th>342</th>\n",
              "      <td>343</td>\n",
              "      <td>Respighi:Pines of Rome</td>\n",
              "      <td>226</td>\n",
              "      <td>1</td>\n",
              "    </tr>\n",
              "    <tr>\n",
              "      <th>343</th>\n",
              "      <td>344</td>\n",
              "      <td>Schubert: The Late String Quartets &amp; String Qu...</td>\n",
              "      <td>272</td>\n",
              "      <td>1</td>\n",
              "    </tr>\n",
              "    <tr>\n",
              "      <th>344</th>\n",
              "      <td>345</td>\n",
              "      <td>Monteverdi: L'Orfeo</td>\n",
              "      <td>273</td>\n",
              "      <td>1</td>\n",
              "    </tr>\n",
              "    <tr>\n",
              "      <th>345</th>\n",
              "      <td>346</td>\n",
              "      <td>Mozart: Chamber Music</td>\n",
              "      <td>274</td>\n",
              "      <td>1</td>\n",
              "    </tr>\n",
              "    <tr>\n",
              "      <th>346</th>\n",
              "      <td>347</td>\n",
              "      <td>Koyaanisqatsi (Soundtrack from the Motion Pict...</td>\n",
              "      <td>275</td>\n",
              "      <td>1</td>\n",
              "    </tr>\n",
              "  </tbody>\n",
              "</table>\n",
              "<p>347 rows × 4 columns</p>\n",
              "</div>\n",
              "      <button class=\"colab-df-convert\" onclick=\"convertToInteractive('df-69e6f68e-1ba4-4259-abc7-a4c1869dc482')\"\n",
              "              title=\"Convert this dataframe to an interactive table.\"\n",
              "              style=\"display:none;\">\n",
              "        \n",
              "  <svg xmlns=\"http://www.w3.org/2000/svg\" height=\"24px\"viewBox=\"0 0 24 24\"\n",
              "       width=\"24px\">\n",
              "    <path d=\"M0 0h24v24H0V0z\" fill=\"none\"/>\n",
              "    <path d=\"M18.56 5.44l.94 2.06.94-2.06 2.06-.94-2.06-.94-.94-2.06-.94 2.06-2.06.94zm-11 1L8.5 8.5l.94-2.06 2.06-.94-2.06-.94L8.5 2.5l-.94 2.06-2.06.94zm10 10l.94 2.06.94-2.06 2.06-.94-2.06-.94-.94-2.06-.94 2.06-2.06.94z\"/><path d=\"M17.41 7.96l-1.37-1.37c-.4-.4-.92-.59-1.43-.59-.52 0-1.04.2-1.43.59L10.3 9.45l-7.72 7.72c-.78.78-.78 2.05 0 2.83L4 21.41c.39.39.9.59 1.41.59.51 0 1.02-.2 1.41-.59l7.78-7.78 2.81-2.81c.8-.78.8-2.07 0-2.86zM5.41 20L4 18.59l7.72-7.72 1.47 1.35L5.41 20z\"/>\n",
              "  </svg>\n",
              "      </button>\n",
              "      \n",
              "  <style>\n",
              "    .colab-df-container {\n",
              "      display:flex;\n",
              "      flex-wrap:wrap;\n",
              "      gap: 12px;\n",
              "    }\n",
              "\n",
              "    .colab-df-convert {\n",
              "      background-color: #E8F0FE;\n",
              "      border: none;\n",
              "      border-radius: 50%;\n",
              "      cursor: pointer;\n",
              "      display: none;\n",
              "      fill: #1967D2;\n",
              "      height: 32px;\n",
              "      padding: 0 0 0 0;\n",
              "      width: 32px;\n",
              "    }\n",
              "\n",
              "    .colab-df-convert:hover {\n",
              "      background-color: #E2EBFA;\n",
              "      box-shadow: 0px 1px 2px rgba(60, 64, 67, 0.3), 0px 1px 3px 1px rgba(60, 64, 67, 0.15);\n",
              "      fill: #174EA6;\n",
              "    }\n",
              "\n",
              "    [theme=dark] .colab-df-convert {\n",
              "      background-color: #3B4455;\n",
              "      fill: #D2E3FC;\n",
              "    }\n",
              "\n",
              "    [theme=dark] .colab-df-convert:hover {\n",
              "      background-color: #434B5C;\n",
              "      box-shadow: 0px 1px 3px 1px rgba(0, 0, 0, 0.15);\n",
              "      filter: drop-shadow(0px 1px 2px rgba(0, 0, 0, 0.3));\n",
              "      fill: #FFFFFF;\n",
              "    }\n",
              "  </style>\n",
              "\n",
              "      <script>\n",
              "        const buttonEl =\n",
              "          document.querySelector('#df-69e6f68e-1ba4-4259-abc7-a4c1869dc482 button.colab-df-convert');\n",
              "        buttonEl.style.display =\n",
              "          google.colab.kernel.accessAllowed ? 'block' : 'none';\n",
              "\n",
              "        async function convertToInteractive(key) {\n",
              "          const element = document.querySelector('#df-69e6f68e-1ba4-4259-abc7-a4c1869dc482');\n",
              "          const dataTable =\n",
              "            await google.colab.kernel.invokeFunction('convertToInteractive',\n",
              "                                                     [key], {});\n",
              "          if (!dataTable) return;\n",
              "\n",
              "          const docLinkHtml = 'Like what you see? Visit the ' +\n",
              "            '<a target=\"_blank\" href=https://colab.research.google.com/notebooks/data_table.ipynb>data table notebook</a>'\n",
              "            + ' to learn more about interactive tables.';\n",
              "          element.innerHTML = '';\n",
              "          dataTable['output_type'] = 'display_data';\n",
              "          await google.colab.output.renderOutput(dataTable, element);\n",
              "          const docLink = document.createElement('div');\n",
              "          docLink.innerHTML = docLinkHtml;\n",
              "          element.appendChild(docLink);\n",
              "        }\n",
              "      </script>\n",
              "    </div>\n",
              "  </div>\n",
              "  "
            ]
          },
          "metadata": {},
          "execution_count": 106
        }
      ]
    },
    {
      "cell_type": "code",
      "source": [
        "new_df= pd.read_sql_table('new_albums', con=engine)"
      ],
      "metadata": {
        "id": "U0n4WVbMCI0X"
      },
      "execution_count": null,
      "outputs": []
    },
    {
      "cell_type": "code",
      "source": [
        "new_df.head(1)"
      ],
      "metadata": {
        "colab": {
          "base_uri": "https://localhost:8080/",
          "height": 81
        },
        "id": "uBAIEKNBCXZ8",
        "outputId": "3f545c23-3b76-412a-912c-10d38e61f400"
      },
      "execution_count": null,
      "outputs": [
        {
          "output_type": "execute_result",
          "data": {
            "text/plain": [
              "   index  AlbumId                                  Title  ArtistId  agg\n",
              "0      0        1  For Those About To Rock We Salute You         1    1"
            ],
            "text/html": [
              "\n",
              "  <div id=\"df-a369cc8d-a378-4199-b60f-3f46f0f4522c\">\n",
              "    <div class=\"colab-df-container\">\n",
              "      <div>\n",
              "<style scoped>\n",
              "    .dataframe tbody tr th:only-of-type {\n",
              "        vertical-align: middle;\n",
              "    }\n",
              "\n",
              "    .dataframe tbody tr th {\n",
              "        vertical-align: top;\n",
              "    }\n",
              "\n",
              "    .dataframe thead th {\n",
              "        text-align: right;\n",
              "    }\n",
              "</style>\n",
              "<table border=\"1\" class=\"dataframe\">\n",
              "  <thead>\n",
              "    <tr style=\"text-align: right;\">\n",
              "      <th></th>\n",
              "      <th>index</th>\n",
              "      <th>AlbumId</th>\n",
              "      <th>Title</th>\n",
              "      <th>ArtistId</th>\n",
              "      <th>agg</th>\n",
              "    </tr>\n",
              "  </thead>\n",
              "  <tbody>\n",
              "    <tr>\n",
              "      <th>0</th>\n",
              "      <td>0</td>\n",
              "      <td>1</td>\n",
              "      <td>For Those About To Rock We Salute You</td>\n",
              "      <td>1</td>\n",
              "      <td>1</td>\n",
              "    </tr>\n",
              "  </tbody>\n",
              "</table>\n",
              "</div>\n",
              "      <button class=\"colab-df-convert\" onclick=\"convertToInteractive('df-a369cc8d-a378-4199-b60f-3f46f0f4522c')\"\n",
              "              title=\"Convert this dataframe to an interactive table.\"\n",
              "              style=\"display:none;\">\n",
              "        \n",
              "  <svg xmlns=\"http://www.w3.org/2000/svg\" height=\"24px\"viewBox=\"0 0 24 24\"\n",
              "       width=\"24px\">\n",
              "    <path d=\"M0 0h24v24H0V0z\" fill=\"none\"/>\n",
              "    <path d=\"M18.56 5.44l.94 2.06.94-2.06 2.06-.94-2.06-.94-.94-2.06-.94 2.06-2.06.94zm-11 1L8.5 8.5l.94-2.06 2.06-.94-2.06-.94L8.5 2.5l-.94 2.06-2.06.94zm10 10l.94 2.06.94-2.06 2.06-.94-2.06-.94-.94-2.06-.94 2.06-2.06.94z\"/><path d=\"M17.41 7.96l-1.37-1.37c-.4-.4-.92-.59-1.43-.59-.52 0-1.04.2-1.43.59L10.3 9.45l-7.72 7.72c-.78.78-.78 2.05 0 2.83L4 21.41c.39.39.9.59 1.41.59.51 0 1.02-.2 1.41-.59l7.78-7.78 2.81-2.81c.8-.78.8-2.07 0-2.86zM5.41 20L4 18.59l7.72-7.72 1.47 1.35L5.41 20z\"/>\n",
              "  </svg>\n",
              "      </button>\n",
              "      \n",
              "  <style>\n",
              "    .colab-df-container {\n",
              "      display:flex;\n",
              "      flex-wrap:wrap;\n",
              "      gap: 12px;\n",
              "    }\n",
              "\n",
              "    .colab-df-convert {\n",
              "      background-color: #E8F0FE;\n",
              "      border: none;\n",
              "      border-radius: 50%;\n",
              "      cursor: pointer;\n",
              "      display: none;\n",
              "      fill: #1967D2;\n",
              "      height: 32px;\n",
              "      padding: 0 0 0 0;\n",
              "      width: 32px;\n",
              "    }\n",
              "\n",
              "    .colab-df-convert:hover {\n",
              "      background-color: #E2EBFA;\n",
              "      box-shadow: 0px 1px 2px rgba(60, 64, 67, 0.3), 0px 1px 3px 1px rgba(60, 64, 67, 0.15);\n",
              "      fill: #174EA6;\n",
              "    }\n",
              "\n",
              "    [theme=dark] .colab-df-convert {\n",
              "      background-color: #3B4455;\n",
              "      fill: #D2E3FC;\n",
              "    }\n",
              "\n",
              "    [theme=dark] .colab-df-convert:hover {\n",
              "      background-color: #434B5C;\n",
              "      box-shadow: 0px 1px 3px 1px rgba(0, 0, 0, 0.15);\n",
              "      filter: drop-shadow(0px 1px 2px rgba(0, 0, 0, 0.3));\n",
              "      fill: #FFFFFF;\n",
              "    }\n",
              "  </style>\n",
              "\n",
              "      <script>\n",
              "        const buttonEl =\n",
              "          document.querySelector('#df-a369cc8d-a378-4199-b60f-3f46f0f4522c button.colab-df-convert');\n",
              "        buttonEl.style.display =\n",
              "          google.colab.kernel.accessAllowed ? 'block' : 'none';\n",
              "\n",
              "        async function convertToInteractive(key) {\n",
              "          const element = document.querySelector('#df-a369cc8d-a378-4199-b60f-3f46f0f4522c');\n",
              "          const dataTable =\n",
              "            await google.colab.kernel.invokeFunction('convertToInteractive',\n",
              "                                                     [key], {});\n",
              "          if (!dataTable) return;\n",
              "\n",
              "          const docLinkHtml = 'Like what you see? Visit the ' +\n",
              "            '<a target=\"_blank\" href=https://colab.research.google.com/notebooks/data_table.ipynb>data table notebook</a>'\n",
              "            + ' to learn more about interactive tables.';\n",
              "          element.innerHTML = '';\n",
              "          dataTable['output_type'] = 'display_data';\n",
              "          await google.colab.output.renderOutput(dataTable, element);\n",
              "          const docLink = document.createElement('div');\n",
              "          docLink.innerHTML = docLinkHtml;\n",
              "          element.appendChild(docLink);\n",
              "        }\n",
              "      </script>\n",
              "    </div>\n",
              "  </div>\n",
              "  "
            ]
          },
          "metadata": {},
          "execution_count": 108
        }
      ]
    },
    {
      "cell_type": "code",
      "source": [
        "new_df['AlbumId'].count()"
      ],
      "metadata": {
        "colab": {
          "base_uri": "https://localhost:8080/"
        },
        "id": "zq81G2FsTEmx",
        "outputId": "b05db7ff-3dcd-491e-ba75-5777385dc57b"
      },
      "execution_count": null,
      "outputs": [
        {
          "output_type": "execute_result",
          "data": {
            "text/plain": [
              "1041"
            ]
          },
          "metadata": {},
          "execution_count": 111
        }
      ]
    },
    {
      "cell_type": "code",
      "source": [
        "new_df['AlbumId']"
      ],
      "metadata": {
        "colab": {
          "base_uri": "https://localhost:8080/"
        },
        "id": "wAyJJEf2TL6y",
        "outputId": "1e6ffbb5-a33f-495f-c180-656226c1e0b6"
      },
      "execution_count": null,
      "outputs": [
        {
          "output_type": "execute_result",
          "data": {
            "text/plain": [
              "0         1\n",
              "1         2\n",
              "2         3\n",
              "3         4\n",
              "4         5\n",
              "       ... \n",
              "1036    343\n",
              "1037    344\n",
              "1038    345\n",
              "1039    346\n",
              "1040    347\n",
              "Name: AlbumId, Length: 1041, dtype: int64"
            ]
          },
          "metadata": {},
          "execution_count": 114
        }
      ]
    },
    {
      "cell_type": "code",
      "source": [
        "new_df['AlbumId'].duplicated().sum()"
      ],
      "metadata": {
        "colab": {
          "base_uri": "https://localhost:8080/"
        },
        "id": "7ql-tz0ACVCF",
        "outputId": "71142d25-00ab-48e8-da27-e92e4ec3af7b"
      },
      "execution_count": null,
      "outputs": [
        {
          "output_type": "execute_result",
          "data": {
            "text/plain": [
              "694"
            ]
          },
          "metadata": {},
          "execution_count": 115
        }
      ]
    },
    {
      "cell_type": "markdown",
      "metadata": {
        "id": "SZuiqWwN5FsJ"
      },
      "source": [
        "> **Your turn:**\n",
        "* Part 1 - create the tables `tracks`, `albums` and `artists` both as SQLAlchemy Tables and as pandas DataFrames.\n",
        "* Part 2 - Answer the following questions in two ways - using SQLAlchemy and using pandas.\n",
        ">> 1. What is the size of the table `tracks`?\n",
        ">> 2. Which artist has the highest number of tracks?\n",
        "\n",
        "> Don't hesitate to look for the answers online..."
      ]
    },
    {
      "cell_type": "markdown",
      "metadata": {
        "id": "8HdoDK2eY3Xt"
      },
      "source": [
        "### Solution"
      ]
    },
    {
      "cell_type": "markdown",
      "metadata": {
        "id": "qMSjyzkyPEZF"
      },
      "source": [
        "#### Part 1"
      ]
    },
    {
      "cell_type": "code",
      "metadata": {
        "colab": {
          "base_uri": "https://localhost:8080/",
          "height": 479
        },
        "id": "RaH239RbGRj0",
        "outputId": "c044b965-af20-43ba-fdc6-4f336b413138"
      },
      "source": [
        "tracks = Table('tracks', metadata, autoload_with=engine)\n",
        "query = select([tracks])\n",
        "results = conn.execute(query).fetchall()\n",
        "df_tracks = pd.DataFrame(results, columns=tracks.c.keys())\n",
        "df_tracks.head()"
      ],
      "execution_count": null,
      "outputs": [
        {
          "output_type": "stream",
          "name": "stderr",
          "text": [
            "<ipython-input-56-e50fe691bb3f>:3: SAWarning: Dialect sqlite+pysqlite does *not* support Decimal objects natively, and SQLAlchemy must convert from floating point - rounding errors and other issues may occur. Please consider storing Decimal numbers as strings or integers on this platform for lossless storage.\n",
            "  results = conn.execute(query).fetchall()\n"
          ]
        },
        {
          "output_type": "execute_result",
          "data": {
            "text/plain": [
              "   TrackId                                     Name  AlbumId  MediaTypeId  \\\n",
              "0        1  For Those About To Rock (We Salute You)        1            1   \n",
              "1        2                        Balls to the Wall        2            2   \n",
              "2        3                          Fast As a Shark        3            2   \n",
              "3        4                        Restless and Wild        3            2   \n",
              "4        5                     Princess of the Dawn        3            2   \n",
              "\n",
              "   GenreId                                           Composer  Milliseconds  \\\n",
              "0        1          Angus Young, Malcolm Young, Brian Johnson        343719   \n",
              "1        1                                               None        342562   \n",
              "2        1  F. Baltes, S. Kaufman, U. Dirkscneider & W. Ho...        230619   \n",
              "3        1  F. Baltes, R.A. Smith-Diesel, S. Kaufman, U. D...        252051   \n",
              "4        1                         Deaffy & R.A. Smith-Diesel        375418   \n",
              "\n",
              "      Bytes UnitPrice  \n",
              "0  11170334      0.99  \n",
              "1   5510424      0.99  \n",
              "2   3990994      0.99  \n",
              "3   4331779      0.99  \n",
              "4   6290521      0.99  "
            ],
            "text/html": [
              "\n",
              "  <div id=\"df-b74879aa-0dbb-469c-94f4-bdd9b347480f\">\n",
              "    <div class=\"colab-df-container\">\n",
              "      <div>\n",
              "<style scoped>\n",
              "    .dataframe tbody tr th:only-of-type {\n",
              "        vertical-align: middle;\n",
              "    }\n",
              "\n",
              "    .dataframe tbody tr th {\n",
              "        vertical-align: top;\n",
              "    }\n",
              "\n",
              "    .dataframe thead th {\n",
              "        text-align: right;\n",
              "    }\n",
              "</style>\n",
              "<table border=\"1\" class=\"dataframe\">\n",
              "  <thead>\n",
              "    <tr style=\"text-align: right;\">\n",
              "      <th></th>\n",
              "      <th>TrackId</th>\n",
              "      <th>Name</th>\n",
              "      <th>AlbumId</th>\n",
              "      <th>MediaTypeId</th>\n",
              "      <th>GenreId</th>\n",
              "      <th>Composer</th>\n",
              "      <th>Milliseconds</th>\n",
              "      <th>Bytes</th>\n",
              "      <th>UnitPrice</th>\n",
              "    </tr>\n",
              "  </thead>\n",
              "  <tbody>\n",
              "    <tr>\n",
              "      <th>0</th>\n",
              "      <td>1</td>\n",
              "      <td>For Those About To Rock (We Salute You)</td>\n",
              "      <td>1</td>\n",
              "      <td>1</td>\n",
              "      <td>1</td>\n",
              "      <td>Angus Young, Malcolm Young, Brian Johnson</td>\n",
              "      <td>343719</td>\n",
              "      <td>11170334</td>\n",
              "      <td>0.99</td>\n",
              "    </tr>\n",
              "    <tr>\n",
              "      <th>1</th>\n",
              "      <td>2</td>\n",
              "      <td>Balls to the Wall</td>\n",
              "      <td>2</td>\n",
              "      <td>2</td>\n",
              "      <td>1</td>\n",
              "      <td>None</td>\n",
              "      <td>342562</td>\n",
              "      <td>5510424</td>\n",
              "      <td>0.99</td>\n",
              "    </tr>\n",
              "    <tr>\n",
              "      <th>2</th>\n",
              "      <td>3</td>\n",
              "      <td>Fast As a Shark</td>\n",
              "      <td>3</td>\n",
              "      <td>2</td>\n",
              "      <td>1</td>\n",
              "      <td>F. Baltes, S. Kaufman, U. Dirkscneider &amp; W. Ho...</td>\n",
              "      <td>230619</td>\n",
              "      <td>3990994</td>\n",
              "      <td>0.99</td>\n",
              "    </tr>\n",
              "    <tr>\n",
              "      <th>3</th>\n",
              "      <td>4</td>\n",
              "      <td>Restless and Wild</td>\n",
              "      <td>3</td>\n",
              "      <td>2</td>\n",
              "      <td>1</td>\n",
              "      <td>F. Baltes, R.A. Smith-Diesel, S. Kaufman, U. D...</td>\n",
              "      <td>252051</td>\n",
              "      <td>4331779</td>\n",
              "      <td>0.99</td>\n",
              "    </tr>\n",
              "    <tr>\n",
              "      <th>4</th>\n",
              "      <td>5</td>\n",
              "      <td>Princess of the Dawn</td>\n",
              "      <td>3</td>\n",
              "      <td>2</td>\n",
              "      <td>1</td>\n",
              "      <td>Deaffy &amp; R.A. Smith-Diesel</td>\n",
              "      <td>375418</td>\n",
              "      <td>6290521</td>\n",
              "      <td>0.99</td>\n",
              "    </tr>\n",
              "  </tbody>\n",
              "</table>\n",
              "</div>\n",
              "      <button class=\"colab-df-convert\" onclick=\"convertToInteractive('df-b74879aa-0dbb-469c-94f4-bdd9b347480f')\"\n",
              "              title=\"Convert this dataframe to an interactive table.\"\n",
              "              style=\"display:none;\">\n",
              "        \n",
              "  <svg xmlns=\"http://www.w3.org/2000/svg\" height=\"24px\"viewBox=\"0 0 24 24\"\n",
              "       width=\"24px\">\n",
              "    <path d=\"M0 0h24v24H0V0z\" fill=\"none\"/>\n",
              "    <path d=\"M18.56 5.44l.94 2.06.94-2.06 2.06-.94-2.06-.94-.94-2.06-.94 2.06-2.06.94zm-11 1L8.5 8.5l.94-2.06 2.06-.94-2.06-.94L8.5 2.5l-.94 2.06-2.06.94zm10 10l.94 2.06.94-2.06 2.06-.94-2.06-.94-.94-2.06-.94 2.06-2.06.94z\"/><path d=\"M17.41 7.96l-1.37-1.37c-.4-.4-.92-.59-1.43-.59-.52 0-1.04.2-1.43.59L10.3 9.45l-7.72 7.72c-.78.78-.78 2.05 0 2.83L4 21.41c.39.39.9.59 1.41.59.51 0 1.02-.2 1.41-.59l7.78-7.78 2.81-2.81c.8-.78.8-2.07 0-2.86zM5.41 20L4 18.59l7.72-7.72 1.47 1.35L5.41 20z\"/>\n",
              "  </svg>\n",
              "      </button>\n",
              "      \n",
              "  <style>\n",
              "    .colab-df-container {\n",
              "      display:flex;\n",
              "      flex-wrap:wrap;\n",
              "      gap: 12px;\n",
              "    }\n",
              "\n",
              "    .colab-df-convert {\n",
              "      background-color: #E8F0FE;\n",
              "      border: none;\n",
              "      border-radius: 50%;\n",
              "      cursor: pointer;\n",
              "      display: none;\n",
              "      fill: #1967D2;\n",
              "      height: 32px;\n",
              "      padding: 0 0 0 0;\n",
              "      width: 32px;\n",
              "    }\n",
              "\n",
              "    .colab-df-convert:hover {\n",
              "      background-color: #E2EBFA;\n",
              "      box-shadow: 0px 1px 2px rgba(60, 64, 67, 0.3), 0px 1px 3px 1px rgba(60, 64, 67, 0.15);\n",
              "      fill: #174EA6;\n",
              "    }\n",
              "\n",
              "    [theme=dark] .colab-df-convert {\n",
              "      background-color: #3B4455;\n",
              "      fill: #D2E3FC;\n",
              "    }\n",
              "\n",
              "    [theme=dark] .colab-df-convert:hover {\n",
              "      background-color: #434B5C;\n",
              "      box-shadow: 0px 1px 3px 1px rgba(0, 0, 0, 0.15);\n",
              "      filter: drop-shadow(0px 1px 2px rgba(0, 0, 0, 0.3));\n",
              "      fill: #FFFFFF;\n",
              "    }\n",
              "  </style>\n",
              "\n",
              "      <script>\n",
              "        const buttonEl =\n",
              "          document.querySelector('#df-b74879aa-0dbb-469c-94f4-bdd9b347480f button.colab-df-convert');\n",
              "        buttonEl.style.display =\n",
              "          google.colab.kernel.accessAllowed ? 'block' : 'none';\n",
              "\n",
              "        async function convertToInteractive(key) {\n",
              "          const element = document.querySelector('#df-b74879aa-0dbb-469c-94f4-bdd9b347480f');\n",
              "          const dataTable =\n",
              "            await google.colab.kernel.invokeFunction('convertToInteractive',\n",
              "                                                     [key], {});\n",
              "          if (!dataTable) return;\n",
              "\n",
              "          const docLinkHtml = 'Like what you see? Visit the ' +\n",
              "            '<a target=\"_blank\" href=https://colab.research.google.com/notebooks/data_table.ipynb>data table notebook</a>'\n",
              "            + ' to learn more about interactive tables.';\n",
              "          element.innerHTML = '';\n",
              "          dataTable['output_type'] = 'display_data';\n",
              "          await google.colab.output.renderOutput(dataTable, element);\n",
              "          const docLink = document.createElement('div');\n",
              "          docLink.innerHTML = docLinkHtml;\n",
              "          element.appendChild(docLink);\n",
              "        }\n",
              "      </script>\n",
              "    </div>\n",
              "  </div>\n",
              "  "
            ]
          },
          "metadata": {},
          "execution_count": 56
        }
      ]
    },
    {
      "cell_type": "code",
      "metadata": {
        "colab": {
          "base_uri": "https://localhost:8080/",
          "height": 206
        },
        "id": "A9Z_qY6MN6wP",
        "outputId": "ceec8813-60ed-4f81-ac45-c811347669e0"
      },
      "source": [
        "albums = Table('albums', metadata, autoload_with=engine)\n",
        "query = select([albums])\n",
        "results = conn.execute(query).fetchall()\n",
        "df_albums = pd.DataFrame(results, columns=albums.c.keys())\n",
        "df_albums.head()"
      ],
      "execution_count": null,
      "outputs": [
        {
          "output_type": "execute_result",
          "data": {
            "text/plain": [
              "   AlbumId                                  Title  ArtistId\n",
              "0        1  For Those About To Rock We Salute You         1\n",
              "1        2                      Balls to the Wall         2\n",
              "2        3                      Restless and Wild         2\n",
              "3        4                      Let There Be Rock         1\n",
              "4        5                               Big Ones         3"
            ],
            "text/html": [
              "\n",
              "  <div id=\"df-c8520b92-c2e8-4f96-b72d-e216421c6b02\">\n",
              "    <div class=\"colab-df-container\">\n",
              "      <div>\n",
              "<style scoped>\n",
              "    .dataframe tbody tr th:only-of-type {\n",
              "        vertical-align: middle;\n",
              "    }\n",
              "\n",
              "    .dataframe tbody tr th {\n",
              "        vertical-align: top;\n",
              "    }\n",
              "\n",
              "    .dataframe thead th {\n",
              "        text-align: right;\n",
              "    }\n",
              "</style>\n",
              "<table border=\"1\" class=\"dataframe\">\n",
              "  <thead>\n",
              "    <tr style=\"text-align: right;\">\n",
              "      <th></th>\n",
              "      <th>AlbumId</th>\n",
              "      <th>Title</th>\n",
              "      <th>ArtistId</th>\n",
              "    </tr>\n",
              "  </thead>\n",
              "  <tbody>\n",
              "    <tr>\n",
              "      <th>0</th>\n",
              "      <td>1</td>\n",
              "      <td>For Those About To Rock We Salute You</td>\n",
              "      <td>1</td>\n",
              "    </tr>\n",
              "    <tr>\n",
              "      <th>1</th>\n",
              "      <td>2</td>\n",
              "      <td>Balls to the Wall</td>\n",
              "      <td>2</td>\n",
              "    </tr>\n",
              "    <tr>\n",
              "      <th>2</th>\n",
              "      <td>3</td>\n",
              "      <td>Restless and Wild</td>\n",
              "      <td>2</td>\n",
              "    </tr>\n",
              "    <tr>\n",
              "      <th>3</th>\n",
              "      <td>4</td>\n",
              "      <td>Let There Be Rock</td>\n",
              "      <td>1</td>\n",
              "    </tr>\n",
              "    <tr>\n",
              "      <th>4</th>\n",
              "      <td>5</td>\n",
              "      <td>Big Ones</td>\n",
              "      <td>3</td>\n",
              "    </tr>\n",
              "  </tbody>\n",
              "</table>\n",
              "</div>\n",
              "      <button class=\"colab-df-convert\" onclick=\"convertToInteractive('df-c8520b92-c2e8-4f96-b72d-e216421c6b02')\"\n",
              "              title=\"Convert this dataframe to an interactive table.\"\n",
              "              style=\"display:none;\">\n",
              "        \n",
              "  <svg xmlns=\"http://www.w3.org/2000/svg\" height=\"24px\"viewBox=\"0 0 24 24\"\n",
              "       width=\"24px\">\n",
              "    <path d=\"M0 0h24v24H0V0z\" fill=\"none\"/>\n",
              "    <path d=\"M18.56 5.44l.94 2.06.94-2.06 2.06-.94-2.06-.94-.94-2.06-.94 2.06-2.06.94zm-11 1L8.5 8.5l.94-2.06 2.06-.94-2.06-.94L8.5 2.5l-.94 2.06-2.06.94zm10 10l.94 2.06.94-2.06 2.06-.94-2.06-.94-.94-2.06-.94 2.06-2.06.94z\"/><path d=\"M17.41 7.96l-1.37-1.37c-.4-.4-.92-.59-1.43-.59-.52 0-1.04.2-1.43.59L10.3 9.45l-7.72 7.72c-.78.78-.78 2.05 0 2.83L4 21.41c.39.39.9.59 1.41.59.51 0 1.02-.2 1.41-.59l7.78-7.78 2.81-2.81c.8-.78.8-2.07 0-2.86zM5.41 20L4 18.59l7.72-7.72 1.47 1.35L5.41 20z\"/>\n",
              "  </svg>\n",
              "      </button>\n",
              "      \n",
              "  <style>\n",
              "    .colab-df-container {\n",
              "      display:flex;\n",
              "      flex-wrap:wrap;\n",
              "      gap: 12px;\n",
              "    }\n",
              "\n",
              "    .colab-df-convert {\n",
              "      background-color: #E8F0FE;\n",
              "      border: none;\n",
              "      border-radius: 50%;\n",
              "      cursor: pointer;\n",
              "      display: none;\n",
              "      fill: #1967D2;\n",
              "      height: 32px;\n",
              "      padding: 0 0 0 0;\n",
              "      width: 32px;\n",
              "    }\n",
              "\n",
              "    .colab-df-convert:hover {\n",
              "      background-color: #E2EBFA;\n",
              "      box-shadow: 0px 1px 2px rgba(60, 64, 67, 0.3), 0px 1px 3px 1px rgba(60, 64, 67, 0.15);\n",
              "      fill: #174EA6;\n",
              "    }\n",
              "\n",
              "    [theme=dark] .colab-df-convert {\n",
              "      background-color: #3B4455;\n",
              "      fill: #D2E3FC;\n",
              "    }\n",
              "\n",
              "    [theme=dark] .colab-df-convert:hover {\n",
              "      background-color: #434B5C;\n",
              "      box-shadow: 0px 1px 3px 1px rgba(0, 0, 0, 0.15);\n",
              "      filter: drop-shadow(0px 1px 2px rgba(0, 0, 0, 0.3));\n",
              "      fill: #FFFFFF;\n",
              "    }\n",
              "  </style>\n",
              "\n",
              "      <script>\n",
              "        const buttonEl =\n",
              "          document.querySelector('#df-c8520b92-c2e8-4f96-b72d-e216421c6b02 button.colab-df-convert');\n",
              "        buttonEl.style.display =\n",
              "          google.colab.kernel.accessAllowed ? 'block' : 'none';\n",
              "\n",
              "        async function convertToInteractive(key) {\n",
              "          const element = document.querySelector('#df-c8520b92-c2e8-4f96-b72d-e216421c6b02');\n",
              "          const dataTable =\n",
              "            await google.colab.kernel.invokeFunction('convertToInteractive',\n",
              "                                                     [key], {});\n",
              "          if (!dataTable) return;\n",
              "\n",
              "          const docLinkHtml = 'Like what you see? Visit the ' +\n",
              "            '<a target=\"_blank\" href=https://colab.research.google.com/notebooks/data_table.ipynb>data table notebook</a>'\n",
              "            + ' to learn more about interactive tables.';\n",
              "          element.innerHTML = '';\n",
              "          dataTable['output_type'] = 'display_data';\n",
              "          await google.colab.output.renderOutput(dataTable, element);\n",
              "          const docLink = document.createElement('div');\n",
              "          docLink.innerHTML = docLinkHtml;\n",
              "          element.appendChild(docLink);\n",
              "        }\n",
              "      </script>\n",
              "    </div>\n",
              "  </div>\n",
              "  "
            ]
          },
          "metadata": {},
          "execution_count": 57
        }
      ]
    },
    {
      "cell_type": "code",
      "metadata": {
        "colab": {
          "base_uri": "https://localhost:8080/",
          "height": 206
        },
        "id": "uIKA9xvKNkGM",
        "outputId": "011cf4f9-f8b6-495b-91b7-c4c85457551e"
      },
      "source": [
        "artists = Table('artists', metadata, autoload_with=engine)\n",
        "query = select([artists])\n",
        "results = conn.execute(query).fetchall()\n",
        "df_artists = pd.DataFrame(results, columns=artists.c.keys())\n",
        "df_artists.head()"
      ],
      "execution_count": null,
      "outputs": [
        {
          "output_type": "execute_result",
          "data": {
            "text/plain": [
              "   ArtistId               Name\n",
              "0         1              AC/DC\n",
              "1         2             Accept\n",
              "2         3          Aerosmith\n",
              "3         4  Alanis Morissette\n",
              "4         5    Alice In Chains"
            ],
            "text/html": [
              "\n",
              "  <div id=\"df-dda6f0f6-ea24-4a2e-8ee7-99a8347a75b8\">\n",
              "    <div class=\"colab-df-container\">\n",
              "      <div>\n",
              "<style scoped>\n",
              "    .dataframe tbody tr th:only-of-type {\n",
              "        vertical-align: middle;\n",
              "    }\n",
              "\n",
              "    .dataframe tbody tr th {\n",
              "        vertical-align: top;\n",
              "    }\n",
              "\n",
              "    .dataframe thead th {\n",
              "        text-align: right;\n",
              "    }\n",
              "</style>\n",
              "<table border=\"1\" class=\"dataframe\">\n",
              "  <thead>\n",
              "    <tr style=\"text-align: right;\">\n",
              "      <th></th>\n",
              "      <th>ArtistId</th>\n",
              "      <th>Name</th>\n",
              "    </tr>\n",
              "  </thead>\n",
              "  <tbody>\n",
              "    <tr>\n",
              "      <th>0</th>\n",
              "      <td>1</td>\n",
              "      <td>AC/DC</td>\n",
              "    </tr>\n",
              "    <tr>\n",
              "      <th>1</th>\n",
              "      <td>2</td>\n",
              "      <td>Accept</td>\n",
              "    </tr>\n",
              "    <tr>\n",
              "      <th>2</th>\n",
              "      <td>3</td>\n",
              "      <td>Aerosmith</td>\n",
              "    </tr>\n",
              "    <tr>\n",
              "      <th>3</th>\n",
              "      <td>4</td>\n",
              "      <td>Alanis Morissette</td>\n",
              "    </tr>\n",
              "    <tr>\n",
              "      <th>4</th>\n",
              "      <td>5</td>\n",
              "      <td>Alice In Chains</td>\n",
              "    </tr>\n",
              "  </tbody>\n",
              "</table>\n",
              "</div>\n",
              "      <button class=\"colab-df-convert\" onclick=\"convertToInteractive('df-dda6f0f6-ea24-4a2e-8ee7-99a8347a75b8')\"\n",
              "              title=\"Convert this dataframe to an interactive table.\"\n",
              "              style=\"display:none;\">\n",
              "        \n",
              "  <svg xmlns=\"http://www.w3.org/2000/svg\" height=\"24px\"viewBox=\"0 0 24 24\"\n",
              "       width=\"24px\">\n",
              "    <path d=\"M0 0h24v24H0V0z\" fill=\"none\"/>\n",
              "    <path d=\"M18.56 5.44l.94 2.06.94-2.06 2.06-.94-2.06-.94-.94-2.06-.94 2.06-2.06.94zm-11 1L8.5 8.5l.94-2.06 2.06-.94-2.06-.94L8.5 2.5l-.94 2.06-2.06.94zm10 10l.94 2.06.94-2.06 2.06-.94-2.06-.94-.94-2.06-.94 2.06-2.06.94z\"/><path d=\"M17.41 7.96l-1.37-1.37c-.4-.4-.92-.59-1.43-.59-.52 0-1.04.2-1.43.59L10.3 9.45l-7.72 7.72c-.78.78-.78 2.05 0 2.83L4 21.41c.39.39.9.59 1.41.59.51 0 1.02-.2 1.41-.59l7.78-7.78 2.81-2.81c.8-.78.8-2.07 0-2.86zM5.41 20L4 18.59l7.72-7.72 1.47 1.35L5.41 20z\"/>\n",
              "  </svg>\n",
              "      </button>\n",
              "      \n",
              "  <style>\n",
              "    .colab-df-container {\n",
              "      display:flex;\n",
              "      flex-wrap:wrap;\n",
              "      gap: 12px;\n",
              "    }\n",
              "\n",
              "    .colab-df-convert {\n",
              "      background-color: #E8F0FE;\n",
              "      border: none;\n",
              "      border-radius: 50%;\n",
              "      cursor: pointer;\n",
              "      display: none;\n",
              "      fill: #1967D2;\n",
              "      height: 32px;\n",
              "      padding: 0 0 0 0;\n",
              "      width: 32px;\n",
              "    }\n",
              "\n",
              "    .colab-df-convert:hover {\n",
              "      background-color: #E2EBFA;\n",
              "      box-shadow: 0px 1px 2px rgba(60, 64, 67, 0.3), 0px 1px 3px 1px rgba(60, 64, 67, 0.15);\n",
              "      fill: #174EA6;\n",
              "    }\n",
              "\n",
              "    [theme=dark] .colab-df-convert {\n",
              "      background-color: #3B4455;\n",
              "      fill: #D2E3FC;\n",
              "    }\n",
              "\n",
              "    [theme=dark] .colab-df-convert:hover {\n",
              "      background-color: #434B5C;\n",
              "      box-shadow: 0px 1px 3px 1px rgba(0, 0, 0, 0.15);\n",
              "      filter: drop-shadow(0px 1px 2px rgba(0, 0, 0, 0.3));\n",
              "      fill: #FFFFFF;\n",
              "    }\n",
              "  </style>\n",
              "\n",
              "      <script>\n",
              "        const buttonEl =\n",
              "          document.querySelector('#df-dda6f0f6-ea24-4a2e-8ee7-99a8347a75b8 button.colab-df-convert');\n",
              "        buttonEl.style.display =\n",
              "          google.colab.kernel.accessAllowed ? 'block' : 'none';\n",
              "\n",
              "        async function convertToInteractive(key) {\n",
              "          const element = document.querySelector('#df-dda6f0f6-ea24-4a2e-8ee7-99a8347a75b8');\n",
              "          const dataTable =\n",
              "            await google.colab.kernel.invokeFunction('convertToInteractive',\n",
              "                                                     [key], {});\n",
              "          if (!dataTable) return;\n",
              "\n",
              "          const docLinkHtml = 'Like what you see? Visit the ' +\n",
              "            '<a target=\"_blank\" href=https://colab.research.google.com/notebooks/data_table.ipynb>data table notebook</a>'\n",
              "            + ' to learn more about interactive tables.';\n",
              "          element.innerHTML = '';\n",
              "          dataTable['output_type'] = 'display_data';\n",
              "          await google.colab.output.renderOutput(dataTable, element);\n",
              "          const docLink = document.createElement('div');\n",
              "          docLink.innerHTML = docLinkHtml;\n",
              "          element.appendChild(docLink);\n",
              "        }\n",
              "      </script>\n",
              "    </div>\n",
              "  </div>\n",
              "  "
            ]
          },
          "metadata": {},
          "execution_count": 58
        }
      ]
    },
    {
      "cell_type": "markdown",
      "metadata": {
        "id": "u1xXpz30PJCW"
      },
      "source": [
        "#### Part 2"
      ]
    },
    {
      "cell_type": "markdown",
      "metadata": {
        "id": "iSqJ72MgPSCa"
      },
      "source": [
        "##### Question 1"
      ]
    },
    {
      "cell_type": "markdown",
      "metadata": {
        "id": "t_rQftg2ZxrR"
      },
      "source": [
        "Based on [`count()` documentation](https://docs.sqlalchemy.org/en/13/core/functions.html#sqlalchemy.sql.functions.count)"
      ]
    },
    {
      "cell_type": "code",
      "metadata": {
        "colab": {
          "base_uri": "https://localhost:8080/"
        },
        "id": "Wc1VrB2SZuBz",
        "outputId": "1b37e229-97d5-4ddb-a9f9-52a5ce63a4e1"
      },
      "source": [
        "query = select([func.count()]).select_from(tracks)\n",
        "conn.execute(query).fetchall()"
      ],
      "execution_count": null,
      "outputs": [
        {
          "output_type": "execute_result",
          "data": {
            "text/plain": [
              "[(3503,)]"
            ]
          },
          "metadata": {},
          "execution_count": 59
        }
      ]
    },
    {
      "cell_type": "markdown",
      "metadata": {
        "id": "-UgcZFWHPQ46"
      },
      "source": [
        "Or..."
      ]
    },
    {
      "cell_type": "code",
      "metadata": {
        "colab": {
          "base_uri": "https://localhost:8080/"
        },
        "id": "F3P4wJzIPWAl",
        "outputId": "9145c923-37b0-48fd-89bc-08e32686c1ac"
      },
      "source": [
        "len(df_tracks)"
      ],
      "execution_count": null,
      "outputs": [
        {
          "output_type": "execute_result",
          "data": {
            "text/plain": [
              "3503"
            ]
          },
          "metadata": {},
          "execution_count": 60
        }
      ]
    },
    {
      "cell_type": "markdown",
      "metadata": {
        "id": "Kg09QTatPays"
      },
      "source": [
        "##### Question 2"
      ]
    },
    {
      "cell_type": "code",
      "metadata": {
        "id": "ZIvSwbYeGRmo"
      },
      "source": [
        "join_stmt = tracks.join(albums, tracks.c.AlbumId == albums.c.AlbumId)\\\n",
        "    .join(artists, albums.c.ArtistId == artists.c.ArtistId)"
      ],
      "execution_count": null,
      "outputs": []
    },
    {
      "cell_type": "markdown",
      "metadata": {
        "id": "mnNyYSDBTAgK"
      },
      "source": [
        "Based on [`order_by()`](https://docs.sqlalchemy.org/en/13/core/selectable.html?highlight=order_by#sqlalchemy.sql.expression.Select.order_by), [`desc()`](https://docs.sqlalchemy.org/en/13/core/sqlelement.html?highlight=desc#sqlalchemy.sql.expression.desc) and [`label()`](https://docs.sqlalchemy.org/en/13/core/sqlelement.html#sqlalchemy.sql.expression.label)  documentation."
      ]
    },
    {
      "cell_type": "code",
      "metadata": {
        "id": "HApKEj0dQYG6"
      },
      "source": [
        "query = select([artists.c.Name, func.count(tracks.c.TrackId).label('tracks_count')])\\\n",
        "    .select_from(join_stmt)\\\n",
        "    .group_by(artists.c.ArtistId)\\\n",
        "    .order_by(desc('tracks_count'))"
      ],
      "execution_count": null,
      "outputs": []
    },
    {
      "cell_type": "code",
      "metadata": {
        "colab": {
          "base_uri": "https://localhost:8080/"
        },
        "id": "cTZ6tXJjQFIy",
        "outputId": "c19df338-96ab-4054-b6c9-f159c866d0fc"
      },
      "source": [
        "conn.execute(query).fetchmany(5)"
      ],
      "execution_count": null,
      "outputs": [
        {
          "output_type": "execute_result",
          "data": {
            "text/plain": [
              "[('Iron Maiden', 213),\n",
              " ('U2', 135),\n",
              " ('Led Zeppelin', 114),\n",
              " ('Metallica', 112),\n",
              " ('Deep Purple', 92)]"
            ]
          },
          "metadata": {},
          "execution_count": 63
        }
      ]
    },
    {
      "cell_type": "markdown",
      "metadata": {
        "id": "RztDBwPpVByH"
      },
      "source": [
        "Or (with the help of the [`DataFrame.join()` documentation](https://pandas.pydata.org/pandas-docs/stable/reference/api/pandas.DataFrame.join.html))..."
      ]
    },
    {
      "cell_type": "code",
      "metadata": {
        "colab": {
          "base_uri": "https://localhost:8080/"
        },
        "id": "Q6MVvudiH4Ne",
        "outputId": "4e1bac4d-b144-448f-ebdd-f52325a6a031"
      },
      "source": [
        "df_all = df_tracks\\\n",
        "    .join(df_albums.set_index('AlbumId'), on='AlbumId')\\\n",
        "    .join(df_artists.set_index('ArtistId'), on='ArtistId',\n",
        "          lsuffix='_l', rsuffix='_r')\n",
        "df_all.Name_r.value_counts()[:5]"
      ],
      "execution_count": null,
      "outputs": [
        {
          "output_type": "execute_result",
          "data": {
            "text/plain": [
              "Iron Maiden     213\n",
              "U2              135\n",
              "Led Zeppelin    114\n",
              "Metallica       112\n",
              "Lost             92\n",
              "Name: Name_r, dtype: int64"
            ]
          },
          "metadata": {},
          "execution_count": 64
        }
      ]
    },
    {
      "cell_type": "markdown",
      "metadata": {
        "id": "W9B1ysgJHnU4"
      },
      "source": [
        "# Create your own DB"
      ]
    },
    {
      "cell_type": "markdown",
      "metadata": {
        "id": "X_FpE5IpVgqr"
      },
      "source": [
        "## Table creation"
      ]
    },
    {
      "cell_type": "markdown",
      "metadata": {
        "id": "xvBe6FFkXpJo"
      },
      "source": [
        "For this tutorial we will use an in-memory-only SQLite database. This is an easy way to test things without needing to have an actual database defined anywhere."
      ]
    },
    {
      "cell_type": "code",
      "metadata": {
        "id": "dm7Z_x6D_qDv"
      },
      "source": [
        "engine = create_engine('sqlite:///:memory:', echo=False)"
      ],
      "execution_count": null,
      "outputs": []
    },
    {
      "cell_type": "markdown",
      "metadata": {
        "id": "G_H88OGkX4cV"
      },
      "source": [
        "We have to define a metadata object."
      ]
    },
    {
      "cell_type": "code",
      "metadata": {
        "id": "ZjZewlycUoRm"
      },
      "source": [
        "metadata = MetaData()"
      ],
      "execution_count": null,
      "outputs": []
    },
    {
      "cell_type": "markdown",
      "metadata": {
        "id": "kI9wWs_BYGvG"
      },
      "source": [
        "Next we define the schemas of the tables."
      ]
    },
    {
      "cell_type": "markdown",
      "metadata": {
        "id": "3senhx-6Z8YK"
      },
      "source": []
    },
    {
      "cell_type": "code",
      "metadata": {
        "id": "P9sEIULZZ8w4"
      },
      "source": [
        "users = Table('users', metadata,\n",
        "    Column('id', Integer),\n",
        "    Column('name', String),\n",
        "    Column('fullname', String),\n",
        ")"
      ],
      "execution_count": null,
      "outputs": []
    },
    {
      "cell_type": "code",
      "metadata": {
        "id": "9LSNQTosazr1"
      },
      "source": [
        "addresses = Table('addresses', metadata,\n",
        "    Column('id', Integer),\n",
        "    Column('user_id', Integer),\n",
        "    Column('email_address', String)\n",
        ")"
      ],
      "execution_count": null,
      "outputs": []
    },
    {
      "cell_type": "markdown",
      "metadata": {
        "id": "Sod8jayga1do"
      },
      "source": [
        "> **Note:** The metadata object makes sure there are no ambiguities in the database. Try to create another table with the same name and read the exception."
      ]
    },
    {
      "cell_type": "markdown",
      "metadata": {
        "id": "FhrwLu63YKgb"
      },
      "source": [
        "Finally, we use the metadata object to create all the tables."
      ]
    },
    {
      "cell_type": "code",
      "metadata": {
        "id": "wLkgR4V2R_At"
      },
      "source": [
        "metadata.create_all(engine)"
      ],
      "execution_count": null,
      "outputs": []
    },
    {
      "cell_type": "markdown",
      "metadata": {
        "id": "jGQwSbDYVpsO"
      },
      "source": [
        "## Insert data"
      ]
    },
    {
      "cell_type": "markdown",
      "metadata": {
        "id": "sRr4byF3YTtJ"
      },
      "source": [
        "All operations are sent to the database through the connection object."
      ]
    },
    {
      "cell_type": "code",
      "metadata": {
        "id": "c_hGJLRPC-SK"
      },
      "source": [
        "conn = engine.connect()"
      ],
      "execution_count": null,
      "outputs": []
    },
    {
      "cell_type": "markdown",
      "metadata": {
        "id": "bj1mO6DyYafU"
      },
      "source": [
        "The [`insert()`](https://docs.sqlalchemy.org/en/13/core/dml.html#sqlalchemy.sql.expression.insert) method is a wrapper for SQL's INSERT command."
      ]
    },
    {
      "cell_type": "code",
      "metadata": {
        "id": "V8Iq8YrlAMTe"
      },
      "source": [
        "ins = users.insert().values(id=1234, name='jack', fullname='Jack Jones')"
      ],
      "execution_count": null,
      "outputs": []
    },
    {
      "cell_type": "code",
      "metadata": {
        "colab": {
          "base_uri": "https://localhost:8080/",
          "height": 36
        },
        "id": "PvPvWc0cAM0x",
        "outputId": "db5af388-c04f-4602-d7db-573d1102c4b3"
      },
      "source": [
        "str(ins)"
      ],
      "execution_count": null,
      "outputs": [
        {
          "output_type": "execute_result",
          "data": {
            "text/plain": [
              "'INSERT INTO users (id, name, fullname) VALUES (:id, :name, :fullname)'"
            ],
            "application/vnd.google.colaboratory.intrinsic+json": {
              "type": "string"
            }
          },
          "metadata": {},
          "execution_count": 78
        }
      ]
    },
    {
      "cell_type": "code",
      "metadata": {
        "id": "e0rdRePDC_vi"
      },
      "source": [
        "result = conn.execute(ins)"
      ],
      "execution_count": null,
      "outputs": []
    },
    {
      "cell_type": "markdown",
      "metadata": {
        "id": "ASRZy6hzV7YA"
      },
      "source": [
        "> **Note:** This `ResultProxy` object does not contain any result."
      ]
    },
    {
      "cell_type": "markdown",
      "metadata": {
        "id": "kloOnq-RaNXc"
      },
      "source": [
        "### Testing"
      ]
    },
    {
      "cell_type": "code",
      "metadata": {
        "colab": {
          "base_uri": "https://localhost:8080/"
        },
        "id": "Hao13MQTaPat",
        "outputId": "7e714a60-5830-40fc-eed5-e25cea3d63ed"
      },
      "source": [
        "conn.execute(select([users])).fetchall()"
      ],
      "execution_count": null,
      "outputs": [
        {
          "output_type": "execute_result",
          "data": {
            "text/plain": [
              "[(1234, 'jack', 'Jack Jones')]"
            ]
          },
          "metadata": {},
          "execution_count": 69
        }
      ]
    },
    {
      "cell_type": "markdown",
      "metadata": {
        "id": "j7tYW0FSWX0_"
      },
      "source": [
        "# Example"
      ]
    },
    {
      "cell_type": "markdown",
      "metadata": {
        "id": "yQVUJVPPYEoM"
      },
      "source": [
        "In this example we do the following:\n",
        "1. We insert the data of the MovieLens files into two database tables.\n",
        "2. We use SQLAlchemy to find the best movie (having at least 30 viewers)."
      ]
    },
    {
      "cell_type": "markdown",
      "metadata": {
        "id": "XQZ-jkVOczWs"
      },
      "source": [
        "## Inspect the data"
      ]
    },
    {
      "cell_type": "code",
      "metadata": {
        "id": "BuGQgqXRWl4x"
      },
      "source": [
        "import sys\n",
        "if 'google.colab' in sys.modules:\n",
        "    from google.colab import files\n",
        "    uploaded = files.upload()"
      ],
      "execution_count": null,
      "outputs": []
    },
    {
      "cell_type": "code",
      "metadata": {
        "colab": {
          "base_uri": "https://localhost:8080/",
          "height": 195
        },
        "id": "QyOrq1J1Yfmh",
        "outputId": "13c27de8-b857-4668-8c2e-c3662eb49b9e"
      },
      "source": [
        "df_movies = pd.read_csv('movies.csv')\n",
        "df_movies.head()"
      ],
      "execution_count": null,
      "outputs": [
        {
          "ename": "FileNotFoundError",
          "evalue": "File b'movies.csv' does not exist",
          "output_type": "error",
          "traceback": [
            "\u001b[1;31m---------------------------------------------------------------------------\u001b[0m",
            "\u001b[1;31mFileNotFoundError\u001b[0m                         Traceback (most recent call last)",
            "\u001b[1;32m<ipython-input-62-85772651bc43>\u001b[0m in \u001b[0;36m<module>\u001b[1;34m()\u001b[0m\n\u001b[1;32m----> 1\u001b[1;33m \u001b[0mdf_movies\u001b[0m \u001b[1;33m=\u001b[0m \u001b[0mpd\u001b[0m\u001b[1;33m.\u001b[0m\u001b[0mread_csv\u001b[0m\u001b[1;33m(\u001b[0m\u001b[1;34m'movies.csv'\u001b[0m\u001b[1;33m)\u001b[0m\u001b[1;33m\u001b[0m\u001b[0m\n\u001b[0m\u001b[0;32m      2\u001b[0m \u001b[0mdf_movies\u001b[0m\u001b[1;33m.\u001b[0m\u001b[0mhead\u001b[0m\u001b[1;33m(\u001b[0m\u001b[1;33m)\u001b[0m\u001b[1;33m\u001b[0m\u001b[0m\n",
            "\u001b[1;32mC:\\ProgramData\\Anaconda31\\lib\\site-packages\\pandas\\io\\parsers.py\u001b[0m in \u001b[0;36mparser_f\u001b[1;34m(filepath_or_buffer, sep, delimiter, header, names, index_col, usecols, squeeze, prefix, mangle_dupe_cols, dtype, engine, converters, true_values, false_values, skipinitialspace, skiprows, nrows, na_values, keep_default_na, na_filter, verbose, skip_blank_lines, parse_dates, infer_datetime_format, keep_date_col, date_parser, dayfirst, iterator, chunksize, compression, thousands, decimal, lineterminator, quotechar, quoting, escapechar, comment, encoding, dialect, tupleize_cols, error_bad_lines, warn_bad_lines, skipfooter, doublequote, delim_whitespace, low_memory, memory_map, float_precision)\u001b[0m\n\u001b[0;32m    676\u001b[0m                     skip_blank_lines=skip_blank_lines)\n\u001b[0;32m    677\u001b[0m \u001b[1;33m\u001b[0m\u001b[0m\n\u001b[1;32m--> 678\u001b[1;33m         \u001b[1;32mreturn\u001b[0m \u001b[0m_read\u001b[0m\u001b[1;33m(\u001b[0m\u001b[0mfilepath_or_buffer\u001b[0m\u001b[1;33m,\u001b[0m \u001b[0mkwds\u001b[0m\u001b[1;33m)\u001b[0m\u001b[1;33m\u001b[0m\u001b[0m\n\u001b[0m\u001b[0;32m    679\u001b[0m \u001b[1;33m\u001b[0m\u001b[0m\n\u001b[0;32m    680\u001b[0m     \u001b[0mparser_f\u001b[0m\u001b[1;33m.\u001b[0m\u001b[0m__name__\u001b[0m \u001b[1;33m=\u001b[0m \u001b[0mname\u001b[0m\u001b[1;33m\u001b[0m\u001b[0m\n",
            "\u001b[1;32mC:\\ProgramData\\Anaconda31\\lib\\site-packages\\pandas\\io\\parsers.py\u001b[0m in \u001b[0;36m_read\u001b[1;34m(filepath_or_buffer, kwds)\u001b[0m\n\u001b[0;32m    438\u001b[0m \u001b[1;33m\u001b[0m\u001b[0m\n\u001b[0;32m    439\u001b[0m     \u001b[1;31m# Create the parser.\u001b[0m\u001b[1;33m\u001b[0m\u001b[1;33m\u001b[0m\u001b[0m\n\u001b[1;32m--> 440\u001b[1;33m     \u001b[0mparser\u001b[0m \u001b[1;33m=\u001b[0m \u001b[0mTextFileReader\u001b[0m\u001b[1;33m(\u001b[0m\u001b[0mfilepath_or_buffer\u001b[0m\u001b[1;33m,\u001b[0m \u001b[1;33m**\u001b[0m\u001b[0mkwds\u001b[0m\u001b[1;33m)\u001b[0m\u001b[1;33m\u001b[0m\u001b[0m\n\u001b[0m\u001b[0;32m    441\u001b[0m \u001b[1;33m\u001b[0m\u001b[0m\n\u001b[0;32m    442\u001b[0m     \u001b[1;32mif\u001b[0m \u001b[0mchunksize\u001b[0m \u001b[1;32mor\u001b[0m \u001b[0miterator\u001b[0m\u001b[1;33m:\u001b[0m\u001b[1;33m\u001b[0m\u001b[0m\n",
            "\u001b[1;32mC:\\ProgramData\\Anaconda31\\lib\\site-packages\\pandas\\io\\parsers.py\u001b[0m in \u001b[0;36m__init__\u001b[1;34m(self, f, engine, **kwds)\u001b[0m\n\u001b[0;32m    785\u001b[0m             \u001b[0mself\u001b[0m\u001b[1;33m.\u001b[0m\u001b[0moptions\u001b[0m\u001b[1;33m[\u001b[0m\u001b[1;34m'has_index_names'\u001b[0m\u001b[1;33m]\u001b[0m \u001b[1;33m=\u001b[0m \u001b[0mkwds\u001b[0m\u001b[1;33m[\u001b[0m\u001b[1;34m'has_index_names'\u001b[0m\u001b[1;33m]\u001b[0m\u001b[1;33m\u001b[0m\u001b[0m\n\u001b[0;32m    786\u001b[0m \u001b[1;33m\u001b[0m\u001b[0m\n\u001b[1;32m--> 787\u001b[1;33m         \u001b[0mself\u001b[0m\u001b[1;33m.\u001b[0m\u001b[0m_make_engine\u001b[0m\u001b[1;33m(\u001b[0m\u001b[0mself\u001b[0m\u001b[1;33m.\u001b[0m\u001b[0mengine\u001b[0m\u001b[1;33m)\u001b[0m\u001b[1;33m\u001b[0m\u001b[0m\n\u001b[0m\u001b[0;32m    788\u001b[0m \u001b[1;33m\u001b[0m\u001b[0m\n\u001b[0;32m    789\u001b[0m     \u001b[1;32mdef\u001b[0m \u001b[0mclose\u001b[0m\u001b[1;33m(\u001b[0m\u001b[0mself\u001b[0m\u001b[1;33m)\u001b[0m\u001b[1;33m:\u001b[0m\u001b[1;33m\u001b[0m\u001b[0m\n",
            "\u001b[1;32mC:\\ProgramData\\Anaconda31\\lib\\site-packages\\pandas\\io\\parsers.py\u001b[0m in \u001b[0;36m_make_engine\u001b[1;34m(self, engine)\u001b[0m\n\u001b[0;32m   1012\u001b[0m     \u001b[1;32mdef\u001b[0m \u001b[0m_make_engine\u001b[0m\u001b[1;33m(\u001b[0m\u001b[0mself\u001b[0m\u001b[1;33m,\u001b[0m \u001b[0mengine\u001b[0m\u001b[1;33m=\u001b[0m\u001b[1;34m'c'\u001b[0m\u001b[1;33m)\u001b[0m\u001b[1;33m:\u001b[0m\u001b[1;33m\u001b[0m\u001b[0m\n\u001b[0;32m   1013\u001b[0m         \u001b[1;32mif\u001b[0m \u001b[0mengine\u001b[0m \u001b[1;33m==\u001b[0m \u001b[1;34m'c'\u001b[0m\u001b[1;33m:\u001b[0m\u001b[1;33m\u001b[0m\u001b[0m\n\u001b[1;32m-> 1014\u001b[1;33m             \u001b[0mself\u001b[0m\u001b[1;33m.\u001b[0m\u001b[0m_engine\u001b[0m \u001b[1;33m=\u001b[0m \u001b[0mCParserWrapper\u001b[0m\u001b[1;33m(\u001b[0m\u001b[0mself\u001b[0m\u001b[1;33m.\u001b[0m\u001b[0mf\u001b[0m\u001b[1;33m,\u001b[0m \u001b[1;33m**\u001b[0m\u001b[0mself\u001b[0m\u001b[1;33m.\u001b[0m\u001b[0moptions\u001b[0m\u001b[1;33m)\u001b[0m\u001b[1;33m\u001b[0m\u001b[0m\n\u001b[0m\u001b[0;32m   1015\u001b[0m         \u001b[1;32melse\u001b[0m\u001b[1;33m:\u001b[0m\u001b[1;33m\u001b[0m\u001b[0m\n\u001b[0;32m   1016\u001b[0m             \u001b[1;32mif\u001b[0m \u001b[0mengine\u001b[0m \u001b[1;33m==\u001b[0m \u001b[1;34m'python'\u001b[0m\u001b[1;33m:\u001b[0m\u001b[1;33m\u001b[0m\u001b[0m\n",
            "\u001b[1;32mC:\\ProgramData\\Anaconda31\\lib\\site-packages\\pandas\\io\\parsers.py\u001b[0m in \u001b[0;36m__init__\u001b[1;34m(self, src, **kwds)\u001b[0m\n\u001b[0;32m   1706\u001b[0m         \u001b[0mkwds\u001b[0m\u001b[1;33m[\u001b[0m\u001b[1;34m'usecols'\u001b[0m\u001b[1;33m]\u001b[0m \u001b[1;33m=\u001b[0m \u001b[0mself\u001b[0m\u001b[1;33m.\u001b[0m\u001b[0musecols\u001b[0m\u001b[1;33m\u001b[0m\u001b[0m\n\u001b[0;32m   1707\u001b[0m \u001b[1;33m\u001b[0m\u001b[0m\n\u001b[1;32m-> 1708\u001b[1;33m         \u001b[0mself\u001b[0m\u001b[1;33m.\u001b[0m\u001b[0m_reader\u001b[0m \u001b[1;33m=\u001b[0m \u001b[0mparsers\u001b[0m\u001b[1;33m.\u001b[0m\u001b[0mTextReader\u001b[0m\u001b[1;33m(\u001b[0m\u001b[0msrc\u001b[0m\u001b[1;33m,\u001b[0m \u001b[1;33m**\u001b[0m\u001b[0mkwds\u001b[0m\u001b[1;33m)\u001b[0m\u001b[1;33m\u001b[0m\u001b[0m\n\u001b[0m\u001b[0;32m   1709\u001b[0m \u001b[1;33m\u001b[0m\u001b[0m\n\u001b[0;32m   1710\u001b[0m         \u001b[0mpassed_names\u001b[0m \u001b[1;33m=\u001b[0m \u001b[0mself\u001b[0m\u001b[1;33m.\u001b[0m\u001b[0mnames\u001b[0m \u001b[1;32mis\u001b[0m \u001b[1;32mNone\u001b[0m\u001b[1;33m\u001b[0m\u001b[0m\n",
            "\u001b[1;32mpandas\\_libs\\parsers.pyx\u001b[0m in \u001b[0;36mpandas._libs.parsers.TextReader.__cinit__\u001b[1;34m()\u001b[0m\n",
            "\u001b[1;32mpandas\\_libs\\parsers.pyx\u001b[0m in \u001b[0;36mpandas._libs.parsers.TextReader._setup_parser_source\u001b[1;34m()\u001b[0m\n",
            "\u001b[1;31mFileNotFoundError\u001b[0m: File b'movies.csv' does not exist"
          ]
        }
      ]
    },
    {
      "cell_type": "code",
      "metadata": {
        "id": "QkedUBX4YuAD"
      },
      "source": [
        "df_ratings = pd.read_csv('ratings.csv')\n",
        "df_ratings.head()"
      ],
      "execution_count": null,
      "outputs": []
    },
    {
      "cell_type": "markdown",
      "metadata": {
        "id": "wjc-SBPIc27D"
      },
      "source": [
        "## Creating the tables"
      ]
    },
    {
      "cell_type": "code",
      "metadata": {
        "id": "DTRz9UPtWbsq"
      },
      "source": [
        "engine = create_engine('sqlite:///:memory:', echo=False)\n",
        "metadata = MetaData()\n",
        "conn = engine.connect()"
      ],
      "execution_count": null,
      "outputs": []
    },
    {
      "cell_type": "code",
      "metadata": {
        "id": "I-adCFXAWgEl"
      },
      "source": [
        "movies = Table('movies', metadata,\n",
        "    Column('movieID', Integer),\n",
        "    Column('title', String),\n",
        "    Column('genres', String),\n",
        ")"
      ],
      "execution_count": null,
      "outputs": []
    },
    {
      "cell_type": "code",
      "metadata": {
        "id": "Lt7ZL4DHc6o8"
      },
      "source": [
        "ratings = Table('ratings', metadata,\n",
        "    Column('userID', Integer),\n",
        "    Column('movieID', Integer),\n",
        "    Column('rating', Float),\n",
        "    Column('timestamp', Integer)\n",
        ")"
      ],
      "execution_count": null,
      "outputs": []
    },
    {
      "cell_type": "code",
      "metadata": {
        "id": "-i3GRMjkaqOd"
      },
      "source": [
        "metadata.create_all(engine)"
      ],
      "execution_count": null,
      "outputs": []
    },
    {
      "cell_type": "markdown",
      "metadata": {
        "id": "iHv5iY8VdLbm"
      },
      "source": [
        "## Inserting the data"
      ]
    },
    {
      "cell_type": "code",
      "metadata": {
        "id": "nONZ-MS_XzOV"
      },
      "source": [
        "for ind, row in df_movies.iterrows():\n",
        "    ins = movies.insert().values(movieID=row.movieID, title=row.title, genres=row.genres)\n",
        "    conn.execute(ins)"
      ],
      "execution_count": null,
      "outputs": []
    },
    {
      "cell_type": "code",
      "metadata": {
        "id": "2fukJwkPtEXk"
      },
      "source": [
        "conn.execute(select([movies])).fetchmany(5)"
      ],
      "execution_count": null,
      "outputs": []
    },
    {
      "cell_type": "code",
      "metadata": {
        "id": "xbhlkxSzaag4"
      },
      "source": [
        "for ind, row in df_ratings.iterrows():\n",
        "    ins = ratings.insert().values(userID=row.userID, movieID=row.movieID, rating=row.rating, timestamp=row.timestamp)\n",
        "    conn.execute(ins)"
      ],
      "execution_count": null,
      "outputs": []
    },
    {
      "cell_type": "code",
      "metadata": {
        "id": "SKmdNWQrtQCm"
      },
      "source": [
        "conn.execute(select([ratings])).fetchmany(5)"
      ],
      "execution_count": null,
      "outputs": []
    },
    {
      "cell_type": "markdown",
      "metadata": {
        "id": "suf57jlcdO9K"
      },
      "source": [
        "## Executing the query"
      ]
    },
    {
      "cell_type": "code",
      "metadata": {
        "id": "ipVZHgV13dXP"
      },
      "source": [
        "join_stmt = movies.join(ratings, ratings.c.movieID == movies.c.movieID)"
      ],
      "execution_count": null,
      "outputs": []
    },
    {
      "cell_type": "markdown",
      "metadata": {
        "id": "iBGC00budT6k"
      },
      "source": [
        "**To Be Continued**"
      ]
    },
    {
      "cell_type": "code",
      "metadata": {
        "id": "r4b-YtcM2tkP"
      },
      "source": [
        "engine = create_engine('mssql+pyodbc://{}:{}@'.format(server_user, server_password) \\\n",
        "                            + server_name + '/' + \\\n",
        "                            db_name + '?trusted_connection=no&driver=ODBC+Driver+17+for+SQL+server')"
      ],
      "execution_count": null,
      "outputs": []
    },
    {
      "cell_type": "code",
      "source": [],
      "metadata": {
        "id": "dpMhGVsW22ZY"
      },
      "execution_count": null,
      "outputs": []
    }
  ]
}